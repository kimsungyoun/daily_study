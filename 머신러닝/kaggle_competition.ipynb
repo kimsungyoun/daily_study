{
 "cells": [
  {
   "cell_type": "markdown",
   "id": "3154b08d",
   "metadata": {},
   "source": [
    "# 머신러닝 과정\n",
    "1. 문제 정의\n",
    "2. 데이터 수집\n",
    "3. 데이터 전처리\n",
    "4. 탐색적 데이터 분석\n",
    "5. 모델 선택 및 하이퍼파라미터 조정\n",
    "6. 모델 학습\n",
    "7. 모델 평가"
   ]
  },
  {
   "cell_type": "markdown",
   "id": "9ba22f1e",
   "metadata": {},
   "source": [
    "# 1. 문제 정의\n",
    "- 머신러닝을 활용하여 물품 배송 데이터를 분석하고, 제 시간에 물건이 배송되었는지 예측해보자!"
   ]
  },
  {
   "cell_type": "markdown",
   "id": "42322d33",
   "metadata": {},
   "source": [
    "# 2. 데이터 수집"
   ]
  },
  {
   "cell_type": "code",
   "execution_count": 1,
   "id": "ba2d4215",
   "metadata": {},
   "outputs": [],
   "source": [
    "# 필요한 라이브러리 import\n",
    "import pandas as pd\n",
    "import numpy as np\n",
    "import matplotlib.pyplot as plt\n",
    "import seaborn as sns"
   ]
  },
  {
   "cell_type": "markdown",
   "id": "b1a41316",
   "metadata": {},
   "source": [
    "## 학습/검증 데이터 불러오기"
   ]
  },
  {
   "cell_type": "code",
   "execution_count": 2,
   "id": "7790ea97",
   "metadata": {},
   "outputs": [],
   "source": [
    "train = pd.read_csv('./kaggle_data/Train.csv', index_col='ID')\n",
    "test = pd.read_csv('./kaggle_data/test.csv', index_col='ID')"
   ]
  },
  {
   "cell_type": "code",
   "execution_count": 3,
   "id": "3c799dbf",
   "metadata": {},
   "outputs": [
    {
     "data": {
      "text/html": [
       "<div>\n",
       "<style scoped>\n",
       "    .dataframe tbody tr th:only-of-type {\n",
       "        vertical-align: middle;\n",
       "    }\n",
       "\n",
       "    .dataframe tbody tr th {\n",
       "        vertical-align: top;\n",
       "    }\n",
       "\n",
       "    .dataframe thead th {\n",
       "        text-align: right;\n",
       "    }\n",
       "</style>\n",
       "<table border=\"1\" class=\"dataframe\">\n",
       "  <thead>\n",
       "    <tr style=\"text-align: right;\">\n",
       "      <th></th>\n",
       "      <th>Warehouse_block</th>\n",
       "      <th>Mode_of_Shipment</th>\n",
       "      <th>Customer_care_calls</th>\n",
       "      <th>Customer_rating</th>\n",
       "      <th>Cost_of_the_Product</th>\n",
       "      <th>Prior_purchases</th>\n",
       "      <th>Product_importance</th>\n",
       "      <th>Gender</th>\n",
       "      <th>Discount_offered</th>\n",
       "      <th>Weight_in_gms</th>\n",
       "      <th>Reached.on.Time_Y.N</th>\n",
       "    </tr>\n",
       "    <tr>\n",
       "      <th>ID</th>\n",
       "      <th></th>\n",
       "      <th></th>\n",
       "      <th></th>\n",
       "      <th></th>\n",
       "      <th></th>\n",
       "      <th></th>\n",
       "      <th></th>\n",
       "      <th></th>\n",
       "      <th></th>\n",
       "      <th></th>\n",
       "      <th></th>\n",
       "    </tr>\n",
       "  </thead>\n",
       "  <tbody>\n",
       "    <tr>\n",
       "      <th>1</th>\n",
       "      <td>C</td>\n",
       "      <td>Ship</td>\n",
       "      <td>2.0</td>\n",
       "      <td>2</td>\n",
       "      <td>135</td>\n",
       "      <td>3.0</td>\n",
       "      <td>low</td>\n",
       "      <td>M</td>\n",
       "      <td>NaN</td>\n",
       "      <td>1339</td>\n",
       "      <td>1</td>\n",
       "    </tr>\n",
       "    <tr>\n",
       "      <th>2</th>\n",
       "      <td>F</td>\n",
       "      <td>Flight</td>\n",
       "      <td>5.0</td>\n",
       "      <td>3</td>\n",
       "      <td>225</td>\n",
       "      <td>5.0</td>\n",
       "      <td>low</td>\n",
       "      <td>F</td>\n",
       "      <td>6.0</td>\n",
       "      <td>1082</td>\n",
       "      <td>0</td>\n",
       "    </tr>\n",
       "    <tr>\n",
       "      <th>3</th>\n",
       "      <td>F</td>\n",
       "      <td>Ship</td>\n",
       "      <td>3.0</td>\n",
       "      <td>1</td>\n",
       "      <td>229</td>\n",
       "      <td>3.0</td>\n",
       "      <td>low</td>\n",
       "      <td>M</td>\n",
       "      <td>NaN</td>\n",
       "      <td>4971</td>\n",
       "      <td>1</td>\n",
       "    </tr>\n",
       "    <tr>\n",
       "      <th>4</th>\n",
       "      <td>F</td>\n",
       "      <td>Ship</td>\n",
       "      <td>3.0</td>\n",
       "      <td>2</td>\n",
       "      <td>228</td>\n",
       "      <td>NaN</td>\n",
       "      <td>medium</td>\n",
       "      <td>M</td>\n",
       "      <td>2.0</td>\n",
       "      <td>5640</td>\n",
       "      <td>0</td>\n",
       "    </tr>\n",
       "    <tr>\n",
       "      <th>5</th>\n",
       "      <td>D</td>\n",
       "      <td>Flight</td>\n",
       "      <td>NaN</td>\n",
       "      <td>1</td>\n",
       "      <td>195</td>\n",
       "      <td>6.0</td>\n",
       "      <td>high</td>\n",
       "      <td>F</td>\n",
       "      <td>NaN</td>\n",
       "      <td>4944</td>\n",
       "      <td>1</td>\n",
       "    </tr>\n",
       "    <tr>\n",
       "      <th>...</th>\n",
       "      <td>...</td>\n",
       "      <td>...</td>\n",
       "      <td>...</td>\n",
       "      <td>...</td>\n",
       "      <td>...</td>\n",
       "      <td>...</td>\n",
       "      <td>...</td>\n",
       "      <td>...</td>\n",
       "      <td>...</td>\n",
       "      <td>...</td>\n",
       "      <td>...</td>\n",
       "    </tr>\n",
       "    <tr>\n",
       "      <th>6995</th>\n",
       "      <td>D</td>\n",
       "      <td>Ship</td>\n",
       "      <td>4.0</td>\n",
       "      <td>2</td>\n",
       "      <td>232</td>\n",
       "      <td>5.0</td>\n",
       "      <td>medium</td>\n",
       "      <td>F</td>\n",
       "      <td>4.0</td>\n",
       "      <td>1783</td>\n",
       "      <td>0</td>\n",
       "    </tr>\n",
       "    <tr>\n",
       "      <th>6996</th>\n",
       "      <td>F</td>\n",
       "      <td>Ship</td>\n",
       "      <td>3.0</td>\n",
       "      <td>5</td>\n",
       "      <td>228</td>\n",
       "      <td>2.0</td>\n",
       "      <td>medium</td>\n",
       "      <td>F</td>\n",
       "      <td>NaN</td>\n",
       "      <td>5208</td>\n",
       "      <td>0</td>\n",
       "    </tr>\n",
       "    <tr>\n",
       "      <th>6997</th>\n",
       "      <td>D</td>\n",
       "      <td>Ship</td>\n",
       "      <td>NaN</td>\n",
       "      <td>1</td>\n",
       "      <td>300</td>\n",
       "      <td>5.0</td>\n",
       "      <td>low</td>\n",
       "      <td>F</td>\n",
       "      <td>10.0</td>\n",
       "      <td>1787</td>\n",
       "      <td>0</td>\n",
       "    </tr>\n",
       "    <tr>\n",
       "      <th>6998</th>\n",
       "      <td>A</td>\n",
       "      <td>Road</td>\n",
       "      <td>3.0</td>\n",
       "      <td>1</td>\n",
       "      <td>232</td>\n",
       "      <td>2.0</td>\n",
       "      <td>medium</td>\n",
       "      <td>M</td>\n",
       "      <td>NaN</td>\n",
       "      <td>4719</td>\n",
       "      <td>0</td>\n",
       "    </tr>\n",
       "    <tr>\n",
       "      <th>6999</th>\n",
       "      <td>A</td>\n",
       "      <td>Ship</td>\n",
       "      <td>3.0</td>\n",
       "      <td>3</td>\n",
       "      <td>262</td>\n",
       "      <td>7.0</td>\n",
       "      <td>high</td>\n",
       "      <td>F</td>\n",
       "      <td>NaN</td>\n",
       "      <td>5097</td>\n",
       "      <td>0</td>\n",
       "    </tr>\n",
       "  </tbody>\n",
       "</table>\n",
       "<p>6999 rows × 11 columns</p>\n",
       "</div>"
      ],
      "text/plain": [
       "     Warehouse_block  Mode_of_Shipment  Customer_care_calls  Customer_rating  \\\n",
       "ID                                                                             \n",
       "1                   C             Ship                  2.0                2   \n",
       "2                   F           Flight                  5.0                3   \n",
       "3                   F             Ship                  3.0                1   \n",
       "4                   F             Ship                  3.0                2   \n",
       "5                   D           Flight                  NaN                1   \n",
       "...               ...              ...                  ...              ...   \n",
       "6995                D             Ship                  4.0                2   \n",
       "6996                F             Ship                  3.0                5   \n",
       "6997                D             Ship                  NaN                1   \n",
       "6998                A             Road                  3.0                1   \n",
       "6999                A             Ship                  3.0                3   \n",
       "\n",
       "      Cost_of_the_Product  Prior_purchases Product_importance Gender  \\\n",
       "ID                                                                     \n",
       "1                     135              3.0                low      M   \n",
       "2                     225              5.0                low      F   \n",
       "3                     229              3.0                low      M   \n",
       "4                     228              NaN             medium      M   \n",
       "5                     195              6.0               high      F   \n",
       "...                   ...              ...                ...    ...   \n",
       "6995                  232              5.0             medium      F   \n",
       "6996                  228              2.0             medium      F   \n",
       "6997                  300              5.0                low      F   \n",
       "6998                  232              2.0             medium      M   \n",
       "6999                  262              7.0               high      F   \n",
       "\n",
       "      Discount_offered Weight_in_gms  Reached.on.Time_Y.N  \n",
       "ID                                                         \n",
       "1                  NaN          1339                    1  \n",
       "2                  6.0          1082                    0  \n",
       "3                  NaN          4971                    1  \n",
       "4                  2.0          5640                    0  \n",
       "5                  NaN          4944                    1  \n",
       "...                ...           ...                  ...  \n",
       "6995               4.0          1783                    0  \n",
       "6996               NaN          5208                    0  \n",
       "6997              10.0          1787                    0  \n",
       "6998               NaN          4719                    0  \n",
       "6999               NaN          5097                    0  \n",
       "\n",
       "[6999 rows x 11 columns]"
      ]
     },
     "execution_count": 3,
     "metadata": {},
     "output_type": "execute_result"
    }
   ],
   "source": [
    "train"
   ]
  },
  {
   "cell_type": "code",
   "execution_count": 4,
   "id": "f6640b83",
   "metadata": {},
   "outputs": [
    {
     "data": {
      "text/html": [
       "<div>\n",
       "<style scoped>\n",
       "    .dataframe tbody tr th:only-of-type {\n",
       "        vertical-align: middle;\n",
       "    }\n",
       "\n",
       "    .dataframe tbody tr th {\n",
       "        vertical-align: top;\n",
       "    }\n",
       "\n",
       "    .dataframe thead th {\n",
       "        text-align: right;\n",
       "    }\n",
       "</style>\n",
       "<table border=\"1\" class=\"dataframe\">\n",
       "  <thead>\n",
       "    <tr style=\"text-align: right;\">\n",
       "      <th></th>\n",
       "      <th>Warehouse_block</th>\n",
       "      <th>Mode_of_Shipment</th>\n",
       "      <th>Customer_care_calls</th>\n",
       "      <th>Customer_rating</th>\n",
       "      <th>Cost_of_the_Product</th>\n",
       "      <th>Prior_purchases</th>\n",
       "      <th>Product_importance</th>\n",
       "      <th>Gender</th>\n",
       "      <th>Discount_offered</th>\n",
       "      <th>Weight_in_gms</th>\n",
       "    </tr>\n",
       "    <tr>\n",
       "      <th>ID</th>\n",
       "      <th></th>\n",
       "      <th></th>\n",
       "      <th></th>\n",
       "      <th></th>\n",
       "      <th></th>\n",
       "      <th></th>\n",
       "      <th></th>\n",
       "      <th></th>\n",
       "      <th></th>\n",
       "      <th></th>\n",
       "    </tr>\n",
       "  </thead>\n",
       "  <tbody>\n",
       "    <tr>\n",
       "      <th>7000</th>\n",
       "      <td>F</td>\n",
       "      <td>Ship</td>\n",
       "      <td>3.0</td>\n",
       "      <td>1</td>\n",
       "      <td>274</td>\n",
       "      <td>NaN</td>\n",
       "      <td>high</td>\n",
       "      <td>M</td>\n",
       "      <td>NaN</td>\n",
       "      <td>4352</td>\n",
       "    </tr>\n",
       "    <tr>\n",
       "      <th>7001</th>\n",
       "      <td>F</td>\n",
       "      <td>Ship</td>\n",
       "      <td>3.0</td>\n",
       "      <td>4</td>\n",
       "      <td>136</td>\n",
       "      <td>2.0</td>\n",
       "      <td>medium</td>\n",
       "      <td>F</td>\n",
       "      <td>NaN</td>\n",
       "      <td>1056</td>\n",
       "    </tr>\n",
       "    <tr>\n",
       "      <th>7002</th>\n",
       "      <td>A</td>\n",
       "      <td>Flight</td>\n",
       "      <td>NaN</td>\n",
       "      <td>5</td>\n",
       "      <td>140</td>\n",
       "      <td>3.0</td>\n",
       "      <td>low</td>\n",
       "      <td>F</td>\n",
       "      <td>7.0</td>\n",
       "      <td>5383</td>\n",
       "    </tr>\n",
       "    <tr>\n",
       "      <th>7003</th>\n",
       "      <td>C</td>\n",
       "      <td>Ship</td>\n",
       "      <td>NaN</td>\n",
       "      <td>1</td>\n",
       "      <td>291</td>\n",
       "      <td>4.0</td>\n",
       "      <td>low</td>\n",
       "      <td>F</td>\n",
       "      <td>NaN</td>\n",
       "      <td>1880</td>\n",
       "    </tr>\n",
       "    <tr>\n",
       "      <th>7004</th>\n",
       "      <td>F</td>\n",
       "      <td>?</td>\n",
       "      <td>4.0</td>\n",
       "      <td>2</td>\n",
       "      <td>147</td>\n",
       "      <td>3.0</td>\n",
       "      <td>low</td>\n",
       "      <td>F</td>\n",
       "      <td>5.0</td>\n",
       "      <td>5174</td>\n",
       "    </tr>\n",
       "    <tr>\n",
       "      <th>...</th>\n",
       "      <td>...</td>\n",
       "      <td>...</td>\n",
       "      <td>...</td>\n",
       "      <td>...</td>\n",
       "      <td>...</td>\n",
       "      <td>...</td>\n",
       "      <td>...</td>\n",
       "      <td>...</td>\n",
       "      <td>...</td>\n",
       "      <td>...</td>\n",
       "    </tr>\n",
       "    <tr>\n",
       "      <th>10995</th>\n",
       "      <td>A</td>\n",
       "      <td>?</td>\n",
       "      <td>4.0</td>\n",
       "      <td>1</td>\n",
       "      <td>204</td>\n",
       "      <td>4.0</td>\n",
       "      <td>?</td>\n",
       "      <td>F</td>\n",
       "      <td>NaN</td>\n",
       "      <td>1667</td>\n",
       "    </tr>\n",
       "    <tr>\n",
       "      <th>10996</th>\n",
       "      <td>C</td>\n",
       "      <td>Ship</td>\n",
       "      <td>NaN</td>\n",
       "      <td>3</td>\n",
       "      <td>195</td>\n",
       "      <td>2.0</td>\n",
       "      <td>medium</td>\n",
       "      <td>M</td>\n",
       "      <td>NaN</td>\n",
       "      <td>3869</td>\n",
       "    </tr>\n",
       "    <tr>\n",
       "      <th>10997</th>\n",
       "      <td>B</td>\n",
       "      <td>Flight</td>\n",
       "      <td>NaN</td>\n",
       "      <td>3</td>\n",
       "      <td>206</td>\n",
       "      <td>2.0</td>\n",
       "      <td>medium</td>\n",
       "      <td>M</td>\n",
       "      <td>7.0</td>\n",
       "      <td>4531</td>\n",
       "    </tr>\n",
       "    <tr>\n",
       "      <th>10998</th>\n",
       "      <td>C</td>\n",
       "      <td>Ship</td>\n",
       "      <td>6.0</td>\n",
       "      <td>4</td>\n",
       "      <td>255</td>\n",
       "      <td>4.0</td>\n",
       "      <td>low</td>\n",
       "      <td>M</td>\n",
       "      <td>7.0</td>\n",
       "      <td>1869</td>\n",
       "    </tr>\n",
       "    <tr>\n",
       "      <th>10999</th>\n",
       "      <td>D</td>\n",
       "      <td>Ship</td>\n",
       "      <td>5.0</td>\n",
       "      <td>1</td>\n",
       "      <td>252</td>\n",
       "      <td>5.0</td>\n",
       "      <td>?</td>\n",
       "      <td>M</td>\n",
       "      <td>4.0</td>\n",
       "      <td>1308</td>\n",
       "    </tr>\n",
       "  </tbody>\n",
       "</table>\n",
       "<p>4000 rows × 10 columns</p>\n",
       "</div>"
      ],
      "text/plain": [
       "      Warehouse_block  Mode_of_Shipment  Customer_care_calls  Customer_rating  \\\n",
       "ID                                                                              \n",
       "7000                 F             Ship                  3.0                1   \n",
       "7001                 F             Ship                  3.0                4   \n",
       "7002                 A           Flight                  NaN                5   \n",
       "7003                 C             Ship                  NaN                1   \n",
       "7004                 F                ?                  4.0                2   \n",
       "...                ...              ...                  ...              ...   \n",
       "10995                A                ?                  4.0                1   \n",
       "10996                C             Ship                  NaN                3   \n",
       "10997                B           Flight                  NaN                3   \n",
       "10998                C             Ship                  6.0                4   \n",
       "10999                D             Ship                  5.0                1   \n",
       "\n",
       "       Cost_of_the_Product  Prior_purchases Product_importance Gender  \\\n",
       "ID                                                                      \n",
       "7000                   274              NaN               high      M   \n",
       "7001                   136              2.0             medium      F   \n",
       "7002                   140              3.0                low      F   \n",
       "7003                   291              4.0                low      F   \n",
       "7004                   147              3.0                low      F   \n",
       "...                    ...              ...                ...    ...   \n",
       "10995                  204              4.0                  ?      F   \n",
       "10996                  195              2.0             medium      M   \n",
       "10997                  206              2.0             medium      M   \n",
       "10998                  255              4.0                low      M   \n",
       "10999                  252              5.0                  ?      M   \n",
       "\n",
       "       Discount_offered Weight_in_gms  \n",
       "ID                                     \n",
       "7000                NaN          4352  \n",
       "7001                NaN          1056  \n",
       "7002                7.0          5383  \n",
       "7003                NaN          1880  \n",
       "7004                5.0          5174  \n",
       "...                 ...           ...  \n",
       "10995               NaN          1667  \n",
       "10996               NaN          3869  \n",
       "10997               7.0          4531  \n",
       "10998               7.0          1869  \n",
       "10999               4.0          1308  \n",
       "\n",
       "[4000 rows x 10 columns]"
      ]
     },
     "execution_count": 4,
     "metadata": {},
     "output_type": "execute_result"
    }
   ],
   "source": [
    "test"
   ]
  },
  {
   "cell_type": "code",
   "execution_count": 5,
   "id": "001a616f",
   "metadata": {},
   "outputs": [
    {
     "name": "stdout",
     "output_type": "stream",
     "text": [
      "<class 'pandas.core.frame.DataFrame'>\n",
      "Int64Index: 6999 entries, 1 to 6999\n",
      "Data columns (total 11 columns):\n",
      " #   Column               Non-Null Count  Dtype  \n",
      "---  ------               --------------  -----  \n",
      " 0   Warehouse_block      6999 non-null   object \n",
      " 1   Mode_of_Shipment     6999 non-null   object \n",
      " 2   Customer_care_calls  5423 non-null   float64\n",
      " 3   Customer_rating      6999 non-null   int64  \n",
      " 4   Cost_of_the_Product  6999 non-null   int64  \n",
      " 5   Prior_purchases      6049 non-null   float64\n",
      " 6   Product_importance   6999 non-null   object \n",
      " 7   Gender               6999 non-null   object \n",
      " 8   Discount_offered     3468 non-null   float64\n",
      " 9   Weight_in_gms        6999 non-null   object \n",
      " 10  Reached.on.Time_Y.N  6999 non-null   int64  \n",
      "dtypes: float64(3), int64(3), object(5)\n",
      "memory usage: 656.2+ KB\n"
     ]
    }
   ],
   "source": [
    "train.info()"
   ]
  },
  {
   "cell_type": "code",
   "execution_count": 6,
   "id": "82698537",
   "metadata": {},
   "outputs": [
    {
     "name": "stdout",
     "output_type": "stream",
     "text": [
      "<class 'pandas.core.frame.DataFrame'>\n",
      "Int64Index: 4000 entries, 7000 to 10999\n",
      "Data columns (total 10 columns):\n",
      " #   Column               Non-Null Count  Dtype  \n",
      "---  ------               --------------  -----  \n",
      " 0   Warehouse_block      4000 non-null   object \n",
      " 1   Mode_of_Shipment     4000 non-null   object \n",
      " 2   Customer_care_calls  3144 non-null   float64\n",
      " 3   Customer_rating      4000 non-null   int64  \n",
      " 4   Cost_of_the_Product  4000 non-null   int64  \n",
      " 5   Prior_purchases      3633 non-null   float64\n",
      " 6   Product_importance   4000 non-null   object \n",
      " 7   Gender               4000 non-null   object \n",
      " 8   Discount_offered     2085 non-null   float64\n",
      " 9   Weight_in_gms        4000 non-null   object \n",
      "dtypes: float64(3), int64(2), object(5)\n",
      "memory usage: 343.8+ KB\n"
     ]
    }
   ],
   "source": [
    "test.info()"
   ]
  },
  {
   "cell_type": "markdown",
   "id": "088c1ab2",
   "metadata": {},
   "source": [
    "- train 결측치 : Customer_care_calls, Prior_purchases, Discount_offered \n",
    "- test 결측치 : Customer_care_calls, Prior_purchases, Discount_offered "
   ]
  },
  {
   "cell_type": "code",
   "execution_count": 7,
   "id": "079aa3e3",
   "metadata": {
    "scrolled": true
   },
   "outputs": [
    {
     "data": {
      "text/plain": [
       "Index(['Warehouse_block ', 'Mode_of_Shipment', 'Customer_care_calls',\n",
       "       'Customer_rating', 'Cost_of_the_Product', 'Prior_purchases',\n",
       "       'Product_importance', 'Gender', 'Discount_offered', 'Weight_in_gms',\n",
       "       'Reached.on.Time_Y.N'],\n",
       "      dtype='object')"
      ]
     },
     "execution_count": 7,
     "metadata": {},
     "output_type": "execute_result"
    }
   ],
   "source": [
    "train.columns"
   ]
  },
  {
   "cell_type": "code",
   "execution_count": 8,
   "id": "964649bf",
   "metadata": {},
   "outputs": [
    {
     "data": {
      "text/plain": [
       "array(['C', 'F', 'D', 'B', 'A'], dtype=object)"
      ]
     },
     "execution_count": 8,
     "metadata": {},
     "output_type": "execute_result"
    }
   ],
   "source": [
    "train['Warehouse_block '].unique()"
   ]
  },
  {
   "cell_type": "code",
   "execution_count": 9,
   "id": "a607c467",
   "metadata": {},
   "outputs": [
    {
     "data": {
      "text/plain": [
       "array(['F', 'A', 'C', 'D', 'B'], dtype=object)"
      ]
     },
     "execution_count": 9,
     "metadata": {},
     "output_type": "execute_result"
    }
   ],
   "source": [
    "test['Warehouse_block '].unique()"
   ]
  },
  {
   "cell_type": "code",
   "execution_count": 10,
   "id": "e6ccc414",
   "metadata": {
    "scrolled": true
   },
   "outputs": [
    {
     "data": {
      "text/plain": [
       "array([' Ship', ' Flight', ' Road', '?', ' Shipzk', ' Flightzk',\n",
       "       ' Roadzk'], dtype=object)"
      ]
     },
     "execution_count": 10,
     "metadata": {},
     "output_type": "execute_result"
    }
   ],
   "source": [
    "train['Mode_of_Shipment'].unique()"
   ]
  },
  {
   "cell_type": "code",
   "execution_count": 11,
   "id": "4943576f",
   "metadata": {},
   "outputs": [
    {
     "data": {
      "text/plain": [
       "array([' Ship', ' Flight', '?', ' Road', ' Shipzk', ' Roadzk'],\n",
       "      dtype=object)"
      ]
     },
     "execution_count": 11,
     "metadata": {},
     "output_type": "execute_result"
    }
   ],
   "source": [
    "test['Mode_of_Shipment'].unique()"
   ]
  },
  {
   "cell_type": "code",
   "execution_count": 12,
   "id": "ccc57f20",
   "metadata": {},
   "outputs": [
    {
     "data": {
      "text/plain": [
       "array(['low', 'medium', 'high', '?', 'mediumm', 'loww', 'highh'],\n",
       "      dtype=object)"
      ]
     },
     "execution_count": 12,
     "metadata": {},
     "output_type": "execute_result"
    }
   ],
   "source": [
    "train['Product_importance'].unique()"
   ]
  },
  {
   "cell_type": "code",
   "execution_count": 13,
   "id": "f078753d",
   "metadata": {},
   "outputs": [
    {
     "data": {
      "text/plain": [
       "array(['high', 'medium', 'low', '?', 'mediumm'], dtype=object)"
      ]
     },
     "execution_count": 13,
     "metadata": {},
     "output_type": "execute_result"
    }
   ],
   "source": [
    "test['Product_importance'].unique()"
   ]
  },
  {
   "cell_type": "code",
   "execution_count": 14,
   "id": "d5e7b12a",
   "metadata": {},
   "outputs": [
    {
     "data": {
      "text/plain": [
       "array(['M', 'F'], dtype=object)"
      ]
     },
     "execution_count": 14,
     "metadata": {},
     "output_type": "execute_result"
    }
   ],
   "source": [
    "train['Gender'].unique()"
   ]
  },
  {
   "cell_type": "code",
   "execution_count": 15,
   "id": "00aa6870",
   "metadata": {},
   "outputs": [
    {
     "data": {
      "text/plain": [
       "ID\n",
       "1       1339\n",
       "2       1082\n",
       "3       4971\n",
       "4       5640\n",
       "5       4944\n",
       "        ... \n",
       "6995    1783\n",
       "6996    5208\n",
       "6997    1787\n",
       "6998    4719\n",
       "6999    5097\n",
       "Name: Weight_in_gms, Length: 6999, dtype: object"
      ]
     },
     "execution_count": 15,
     "metadata": {},
     "output_type": "execute_result"
    }
   ],
   "source": [
    "train['Weight_in_gms']"
   ]
  },
  {
   "cell_type": "code",
   "execution_count": 16,
   "id": "493d90b1",
   "metadata": {},
   "outputs": [
    {
     "data": {
      "text/plain": [
       "3332"
      ]
     },
     "execution_count": 16,
     "metadata": {},
     "output_type": "execute_result"
    }
   ],
   "source": [
    "len(train['Weight_in_gms'].unique())"
   ]
  },
  {
   "cell_type": "markdown",
   "id": "bef61dee",
   "metadata": {},
   "source": [
    "### 칼럼 정리\n",
    "- ID: 고객의 ID 번호\n",
    "- Warehouse_block: 창고 블록 (A, B, C, D, F) - 범주형\n",
    "- Mode_of_Shipment: 운송 방식 (Ship, Flight, Road, Shipzk, Flightzk, Roadzk, ?) - 범주형\n",
    "- Customer_care_calls: 배송조회 문의전화 건수 - 이산형\n",
    "- Customer_rating: 고객 평점 (1:Worst ~ 5:Best) - 순서형\n",
    "- Cost_of_the_Product: 제품 비용 - 연속형\n",
    "- Prior_purchases: 이전 구매 횟수 - 이산형\n",
    "- Product_importance: 제품 중요도 (loww, low, medium, mediumm, high, highh, ?) - 순서형\n",
    "- Gender: 성별 (M, F) - 범주형\n",
    "- Discount_offered: 제공된 할인 - 연속형\n",
    "- Weight_in_gms: 무게 (그램 단위) - 연속형\n",
    "- Reached.on.Time_Y.N: 제 시간에 도달했는지 여부 (예상되는 예측 변수) - (0:제시간 도착 / 1:제시간 도달 못함)"
   ]
  },
  {
   "cell_type": "markdown",
   "id": "1cf687a3",
   "metadata": {},
   "source": [
    "# 3. 데이터 전처리\n"
   ]
  },
  {
   "cell_type": "markdown",
   "id": "cdca5b98",
   "metadata": {},
   "source": [
    "## 3-1. 범주형/순서형 변수\n",
    "- 순서형 변수 : Customer_rating(고객 평점), Product_importance(제품 중요도)\n",
    "- 범주형 변수 : Warehouse_block(창고 블럭), Mode_of_Shipment(운송방식), Gender(성별)\n",
    "- 결측치\n",
    "    - Product_importance 와 Mode_of_Shipment 는 ? 존재\n",
    "- 특이점\n",
    "    - Mode_of_Shipment 는 뒤에 zk가 붙은 것과 붙지 않은 것으로 나뉨\n",
    "    - Product_importance 는 뒤에 스펠링이 하나씩 더 붙은 것과 붙지 않은 것으로 나뉨"
   ]
  },
  {
   "cell_type": "markdown",
   "id": "cdc3beff",
   "metadata": {},
   "source": [
    "### Customer_rating (고객 평점)"
   ]
  },
  {
   "cell_type": "code",
   "execution_count": 17,
   "id": "7e5a8292",
   "metadata": {},
   "outputs": [
    {
     "data": {
      "text/plain": [
       "3     1451\n",
       "2     1399\n",
       "5     1399\n",
       "1     1391\n",
       "4     1357\n",
       "99       2\n",
       "Name: Customer_rating, dtype: int64"
      ]
     },
     "execution_count": 17,
     "metadata": {},
     "output_type": "execute_result"
    }
   ],
   "source": [
    "train['Customer_rating'].value_counts()"
   ]
  },
  {
   "cell_type": "code",
   "execution_count": 18,
   "id": "8aeec3de",
   "metadata": {
    "scrolled": true
   },
   "outputs": [
    {
     "data": {
      "text/plain": [
       "1     843\n",
       "4     831\n",
       "3     788\n",
       "5     772\n",
       "2     764\n",
       "99      2\n",
       "Name: Customer_rating, dtype: int64"
      ]
     },
     "execution_count": 18,
     "metadata": {},
     "output_type": "execute_result"
    }
   ],
   "source": [
    "test['Customer_rating'].value_counts()"
   ]
  },
  {
   "cell_type": "markdown",
   "id": "a203e56c",
   "metadata": {},
   "source": [
    "- 99 라는 이상치 존재 (2개) -> 최빈값(3)으로 대체하자."
   ]
  },
  {
   "cell_type": "code",
   "execution_count": 19,
   "id": "73c7c5e2",
   "metadata": {},
   "outputs": [],
   "source": [
    "# 이상치 처리 - 최빈값으로 대체하기\n",
    "def fill_rating(row):\n",
    "    if row['Customer_rating']==99: # ?이면 평균으로 대체\n",
    "        return 3\n",
    "    else: # 아니면 그대로\n",
    "        return row['Customer_rating']"
   ]
  },
  {
   "cell_type": "code",
   "execution_count": 20,
   "id": "98519432",
   "metadata": {},
   "outputs": [],
   "source": [
    "train['Customer_rating'] = train.apply(fill_rating, axis=1)"
   ]
  },
  {
   "cell_type": "code",
   "execution_count": 21,
   "id": "689cda70",
   "metadata": {},
   "outputs": [],
   "source": [
    "test['Customer_rating'] = test.apply(fill_rating, axis=1)"
   ]
  },
  {
   "cell_type": "code",
   "execution_count": 22,
   "id": "ce1cb93d",
   "metadata": {},
   "outputs": [
    {
     "data": {
      "text/plain": [
       "<Axes: xlabel='Customer_rating', ylabel='count'>"
      ]
     },
     "execution_count": 22,
     "metadata": {},
     "output_type": "execute_result"
    },
    {
     "data": {
      "image/png": "[encoded data removed]",
      "text/plain": [
       "<Figure size 640x480 with 1 Axes>"
      ]
     },
     "metadata": {},
     "output_type": "display_data"
    }
   ],
   "source": [
    "sns.countplot(data=train, x='Customer_rating')"
   ]
  },
  {
   "cell_type": "markdown",
   "id": "fd9312da",
   "metadata": {},
   "source": [
    "### Product_importance (제품 중요도)"
   ]
  },
  {
   "cell_type": "code",
   "execution_count": 23,
   "id": "b97b97c5",
   "metadata": {},
   "outputs": [
    {
     "data": {
      "text/plain": [
       "low        3344\n",
       "medium     2982\n",
       "high        573\n",
       "?            97\n",
       "mediumm       1\n",
       "loww          1\n",
       "highh         1\n",
       "Name: Product_importance, dtype: int64"
      ]
     },
     "execution_count": 23,
     "metadata": {},
     "output_type": "execute_result"
    }
   ],
   "source": [
    "train['Product_importance'].value_counts()"
   ]
  },
  {
   "cell_type": "code",
   "execution_count": 24,
   "id": "f1b40f70",
   "metadata": {
    "scrolled": true
   },
   "outputs": [
    {
     "data": {
      "text/plain": [
       "low        1873\n",
       "medium     1685\n",
       "high        361\n",
       "?            80\n",
       "mediumm       1\n",
       "Name: Product_importance, dtype: int64"
      ]
     },
     "execution_count": 24,
     "metadata": {},
     "output_type": "execute_result"
    }
   ],
   "source": [
    "test['Product_importance'].value_counts()"
   ]
  },
  {
   "cell_type": "code",
   "execution_count": 25,
   "id": "f85a7adb",
   "metadata": {},
   "outputs": [
    {
     "data": {
      "text/plain": [
       "<Axes: xlabel='Product_importance', ylabel='count'>"
      ]
     },
     "execution_count": 25,
     "metadata": {},
     "output_type": "execute_result"
    },
    {
     "data": {
      "image/png": "[encoded data removed]",
      "text/plain": [
       "<Figure size 640x480 with 1 Axes>"
      ]
     },
     "metadata": {},
     "output_type": "display_data"
    }
   ],
   "source": [
    "sns.countplot(data=train, x='Product_importance')"
   ]
  },
  {
   "cell_type": "markdown",
   "id": "18124a58",
   "metadata": {},
   "source": [
    "- mediumm, loww, highh 뒤에 한글자씩 더 잘 못 들어간 데이터 존재\n",
    "- low, loww를 1, medium, mediumm을 2, high, highh를 3 으로 매핑\n",
    "- ? 결측치 존재 -> 최빈값(low)으로 대체해보자."
   ]
  },
  {
   "cell_type": "code",
   "execution_count": 26,
   "id": "0136e72c",
   "metadata": {},
   "outputs": [],
   "source": [
    "mapping_importance = {\n",
    "    'low': 1,\n",
    "    'loww': 1,\n",
    "    'medium': 2,\n",
    "    'mediumm': 2,\n",
    "    'high': 3,\n",
    "    'highh': 3,\n",
    "    '?': 1 # 결측치를 최빈값으로\n",
    "}\n",
    "train['Product_importance'] = train['Product_importance'].map(mapping_importance)"
   ]
  },
  {
   "cell_type": "code",
   "execution_count": 27,
   "id": "f57e632c",
   "metadata": {},
   "outputs": [
    {
     "data": {
      "text/plain": [
       "1    3442\n",
       "2    2983\n",
       "3     574\n",
       "Name: Product_importance, dtype: int64"
      ]
     },
     "execution_count": 27,
     "metadata": {},
     "output_type": "execute_result"
    }
   ],
   "source": [
    "train['Product_importance'].value_counts()"
   ]
  },
  {
   "cell_type": "code",
   "execution_count": 28,
   "id": "58d43cd7",
   "metadata": {
    "scrolled": false
   },
   "outputs": [
    {
     "data": {
      "text/plain": [
       "<Axes: xlabel='Product_importance', ylabel='count'>"
      ]
     },
     "execution_count": 28,
     "metadata": {},
     "output_type": "execute_result"
    },
    {
     "data": {
      "image/png": "[encoded data removed]",
      "text/plain": [
       "<Figure size 640x480 with 1 Axes>"
      ]
     },
     "metadata": {},
     "output_type": "display_data"
    }
   ],
   "source": [
    "sns.countplot(data=train, x='Product_importance')"
   ]
  },
  {
   "cell_type": "code",
   "execution_count": 29,
   "id": "02bf3323",
   "metadata": {},
   "outputs": [],
   "source": [
    "test['Product_importance'] = test['Product_importance'].map(mapping_importance)"
   ]
  },
  {
   "cell_type": "code",
   "execution_count": 30,
   "id": "f0b1af1e",
   "metadata": {},
   "outputs": [
    {
     "data": {
      "text/plain": [
       "1    1953\n",
       "2    1686\n",
       "3     361\n",
       "Name: Product_importance, dtype: int64"
      ]
     },
     "execution_count": 30,
     "metadata": {},
     "output_type": "execute_result"
    }
   ],
   "source": [
    "test['Product_importance'].value_counts()"
   ]
  },
  {
   "cell_type": "markdown",
   "id": "b230389b",
   "metadata": {},
   "source": [
    "### Mode_of_Shipment (운송 방식)"
   ]
  },
  {
   "cell_type": "code",
   "execution_count": 31,
   "id": "82a4af89",
   "metadata": {},
   "outputs": [
    {
     "data": {
      "text/plain": [
       " Ship        4508\n",
       " Road        1075\n",
       " Flight      1039\n",
       "?             373\n",
       " Shipzk         2\n",
       " Flightzk       1\n",
       " Roadzk         1\n",
       "Name: Mode_of_Shipment, dtype: int64"
      ]
     },
     "execution_count": 31,
     "metadata": {},
     "output_type": "execute_result"
    }
   ],
   "source": [
    "train['Mode_of_Shipment'].value_counts()"
   ]
  },
  {
   "cell_type": "code",
   "execution_count": 32,
   "id": "916a03df",
   "metadata": {},
   "outputs": [
    {
     "data": {
      "text/plain": [
       " Ship      2551\n",
       " Flight     631\n",
       " Road       595\n",
       "?           221\n",
       " Shipzk       1\n",
       " Roadzk       1\n",
       "Name: Mode_of_Shipment, dtype: int64"
      ]
     },
     "execution_count": 32,
     "metadata": {},
     "output_type": "execute_result"
    }
   ],
   "source": [
    "test['Mode_of_Shipment'].value_counts()"
   ]
  },
  {
   "cell_type": "markdown",
   "id": "f68ea211",
   "metadata": {},
   "source": [
    "- 값 앞에 공백 존재 -> 공백제거하기\n",
    "- 뒤에 zk 붙은 값 없애기\n",
    "- ? 결측치는 Other로 대체"
   ]
  },
  {
   "cell_type": "code",
   "execution_count": 33,
   "id": "7ef25225",
   "metadata": {},
   "outputs": [],
   "source": [
    "# 공백제거하기\n",
    "train['Mode_of_Shipment'] = train['Mode_of_Shipment'].str.strip()\n",
    "test['Mode_of_Shipment'] = test['Mode_of_Shipment'].str.strip()"
   ]
  },
  {
   "cell_type": "code",
   "execution_count": 34,
   "id": "656514df",
   "metadata": {},
   "outputs": [
    {
     "data": {
      "text/plain": [
       "Ship        4508\n",
       "Road        1075\n",
       "Flight      1039\n",
       "?            373\n",
       "Shipzk         2\n",
       "Flightzk       1\n",
       "Roadzk         1\n",
       "Name: Mode_of_Shipment, dtype: int64"
      ]
     },
     "execution_count": 34,
     "metadata": {},
     "output_type": "execute_result"
    }
   ],
   "source": [
    "train['Mode_of_Shipment'].value_counts()"
   ]
  },
  {
   "cell_type": "code",
   "execution_count": 35,
   "id": "154b3b31",
   "metadata": {},
   "outputs": [],
   "source": [
    "# 결측치 처리, zk붙은 거 없애기\n",
    "mapping_shipment = {\n",
    "    'Ship': 'Ship',\n",
    "    'Shipzk': 'Ship',\n",
    "    'Road': 'Road',\n",
    "    'Roadzk': 'Road',\n",
    "    'Flight': 'Flight',\n",
    "    'Flightzk': 'Flight',\n",
    "    '?': 'Other' # 결측치를 Other으로\n",
    "}\n",
    "train['Mode_of_Shipment'] = train['Mode_of_Shipment'].map(mapping_shipment)\n",
    "test['Mode_of_Shipment'] = test['Mode_of_Shipment'].map(mapping_shipment)"
   ]
  },
  {
   "cell_type": "code",
   "execution_count": 36,
   "id": "def7b50b",
   "metadata": {},
   "outputs": [
    {
     "data": {
      "text/plain": [
       "Ship      4510\n",
       "Road      1076\n",
       "Flight    1040\n",
       "Other      373\n",
       "Name: Mode_of_Shipment, dtype: int64"
      ]
     },
     "execution_count": 36,
     "metadata": {},
     "output_type": "execute_result"
    }
   ],
   "source": [
    "train['Mode_of_Shipment'].value_counts()"
   ]
  },
  {
   "cell_type": "code",
   "execution_count": 37,
   "id": "6715957e",
   "metadata": {},
   "outputs": [
    {
     "data": {
      "text/plain": [
       "Ship      2552\n",
       "Flight     631\n",
       "Road       596\n",
       "Other      221\n",
       "Name: Mode_of_Shipment, dtype: int64"
      ]
     },
     "execution_count": 37,
     "metadata": {},
     "output_type": "execute_result"
    }
   ],
   "source": [
    "test['Mode_of_Shipment'].value_counts()"
   ]
  },
  {
   "cell_type": "code",
   "execution_count": 38,
   "id": "b6d51037",
   "metadata": {
    "scrolled": false
   },
   "outputs": [
    {
     "data": {
      "text/plain": [
       "<Axes: xlabel='Mode_of_Shipment', ylabel='count'>"
      ]
     },
     "execution_count": 38,
     "metadata": {},
     "output_type": "execute_result"
    },
    {
     "data": {
      "image/png": "[encoded data removed]",
      "text/plain": [
       "<Figure size 640x480 with 1 Axes>"
      ]
     },
     "metadata": {},
     "output_type": "display_data"
    }
   ],
   "source": [
    "sns.countplot(data=train, x='Mode_of_Shipment')"
   ]
  },
  {
   "cell_type": "markdown",
   "id": "f71e34d8",
   "metadata": {},
   "source": [
    "### Warehouse_block (창고 블록)"
   ]
  },
  {
   "cell_type": "code",
   "execution_count": 39,
   "id": "f4bf84a9",
   "metadata": {
    "scrolled": true
   },
   "outputs": [
    {
     "data": {
      "text/plain": [
       "F    2311\n",
       "C    1184\n",
       "A    1174\n",
       "D    1168\n",
       "B    1162\n",
       "Name: Warehouse_block , dtype: int64"
      ]
     },
     "execution_count": 39,
     "metadata": {},
     "output_type": "execute_result"
    }
   ],
   "source": [
    "train['Warehouse_block '].value_counts()"
   ]
  },
  {
   "cell_type": "code",
   "execution_count": 40,
   "id": "11895bcb",
   "metadata": {},
   "outputs": [
    {
     "data": {
      "text/plain": [
       "F    1355\n",
       "B     671\n",
       "D     666\n",
       "A     659\n",
       "C     649\n",
       "Name: Warehouse_block , dtype: int64"
      ]
     },
     "execution_count": 40,
     "metadata": {},
     "output_type": "execute_result"
    }
   ],
   "source": [
    "test['Warehouse_block '].value_counts()"
   ]
  },
  {
   "cell_type": "code",
   "execution_count": 41,
   "id": "80c731e0",
   "metadata": {},
   "outputs": [
    {
     "data": {
      "text/plain": [
       "<Axes: xlabel='Warehouse_block ', ylabel='count'>"
      ]
     },
     "execution_count": 41,
     "metadata": {},
     "output_type": "execute_result"
    },
    {
     "data": {
      "image/png": "[encoded data removed]",
      "text/plain": [
       "<Figure size 640x480 with 1 Axes>"
      ]
     },
     "metadata": {},
     "output_type": "display_data"
    }
   ],
   "source": [
    "sns.countplot(data=train, x='Warehouse_block ')"
   ]
  },
  {
   "cell_type": "markdown",
   "id": "e6b39b2c",
   "metadata": {},
   "source": [
    "### Gender (성별)"
   ]
  },
  {
   "cell_type": "code",
   "execution_count": 42,
   "id": "9443d7fa",
   "metadata": {},
   "outputs": [
    {
     "data": {
      "text/plain": [
       "M    3509\n",
       "F    3490\n",
       "Name: Gender, dtype: int64"
      ]
     },
     "execution_count": 42,
     "metadata": {},
     "output_type": "execute_result"
    }
   ],
   "source": [
    "train['Gender'].value_counts()"
   ]
  },
  {
   "cell_type": "code",
   "execution_count": 43,
   "id": "7e3cbd4f",
   "metadata": {},
   "outputs": [
    {
     "data": {
      "text/plain": [
       "F    2055\n",
       "M    1945\n",
       "Name: Gender, dtype: int64"
      ]
     },
     "execution_count": 43,
     "metadata": {},
     "output_type": "execute_result"
    }
   ],
   "source": [
    "test['Gender'].value_counts()"
   ]
  },
  {
   "cell_type": "code",
   "execution_count": 44,
   "id": "b43ea28f",
   "metadata": {},
   "outputs": [
    {
     "data": {
      "text/plain": [
       "<Axes: xlabel='Gender', ylabel='count'>"
      ]
     },
     "execution_count": 44,
     "metadata": {},
     "output_type": "execute_result"
    },
    {
     "data": {
      "image/png": "[encoded data removed]",
      "text/plain": [
       "<Figure size 640x480 with 1 Axes>"
      ]
     },
     "metadata": {},
     "output_type": "display_data"
    }
   ],
   "source": [
    "sns.countplot(data=train, x='Gender')"
   ]
  },
  {
   "cell_type": "markdown",
   "id": "0158332a",
   "metadata": {},
   "source": [
    "## 3-2. 수치형 변수\n",
    "- 연속형 변수 : Cost_of_the_Product(제품비용), Discount_offered(제공된 할인), Weight_in_gms(무게)\n",
    "- 이산형 변수 : Customer_care_calls(배송조회 문의전화 건수), Prior_purchases(이전 구매 횟수)\n",
    "- 결측치 채우기\n",
    "    - train 결측치 : Customer_care_calls, Prior_purchases, Discount_offered, Weight_in_gms\n",
    "    - test 결측치 : Customer_care_calls, Prior_purchases, Discount_offered, Weight_in_gms\n",
    "    - Weight_in_gms => object형을 int형으로 변환하기, ? 로 결측치 존재"
   ]
  },
  {
   "cell_type": "code",
   "execution_count": 45,
   "id": "e2330e2a",
   "metadata": {},
   "outputs": [],
   "source": [
    "# 경고창 무시\n",
    "import warnings\n",
    "warnings.filterwarnings('ignore')"
   ]
  },
  {
   "cell_type": "code",
   "execution_count": 46,
   "id": "608be06b",
   "metadata": {
    "scrolled": true
   },
   "outputs": [
    {
     "data": {
      "text/html": [
       "<div>\n",
       "<style scoped>\n",
       "    .dataframe tbody tr th:only-of-type {\n",
       "        vertical-align: middle;\n",
       "    }\n",
       "\n",
       "    .dataframe tbody tr th {\n",
       "        vertical-align: top;\n",
       "    }\n",
       "\n",
       "    .dataframe thead th {\n",
       "        text-align: right;\n",
       "    }\n",
       "</style>\n",
       "<table border=\"1\" class=\"dataframe\">\n",
       "  <thead>\n",
       "    <tr style=\"text-align: right;\">\n",
       "      <th></th>\n",
       "      <th>Customer_care_calls</th>\n",
       "      <th>Customer_rating</th>\n",
       "      <th>Cost_of_the_Product</th>\n",
       "      <th>Prior_purchases</th>\n",
       "      <th>Product_importance</th>\n",
       "      <th>Discount_offered</th>\n",
       "      <th>Reached.on.Time_Y.N</th>\n",
       "    </tr>\n",
       "  </thead>\n",
       "  <tbody>\n",
       "    <tr>\n",
       "      <th>Customer_care_calls</th>\n",
       "      <td>1.000000</td>\n",
       "      <td>0.012224</td>\n",
       "      <td>0.047041</td>\n",
       "      <td>0.173709</td>\n",
       "      <td>-0.064412</td>\n",
       "      <td>-0.158465</td>\n",
       "      <td>-0.070266</td>\n",
       "    </tr>\n",
       "    <tr>\n",
       "      <th>Customer_rating</th>\n",
       "      <td>0.012224</td>\n",
       "      <td>1.000000</td>\n",
       "      <td>-0.003293</td>\n",
       "      <td>0.015173</td>\n",
       "      <td>0.002123</td>\n",
       "      <td>-0.016456</td>\n",
       "      <td>0.001127</td>\n",
       "    </tr>\n",
       "    <tr>\n",
       "      <th>Cost_of_the_Product</th>\n",
       "      <td>0.047041</td>\n",
       "      <td>-0.003293</td>\n",
       "      <td>1.000000</td>\n",
       "      <td>0.028947</td>\n",
       "      <td>0.001771</td>\n",
       "      <td>-0.139349</td>\n",
       "      <td>-0.012811</td>\n",
       "    </tr>\n",
       "    <tr>\n",
       "      <th>Prior_purchases</th>\n",
       "      <td>0.173709</td>\n",
       "      <td>0.015173</td>\n",
       "      <td>0.028947</td>\n",
       "      <td>1.000000</td>\n",
       "      <td>0.018181</td>\n",
       "      <td>-0.081868</td>\n",
       "      <td>-0.065160</td>\n",
       "    </tr>\n",
       "    <tr>\n",
       "      <th>Product_importance</th>\n",
       "      <td>-0.064412</td>\n",
       "      <td>0.002123</td>\n",
       "      <td>0.001771</td>\n",
       "      <td>0.018181</td>\n",
       "      <td>1.000000</td>\n",
       "      <td>0.029333</td>\n",
       "      <td>0.020316</td>\n",
       "    </tr>\n",
       "    <tr>\n",
       "      <th>Discount_offered</th>\n",
       "      <td>-0.158465</td>\n",
       "      <td>-0.016456</td>\n",
       "      <td>-0.139349</td>\n",
       "      <td>-0.081868</td>\n",
       "      <td>0.029333</td>\n",
       "      <td>1.000000</td>\n",
       "      <td>0.397393</td>\n",
       "    </tr>\n",
       "    <tr>\n",
       "      <th>Reached.on.Time_Y.N</th>\n",
       "      <td>-0.070266</td>\n",
       "      <td>0.001127</td>\n",
       "      <td>-0.012811</td>\n",
       "      <td>-0.065160</td>\n",
       "      <td>0.020316</td>\n",
       "      <td>0.397393</td>\n",
       "      <td>1.000000</td>\n",
       "    </tr>\n",
       "  </tbody>\n",
       "</table>\n",
       "</div>"
      ],
      "text/plain": [
       "                     Customer_care_calls  Customer_rating  \\\n",
       "Customer_care_calls             1.000000         0.012224   \n",
       "Customer_rating                 0.012224         1.000000   \n",
       "Cost_of_the_Product             0.047041        -0.003293   \n",
       "Prior_purchases                 0.173709         0.015173   \n",
       "Product_importance             -0.064412         0.002123   \n",
       "Discount_offered               -0.158465        -0.016456   \n",
       "Reached.on.Time_Y.N            -0.070266         0.001127   \n",
       "\n",
       "                     Cost_of_the_Product  Prior_purchases  Product_importance  \\\n",
       "Customer_care_calls             0.047041         0.173709           -0.064412   \n",
       "Customer_rating                -0.003293         0.015173            0.002123   \n",
       "Cost_of_the_Product             1.000000         0.028947            0.001771   \n",
       "Prior_purchases                 0.028947         1.000000            0.018181   \n",
       "Product_importance              0.001771         0.018181            1.000000   \n",
       "Discount_offered               -0.139349        -0.081868            0.029333   \n",
       "Reached.on.Time_Y.N            -0.012811        -0.065160            0.020316   \n",
       "\n",
       "                     Discount_offered  Reached.on.Time_Y.N  \n",
       "Customer_care_calls         -0.158465            -0.070266  \n",
       "Customer_rating             -0.016456             0.001127  \n",
       "Cost_of_the_Product         -0.139349            -0.012811  \n",
       "Prior_purchases             -0.081868            -0.065160  \n",
       "Product_importance           0.029333             0.020316  \n",
       "Discount_offered             1.000000             0.397393  \n",
       "Reached.on.Time_Y.N          0.397393             1.000000  "
      ]
     },
     "execution_count": 46,
     "metadata": {},
     "output_type": "execute_result"
    }
   ],
   "source": [
    "# 상관관계 확인해보기 (상관계수)\n",
    "train.corr()"
   ]
  },
  {
   "cell_type": "code",
   "execution_count": 47,
   "id": "e728d00e",
   "metadata": {
    "scrolled": false
   },
   "outputs": [
    {
     "data": {
      "text/plain": [
       "<Axes: >"
      ]
     },
     "execution_count": 47,
     "metadata": {},
     "output_type": "execute_result"
    },
    {
     "data": {
      "image/png": "[encoded data removed]",
      "text/plain": [
       "<Figure size 640x480 with 2 Axes>"
      ]
     },
     "metadata": {},
     "output_type": "display_data"
    }
   ],
   "source": [
    "sns.heatmap(train.corr(), cmap='summer', annot=True, fmt='.2f')"
   ]
  },
  {
   "cell_type": "markdown",
   "id": "de5eda45",
   "metadata": {},
   "source": [
    "- 정답 데이터(Reched.on.Time_Y.N)를 제외한 문제 데이터들 간의 상관성이 모두 거의 없는 것으로 보인다."
   ]
  },
  {
   "cell_type": "markdown",
   "id": "b60806b5",
   "metadata": {},
   "source": [
    "### Weight_in_gms (무게)"
   ]
  },
  {
   "cell_type": "code",
   "execution_count": 48,
   "id": "8c74a8b5",
   "metadata": {},
   "outputs": [
    {
     "data": {
      "text/plain": [
       "1001      3\n",
       "1002      1\n",
       "1003      2\n",
       "1005      4\n",
       "1006      4\n",
       "       ... \n",
       "6064      1\n",
       "7401      1\n",
       "7640      1\n",
       "7846      1\n",
       "?       446\n",
       "Name: Weight_in_gms, Length: 3332, dtype: int64"
      ]
     },
     "execution_count": 48,
     "metadata": {},
     "output_type": "execute_result"
    }
   ],
   "source": [
    "train['Weight_in_gms'].value_counts().sort_index()"
   ]
  },
  {
   "cell_type": "code",
   "execution_count": 49,
   "id": "a4a3e3a0",
   "metadata": {},
   "outputs": [
    {
     "data": {
      "text/plain": [
       "1003      1\n",
       "1004      1\n",
       "1005      5\n",
       "1007      1\n",
       "1009      4\n",
       "       ... \n",
       "6000      2\n",
       "6614      1\n",
       "7588      1\n",
       "7684      1\n",
       "?       252\n",
       "Name: Weight_in_gms, Length: 2452, dtype: int64"
      ]
     },
     "execution_count": 49,
     "metadata": {},
     "output_type": "execute_result"
    }
   ],
   "source": [
    "test['Weight_in_gms'].value_counts().sort_index()"
   ]
  },
  {
   "cell_type": "markdown",
   "id": "51c1df15",
   "metadata": {},
   "source": [
    "- ? 인 결측치 446개\n",
    "- 결측치 처리 방법 - 평균으로 대체하기 or 중앙값으로 대체하기\n",
    "    - 결측치가 꽤 있는 편이지만, 목표 변수와 상관성이 높아 보이므로, 제거는 안 해보기로 함!"
   ]
  },
  {
   "cell_type": "code",
   "execution_count": 50,
   "id": "93094db9",
   "metadata": {},
   "outputs": [],
   "source": [
    "# 결측치 제외한 무게 컬럼의 히스토그램 그려보기\n",
    "notNull = train[train['Weight_in_gms'] != '?']\n",
    "notNull['Weight_in_gms'] = notNull['Weight_in_gms'].astype('int64')"
   ]
  },
  {
   "cell_type": "code",
   "execution_count": 51,
   "id": "c5fc6e8b",
   "metadata": {
    "scrolled": true
   },
   "outputs": [
    {
     "data": {
      "text/plain": [
       "<Axes: xlabel='Weight_in_gms', ylabel='Count'>"
      ]
     },
     "execution_count": 51,
     "metadata": {},
     "output_type": "execute_result"
    },
    {
     "data": {
      "image/png": "[encoded data removed]",
      "text/plain": [
       "<Figure size 640x480 with 1 Axes>"
      ]
     },
     "metadata": {},
     "output_type": "display_data"
    }
   ],
   "source": [
    "sns.histplot(data=notNull, x='Weight_in_gms', hue='Reached.on.Time_Y.N', multiple='dodge')"
   ]
  },
  {
   "cell_type": "code",
   "execution_count": 52,
   "id": "79807449",
   "metadata": {
    "scrolled": true
   },
   "outputs": [
    {
     "data": {
      "text/plain": [
       "<Axes: ylabel='Weight_in_gms'>"
      ]
     },
     "execution_count": 52,
     "metadata": {},
     "output_type": "execute_result"
    },
    {
     "data": {
      "image/png": "[encoded data removed]",
      "text/plain": [
       "<Figure size 640x480 with 1 Axes>"
      ]
     },
     "metadata": {},
     "output_type": "display_data"
    }
   ],
   "source": [
    "sns.boxplot(data=notNull, y='Weight_in_gms')"
   ]
  },
  {
   "cell_type": "markdown",
   "id": "8167d91d",
   "metadata": {},
   "source": [
    "- 이상치가 존재하지 않으므로 평균으로 대체해보자."
   ]
  },
  {
   "cell_type": "code",
   "execution_count": 53,
   "id": "8acbece8",
   "metadata": {},
   "outputs": [],
   "source": [
    "# 결측치 처리 - 평균으로 대체하기\n",
    "def fill_weight(row):\n",
    "    if row['Weight_in_gms']=='?': # ?이면 평균으로 대체\n",
    "        return notNull['Weight_in_gms'].mean()\n",
    "    else: # 아니면 그대로\n",
    "        return row['Weight_in_gms']"
   ]
  },
  {
   "cell_type": "code",
   "execution_count": 54,
   "id": "e22b1165",
   "metadata": {},
   "outputs": [],
   "source": [
    "train['Weight_in_gms'] = train.apply(fill_weight, axis=1).astype('int64')"
   ]
  },
  {
   "cell_type": "code",
   "execution_count": 55,
   "id": "d828fda9",
   "metadata": {},
   "outputs": [],
   "source": [
    "test['Weight_in_gms'] = test.apply(fill_weight, axis=1).astype('int64')"
   ]
  },
  {
   "cell_type": "code",
   "execution_count": 56,
   "id": "2e7b4a96",
   "metadata": {},
   "outputs": [
    {
     "data": {
      "text/plain": [
       "1001    3\n",
       "1002    1\n",
       "1003    2\n",
       "1005    4\n",
       "1006    4\n",
       "       ..\n",
       "6000    1\n",
       "6064    1\n",
       "7401    1\n",
       "7640    1\n",
       "7846    1\n",
       "Name: Weight_in_gms, Length: 3332, dtype: int64"
      ]
     },
     "execution_count": 56,
     "metadata": {},
     "output_type": "execute_result"
    }
   ],
   "source": [
    "train['Weight_in_gms'].value_counts().sort_index()"
   ]
  },
  {
   "cell_type": "markdown",
   "id": "22f4de38",
   "metadata": {},
   "source": [
    "### Customer_care_calls (배송조회 문의 건수)"
   ]
  },
  {
   "cell_type": "code",
   "execution_count": 57,
   "id": "5725ff39",
   "metadata": {},
   "outputs": [
    {
     "data": {
      "text/plain": [
       "2.0     287\n",
       "3.0    1620\n",
       "4.0    1756\n",
       "5.0    1147\n",
       "6.0     496\n",
       "7.0     117\n",
       "NaN    1576\n",
       "Name: Customer_care_calls, dtype: int64"
      ]
     },
     "execution_count": 57,
     "metadata": {},
     "output_type": "execute_result"
    }
   ],
   "source": [
    "train['Customer_care_calls'].value_counts(dropna=False).sort_index()"
   ]
  },
  {
   "cell_type": "code",
   "execution_count": 58,
   "id": "55a42f1f",
   "metadata": {},
   "outputs": [
    {
     "data": {
      "text/plain": [
       "2.0    208\n",
       "3.0    901\n",
       "4.0    990\n",
       "5.0    667\n",
       "6.0    311\n",
       "7.0     67\n",
       "NaN    856\n",
       "Name: Customer_care_calls, dtype: int64"
      ]
     },
     "execution_count": 58,
     "metadata": {},
     "output_type": "execute_result"
    }
   ],
   "source": [
    "test['Customer_care_calls'].value_counts(dropna=False).sort_index()"
   ]
  },
  {
   "cell_type": "markdown",
   "id": "1130ff9b",
   "metadata": {},
   "source": [
    "- 배송조회 문의 건수 결측치 개수는 1575개\n",
    "- 결측치는 문의 전화가 오지 않았다는 가정 하에 0으로 대체하자"
   ]
  },
  {
   "cell_type": "code",
   "execution_count": 59,
   "id": "3db7e347",
   "metadata": {},
   "outputs": [
    {
     "data": {
      "text/plain": [
       "4.0    1756\n",
       "3.0    1620\n",
       "0.0    1576\n",
       "5.0    1147\n",
       "6.0     496\n",
       "2.0     287\n",
       "7.0     117\n",
       "Name: Customer_care_calls, dtype: int64"
      ]
     },
     "execution_count": 59,
     "metadata": {},
     "output_type": "execute_result"
    }
   ],
   "source": [
    "train['Customer_care_calls'].fillna(0, inplace=True)\n",
    "train['Customer_care_calls'].value_counts(dropna=False)"
   ]
  },
  {
   "cell_type": "code",
   "execution_count": 60,
   "id": "9c7df295",
   "metadata": {},
   "outputs": [
    {
     "data": {
      "text/plain": [
       "4.0    990\n",
       "3.0    901\n",
       "0.0    856\n",
       "5.0    667\n",
       "6.0    311\n",
       "2.0    208\n",
       "7.0     67\n",
       "Name: Customer_care_calls, dtype: int64"
      ]
     },
     "execution_count": 60,
     "metadata": {},
     "output_type": "execute_result"
    }
   ],
   "source": [
    "test['Customer_care_calls'].fillna(0, inplace=True)\n",
    "test['Customer_care_calls'].value_counts(dropna=False)"
   ]
  },
  {
   "cell_type": "code",
   "execution_count": 61,
   "id": "d541d60a",
   "metadata": {},
   "outputs": [
    {
     "name": "stdout",
     "output_type": "stream",
     "text": [
      "<class 'pandas.core.frame.DataFrame'>\n",
      "Int64Index: 6999 entries, 1 to 6999\n",
      "Data columns (total 11 columns):\n",
      " #   Column               Non-Null Count  Dtype  \n",
      "---  ------               --------------  -----  \n",
      " 0   Warehouse_block      6999 non-null   object \n",
      " 1   Mode_of_Shipment     6999 non-null   object \n",
      " 2   Customer_care_calls  6999 non-null   float64\n",
      " 3   Customer_rating      6999 non-null   int64  \n",
      " 4   Cost_of_the_Product  6999 non-null   int64  \n",
      " 5   Prior_purchases      6049 non-null   float64\n",
      " 6   Product_importance   6999 non-null   int64  \n",
      " 7   Gender               6999 non-null   object \n",
      " 8   Discount_offered     3468 non-null   float64\n",
      " 9   Weight_in_gms        6999 non-null   int64  \n",
      " 10  Reached.on.Time_Y.N  6999 non-null   int64  \n",
      "dtypes: float64(3), int64(5), object(3)\n",
      "memory usage: 656.2+ KB\n"
     ]
    }
   ],
   "source": [
    "train.info()"
   ]
  },
  {
   "cell_type": "code",
   "execution_count": 62,
   "id": "3402a7f1",
   "metadata": {},
   "outputs": [
    {
     "data": {
      "text/plain": [
       "<Axes: xlabel='Customer_care_calls', ylabel='count'>"
      ]
     },
     "execution_count": 62,
     "metadata": {},
     "output_type": "execute_result"
    },
    {
     "data": {
      "image/png": "[encoded data removed]",
      "text/plain": [
       "<Figure size 640x480 with 1 Axes>"
      ]
     },
     "metadata": {},
     "output_type": "display_data"
    }
   ],
   "source": [
    "sns.countplot(data=train, x='Customer_care_calls')"
   ]
  },
  {
   "cell_type": "markdown",
   "id": "5786de54",
   "metadata": {},
   "source": [
    "### Prior_purchases (이전 구매 횟수)"
   ]
  },
  {
   "cell_type": "code",
   "execution_count": 63,
   "id": "04844a95",
   "metadata": {},
   "outputs": [
    {
     "data": {
      "text/plain": [
       "2.0     1423\n",
       "3.0     2176\n",
       "4.0     1162\n",
       "5.0      735\n",
       "6.0      310\n",
       "7.0       70\n",
       "8.0       72\n",
       "10.0     101\n",
       "NaN      950\n",
       "Name: Prior_purchases, dtype: int64"
      ]
     },
     "execution_count": 63,
     "metadata": {},
     "output_type": "execute_result"
    }
   ],
   "source": [
    "train['Prior_purchases'].value_counts(dropna=False).sort_index()"
   ]
  },
  {
   "cell_type": "code",
   "execution_count": 64,
   "id": "86a6b6f7",
   "metadata": {},
   "outputs": [
    {
     "data": {
      "text/plain": [
       "2.0      866\n",
       "3.0     1293\n",
       "4.0      723\n",
       "5.0      414\n",
       "6.0      184\n",
       "7.0       53\n",
       "8.0       44\n",
       "10.0      56\n",
       "NaN      367\n",
       "Name: Prior_purchases, dtype: int64"
      ]
     },
     "execution_count": 64,
     "metadata": {},
     "output_type": "execute_result"
    }
   ],
   "source": [
    "test['Prior_purchases'].value_counts(dropna=False).sort_index()"
   ]
  },
  {
   "cell_type": "markdown",
   "id": "797dc5df",
   "metadata": {},
   "source": [
    "- 이전 구매횟수의 결측치 개수는 950개\n",
    "- 이전에 구매한 적이 없는 걸까, 누락된 걸까?\n",
    "- 이전에 구매한 적이 없다는 가정 하에 0으로 대체하자."
   ]
  },
  {
   "cell_type": "code",
   "execution_count": 65,
   "id": "244aee86",
   "metadata": {},
   "outputs": [
    {
     "data": {
      "text/plain": [
       "3.0     2176\n",
       "2.0     1423\n",
       "4.0     1162\n",
       "0.0      950\n",
       "5.0      735\n",
       "6.0      310\n",
       "10.0     101\n",
       "8.0       72\n",
       "7.0       70\n",
       "Name: Prior_purchases, dtype: int64"
      ]
     },
     "execution_count": 65,
     "metadata": {},
     "output_type": "execute_result"
    }
   ],
   "source": [
    "train['Prior_purchases'].fillna(0, inplace=True)\n",
    "train['Prior_purchases'].value_counts(dropna=False)"
   ]
  },
  {
   "cell_type": "code",
   "execution_count": 66,
   "id": "3f0fb2e6",
   "metadata": {},
   "outputs": [
    {
     "data": {
      "text/plain": [
       "3.0     1293\n",
       "2.0      866\n",
       "4.0      723\n",
       "5.0      414\n",
       "0.0      367\n",
       "6.0      184\n",
       "10.0      56\n",
       "7.0       53\n",
       "8.0       44\n",
       "Name: Prior_purchases, dtype: int64"
      ]
     },
     "execution_count": 66,
     "metadata": {},
     "output_type": "execute_result"
    }
   ],
   "source": [
    "test['Prior_purchases'].fillna(0, inplace=True)\n",
    "test['Prior_purchases'].value_counts(dropna=False)"
   ]
  },
  {
   "cell_type": "code",
   "execution_count": 67,
   "id": "f81f0173",
   "metadata": {},
   "outputs": [
    {
     "data": {
      "text/plain": [
       "<Axes: xlabel='Prior_purchases', ylabel='count'>"
      ]
     },
     "execution_count": 67,
     "metadata": {},
     "output_type": "execute_result"
    },
    {
     "data": {
      "image/png": "[encoded data removed]",
      "text/plain": [
       "<Figure size 640x480 with 1 Axes>"
      ]
     },
     "metadata": {},
     "output_type": "display_data"
    }
   ],
   "source": [
    "sns.countplot(data=train, x='Prior_purchases')"
   ]
  },
  {
   "cell_type": "markdown",
   "id": "272f19eb",
   "metadata": {},
   "source": [
    "### Discount_offered (제공되는 할인)"
   ]
  },
  {
   "cell_type": "code",
   "execution_count": 68,
   "id": "0fe20fe4",
   "metadata": {},
   "outputs": [
    {
     "data": {
      "image/png": "[encoded data removed]",
      "text/plain": [
       "<Figure size 1500x500 with 1 Axes>"
      ]
     },
     "metadata": {},
     "output_type": "display_data"
    }
   ],
   "source": [
    "plt.figure(figsize=(15,5))\n",
    "sns.countplot(data=train, x='Discount_offered')\n",
    "plt.xticks(rotation=90)\n",
    "plt.show()"
   ]
  },
  {
   "cell_type": "code",
   "execution_count": 69,
   "id": "84eb49f7",
   "metadata": {
    "scrolled": true
   },
   "outputs": [
    {
     "data": {
      "text/plain": [
       "NaN     3531\n",
       "9.0      287\n",
       "10.0     278\n",
       "2.0      278\n",
       "3.0      277\n",
       "        ... \n",
       "50.0      10\n",
       "18.0      10\n",
       "42.0       9\n",
       "26.0       8\n",
       "43.0       7\n",
       "Name: Discount_offered, Length: 66, dtype: int64"
      ]
     },
     "execution_count": 69,
     "metadata": {},
     "output_type": "execute_result"
    }
   ],
   "source": [
    "train['Discount_offered'].value_counts(dropna=False)"
   ]
  },
  {
   "cell_type": "code",
   "execution_count": 70,
   "id": "7b0e1538",
   "metadata": {},
   "outputs": [
    {
     "data": {
      "text/plain": [
       "NaN     1915\n",
       "3.0      171\n",
       "7.0      170\n",
       "5.0      169\n",
       "6.0      166\n",
       "        ... \n",
       "55.0       4\n",
       "30.0       4\n",
       "58.0       4\n",
       "34.0       3\n",
       "65.0       2\n",
       "Name: Discount_offered, Length: 66, dtype: int64"
      ]
     },
     "execution_count": 70,
     "metadata": {},
     "output_type": "execute_result"
    }
   ],
   "source": [
    "test['Discount_offered'].value_counts(dropna=False)"
   ]
  },
  {
   "cell_type": "markdown",
   "id": "1e1bba95",
   "metadata": {},
   "source": [
    "- 제공되는 할인의 결측치 개수는 3531개로, 반 이상인 것을 확인할 수 있다.\n",
    "- 할인과 목표변수가 관계가 있을까?"
   ]
  },
  {
   "cell_type": "code",
   "execution_count": 71,
   "id": "68a69e29",
   "metadata": {},
   "outputs": [
    {
     "data": {
      "text/plain": [
       "<Axes: xlabel='Reached.on.Time_Y.N', ylabel='Discount_offered'>"
      ]
     },
     "execution_count": 71,
     "metadata": {},
     "output_type": "execute_result"
    },
    {
     "data": {
      "image/png": "[encoded data removed]",
      "text/plain": [
       "<Figure size 640x480 with 1 Axes>"
      ]
     },
     "metadata": {},
     "output_type": "display_data"
    }
   ],
   "source": [
    "sns.boxplot(data=train, x='Reached.on.Time_Y.N', y='Discount_offered')"
   ]
  },
  {
   "cell_type": "code",
   "execution_count": 72,
   "id": "ad01d805",
   "metadata": {},
   "outputs": [
    {
     "data": {
      "image/png": "[encoded data removed]",
      "text/plain": [
       "<Figure size 1500x500 with 1 Axes>"
      ]
     },
     "metadata": {},
     "output_type": "display_data"
    }
   ],
   "source": [
    "plt.figure(figsize=(15,5))\n",
    "sns.countplot(data=train, x='Discount_offered', hue='Reached.on.Time_Y.N')\n",
    "plt.xticks(rotation=90)\n",
    "plt.show()"
   ]
  },
  {
   "cell_type": "code",
   "execution_count": 73,
   "id": "29df1e00",
   "metadata": {},
   "outputs": [
    {
     "data": {
      "text/plain": [
       "1403"
      ]
     },
     "execution_count": 73,
     "metadata": {},
     "output_type": "execute_result"
    }
   ],
   "source": [
    "# 제시간에 도착한 경우 개수\n",
    "train[train['Reached.on.Time_Y.N']==0]['Discount_offered'].count()"
   ]
  },
  {
   "cell_type": "code",
   "execution_count": 74,
   "id": "610c42a5",
   "metadata": {},
   "outputs": [
    {
     "data": {
      "text/plain": [
       "1228"
      ]
     },
     "execution_count": 74,
     "metadata": {},
     "output_type": "execute_result"
    }
   ],
   "source": [
    "# 제공되는 할인이 10이하이면서 제시간에 도착하지 못한 경우 개수\n",
    "train[(train['Reached.on.Time_Y.N']==1) & (train['Discount_offered']<=10.0)]['Discount_offered'].count()"
   ]
  },
  {
   "cell_type": "markdown",
   "id": "613bfe79",
   "metadata": {},
   "source": [
    "- 제공되는 할인이 10보다 큰 경우에는 모두 제시간에 도착하지 못했다.\n",
    "- 제공되는 할인이 10이하일 경우에는 제시간에 도착한 경우(1403개)와 제시간에 도착하지 못한 경우(1228개)가 비슷하다.\n",
    "\n",
    "- 제공되는 할인을 할인이 없다는 가정 하에 0으로 대체하는 게 나을까, 목표변수 결과에 따른 평균값으로 대체하는 게 나을까, 중앙값으로 대체하는 게 나을까?\n",
    "- 결측치가 반 이상이므로 제거하는 게 나을까?"
   ]
  },
  {
   "cell_type": "code",
   "execution_count": 75,
   "id": "99d51982",
   "metadata": {},
   "outputs": [
    {
     "data": {
      "image/png": "[encoded data removed]",
      "text/plain": [
       "<Figure size 1500x500 with 1 Axes>"
      ]
     },
     "metadata": {},
     "output_type": "display_data"
    }
   ],
   "source": [
    "# 제공되는 할인이 없다는 가정 하에 0으로 대체하자.\n",
    "train['Discount_offered'].fillna(0, inplace=True)\n",
    "test['Discount_offered'].fillna(0, inplace=True)\n",
    "\n",
    "plt.figure(figsize=(15,5))\n",
    "sns.countplot(data=train, x='Discount_offered', hue='Reached.on.Time_Y.N')\n",
    "plt.xticks(rotation=90)\n",
    "plt.show()"
   ]
  },
  {
   "cell_type": "markdown",
   "id": "62e71c85",
   "metadata": {},
   "source": [
    "- 할인이 10보다 큰 경우와 그렇지 않은 경우로 나누는 것은 어떨까? ************************"
   ]
  },
  {
   "cell_type": "markdown",
   "id": "df68af90",
   "metadata": {},
   "source": [
    "### Cost_of_the_Product (제품 비용)"
   ]
  },
  {
   "cell_type": "code",
   "execution_count": 76,
   "id": "928c83bb",
   "metadata": {},
   "outputs": [
    {
     "data": {
      "text/plain": [
       "96       3\n",
       "97       1\n",
       "98      10\n",
       "99       3\n",
       "100      6\n",
       "        ..\n",
       "307     10\n",
       "308     13\n",
       "309      8\n",
       "310     11\n",
       "9999     3\n",
       "Name: Cost_of_the_Product, Length: 216, dtype: int64"
      ]
     },
     "execution_count": 76,
     "metadata": {},
     "output_type": "execute_result"
    }
   ],
   "source": [
    "train['Cost_of_the_Product'].value_counts().sort_index()"
   ]
  },
  {
   "cell_type": "code",
   "execution_count": 77,
   "id": "3539f335",
   "metadata": {},
   "outputs": [
    {
     "data": {
      "text/plain": [
       "96      2\n",
       "97      6\n",
       "98      4\n",
       "99      2\n",
       "100     3\n",
       "       ..\n",
       "307     4\n",
       "308     7\n",
       "309     7\n",
       "310     6\n",
       "9999    1\n",
       "Name: Cost_of_the_Product, Length: 215, dtype: int64"
      ]
     },
     "execution_count": 77,
     "metadata": {},
     "output_type": "execute_result"
    }
   ],
   "source": [
    "test['Cost_of_the_Product'].value_counts().sort_index()"
   ]
  },
  {
   "cell_type": "code",
   "execution_count": 78,
   "id": "5d5ff6ae",
   "metadata": {},
   "outputs": [
    {
     "data": {
      "text/plain": [
       "<Axes: xlabel='Cost_of_the_Product'>"
      ]
     },
     "execution_count": 78,
     "metadata": {},
     "output_type": "execute_result"
    },
    {
     "data": {
      "image/png": "[encoded data removed]",
      "text/plain": [
       "<Figure size 640x480 with 1 Axes>"
      ]
     },
     "metadata": {},
     "output_type": "display_data"
    }
   ],
   "source": [
    "sns.boxplot(data=train, x='Cost_of_the_Product')"
   ]
  },
  {
   "cell_type": "markdown",
   "id": "9ed13ef9",
   "metadata": {},
   "source": [
    "- 이상치(9999) 3개 존재한다.\n",
    "- 처리 방법\n",
    "    1. 제거한다.\n",
    "    2. 결측치를 제외한 평균값으로 대체한다.\n",
    "    - => 평균으로 대체해보자."
   ]
  },
  {
   "cell_type": "code",
   "execution_count": 79,
   "id": "4f446cbd",
   "metadata": {
    "scrolled": true
   },
   "outputs": [
    {
     "data": {
      "text/html": [
       "<div>\n",
       "<style scoped>\n",
       "    .dataframe tbody tr th:only-of-type {\n",
       "        vertical-align: middle;\n",
       "    }\n",
       "\n",
       "    .dataframe tbody tr th {\n",
       "        vertical-align: top;\n",
       "    }\n",
       "\n",
       "    .dataframe thead th {\n",
       "        text-align: right;\n",
       "    }\n",
       "</style>\n",
       "<table border=\"1\" class=\"dataframe\">\n",
       "  <thead>\n",
       "    <tr style=\"text-align: right;\">\n",
       "      <th></th>\n",
       "      <th>Warehouse_block</th>\n",
       "      <th>Mode_of_Shipment</th>\n",
       "      <th>Customer_care_calls</th>\n",
       "      <th>Customer_rating</th>\n",
       "      <th>Cost_of_the_Product</th>\n",
       "      <th>Prior_purchases</th>\n",
       "      <th>Product_importance</th>\n",
       "      <th>Gender</th>\n",
       "      <th>Discount_offered</th>\n",
       "      <th>Weight_in_gms</th>\n",
       "      <th>Reached.on.Time_Y.N</th>\n",
       "    </tr>\n",
       "    <tr>\n",
       "      <th>ID</th>\n",
       "      <th></th>\n",
       "      <th></th>\n",
       "      <th></th>\n",
       "      <th></th>\n",
       "      <th></th>\n",
       "      <th></th>\n",
       "      <th></th>\n",
       "      <th></th>\n",
       "      <th></th>\n",
       "      <th></th>\n",
       "      <th></th>\n",
       "    </tr>\n",
       "  </thead>\n",
       "  <tbody>\n",
       "    <tr>\n",
       "      <th>112</th>\n",
       "      <td>C</td>\n",
       "      <td>Ship</td>\n",
       "      <td>3.0</td>\n",
       "      <td>2</td>\n",
       "      <td>9999</td>\n",
       "      <td>4.0</td>\n",
       "      <td>2</td>\n",
       "      <td>F</td>\n",
       "      <td>0.0</td>\n",
       "      <td>1322</td>\n",
       "      <td>1</td>\n",
       "    </tr>\n",
       "    <tr>\n",
       "      <th>6256</th>\n",
       "      <td>B</td>\n",
       "      <td>Ship</td>\n",
       "      <td>2.0</td>\n",
       "      <td>2</td>\n",
       "      <td>9999</td>\n",
       "      <td>4.0</td>\n",
       "      <td>2</td>\n",
       "      <td>M</td>\n",
       "      <td>0.0</td>\n",
       "      <td>4066</td>\n",
       "      <td>0</td>\n",
       "    </tr>\n",
       "    <tr>\n",
       "      <th>6613</th>\n",
       "      <td>F</td>\n",
       "      <td>Flight</td>\n",
       "      <td>4.0</td>\n",
       "      <td>4</td>\n",
       "      <td>9999</td>\n",
       "      <td>3.0</td>\n",
       "      <td>2</td>\n",
       "      <td>F</td>\n",
       "      <td>0.0</td>\n",
       "      <td>5555</td>\n",
       "      <td>1</td>\n",
       "    </tr>\n",
       "  </tbody>\n",
       "</table>\n",
       "</div>"
      ],
      "text/plain": [
       "     Warehouse_block  Mode_of_Shipment  Customer_care_calls  Customer_rating  \\\n",
       "ID                                                                             \n",
       "112                 C             Ship                  3.0                2   \n",
       "6256                B             Ship                  2.0                2   \n",
       "6613                F           Flight                  4.0                4   \n",
       "\n",
       "      Cost_of_the_Product  Prior_purchases  Product_importance Gender  \\\n",
       "ID                                                                      \n",
       "112                  9999              4.0                   2      F   \n",
       "6256                 9999              4.0                   2      M   \n",
       "6613                 9999              3.0                   2      F   \n",
       "\n",
       "      Discount_offered  Weight_in_gms  Reached.on.Time_Y.N  \n",
       "ID                                                          \n",
       "112                0.0           1322                    1  \n",
       "6256               0.0           4066                    0  \n",
       "6613               0.0           5555                    1  "
      ]
     },
     "execution_count": 79,
     "metadata": {},
     "output_type": "execute_result"
    }
   ],
   "source": [
    "train[train['Cost_of_the_Product']==9999]"
   ]
  },
  {
   "cell_type": "code",
   "execution_count": 80,
   "id": "bc85384b",
   "metadata": {},
   "outputs": [],
   "source": [
    "not9999 = train[train['Cost_of_the_Product']!=9999]"
   ]
  },
  {
   "cell_type": "code",
   "execution_count": 81,
   "id": "5f833c49",
   "metadata": {},
   "outputs": [],
   "source": [
    "# 이상치 처리 - 평균으로 대체하기\n",
    "def fill_cost(row):\n",
    "    if row['Cost_of_the_Product']==9999: # 9999이면 평균으로 대체\n",
    "        return not9999['Cost_of_the_Product'].mean()\n",
    "    else: # 아니면 그대로\n",
    "        return row['Cost_of_the_Product']"
   ]
  },
  {
   "cell_type": "code",
   "execution_count": 82,
   "id": "1dc0de21",
   "metadata": {},
   "outputs": [],
   "source": [
    "train['Cost_of_the_Product'] = train.apply(fill_cost, axis=1).astype('int64')"
   ]
  },
  {
   "cell_type": "code",
   "execution_count": 83,
   "id": "13801aa8",
   "metadata": {},
   "outputs": [],
   "source": [
    "test['Cost_of_the_Product'] = test.apply(fill_cost, axis=1).astype('int64')"
   ]
  },
  {
   "cell_type": "code",
   "execution_count": 84,
   "id": "5bc1757b",
   "metadata": {},
   "outputs": [
    {
     "data": {
      "text/plain": [
       "<Axes: xlabel='Cost_of_the_Product'>"
      ]
     },
     "execution_count": 84,
     "metadata": {},
     "output_type": "execute_result"
    },
    {
     "data": {
      "image/png": "[encoded data removed]",
      "text/plain": [
       "<Figure size 640x480 with 1 Axes>"
      ]
     },
     "metadata": {},
     "output_type": "display_data"
    }
   ],
   "source": [
    "sns.boxplot(data=train, x='Cost_of_the_Product')"
   ]
  },
  {
   "cell_type": "markdown",
   "id": "47cf0565",
   "metadata": {},
   "source": [
    "# 4. 탐색적 데이터 분석 (EDA)"
   ]
  },
  {
   "cell_type": "markdown",
   "id": "284e72aa",
   "metadata": {},
   "source": [
    "### 원 핫 인코딩"
   ]
  },
  {
   "cell_type": "code",
   "execution_count": 85,
   "id": "96a2e343",
   "metadata": {},
   "outputs": [
    {
     "data": {
      "text/plain": [
       "Index(['Warehouse_block ', 'Mode_of_Shipment', 'Customer_care_calls',\n",
       "       'Customer_rating', 'Cost_of_the_Product', 'Prior_purchases',\n",
       "       'Product_importance', 'Gender', 'Discount_offered', 'Weight_in_gms',\n",
       "       'Reached.on.Time_Y.N'],\n",
       "      dtype='object')"
      ]
     },
     "execution_count": 85,
     "metadata": {},
     "output_type": "execute_result"
    }
   ],
   "source": [
    "train.columns"
   ]
  },
  {
   "cell_type": "code",
   "execution_count": 86,
   "id": "198377fe",
   "metadata": {},
   "outputs": [],
   "source": [
    "cat_feature = ['Warehouse_block ', 'Mode_of_Shipment','Gender'] # 범주형 변수"
   ]
  },
  {
   "cell_type": "code",
   "execution_count": 87,
   "id": "ff9c3e17",
   "metadata": {},
   "outputs": [],
   "source": [
    "# 원 핫 인코딩 진행 \n",
    "for cat_name in cat_feature:\n",
    "    dummy = pd.get_dummies(train[cat_name], prefix = cat_name)\n",
    "    train = pd.concat([train, dummy], axis = 1)\n",
    "    train.drop(cat_name, axis = 1, inplace=True)"
   ]
  },
  {
   "cell_type": "code",
   "execution_count": 88,
   "id": "6a211930",
   "metadata": {},
   "outputs": [],
   "source": [
    "for cat_name in cat_feature:\n",
    "    dummy = pd.get_dummies(test[cat_name], prefix = cat_name)\n",
    "    test = pd.concat([test, dummy], axis = 1)\n",
    "    test.drop(cat_name, axis = 1, inplace=True)"
   ]
  },
  {
   "cell_type": "code",
   "execution_count": 89,
   "id": "538af153",
   "metadata": {},
   "outputs": [
    {
     "data": {
      "text/html": [
       "<div>\n",
       "<style scoped>\n",
       "    .dataframe tbody tr th:only-of-type {\n",
       "        vertical-align: middle;\n",
       "    }\n",
       "\n",
       "    .dataframe tbody tr th {\n",
       "        vertical-align: top;\n",
       "    }\n",
       "\n",
       "    .dataframe thead th {\n",
       "        text-align: right;\n",
       "    }\n",
       "</style>\n",
       "<table border=\"1\" class=\"dataframe\">\n",
       "  <thead>\n",
       "    <tr style=\"text-align: right;\">\n",
       "      <th></th>\n",
       "      <th>Customer_care_calls</th>\n",
       "      <th>Customer_rating</th>\n",
       "      <th>Cost_of_the_Product</th>\n",
       "      <th>Prior_purchases</th>\n",
       "      <th>Product_importance</th>\n",
       "      <th>Discount_offered</th>\n",
       "      <th>Weight_in_gms</th>\n",
       "      <th>Reached.on.Time_Y.N</th>\n",
       "      <th>Warehouse_block _A</th>\n",
       "      <th>Warehouse_block _B</th>\n",
       "      <th>Warehouse_block _C</th>\n",
       "      <th>Warehouse_block _D</th>\n",
       "      <th>Warehouse_block _F</th>\n",
       "      <th>Mode_of_Shipment_Flight</th>\n",
       "      <th>Mode_of_Shipment_Other</th>\n",
       "      <th>Mode_of_Shipment_Road</th>\n",
       "      <th>Mode_of_Shipment_Ship</th>\n",
       "      <th>Gender_F</th>\n",
       "      <th>Gender_M</th>\n",
       "    </tr>\n",
       "    <tr>\n",
       "      <th>ID</th>\n",
       "      <th></th>\n",
       "      <th></th>\n",
       "      <th></th>\n",
       "      <th></th>\n",
       "      <th></th>\n",
       "      <th></th>\n",
       "      <th></th>\n",
       "      <th></th>\n",
       "      <th></th>\n",
       "      <th></th>\n",
       "      <th></th>\n",
       "      <th></th>\n",
       "      <th></th>\n",
       "      <th></th>\n",
       "      <th></th>\n",
       "      <th></th>\n",
       "      <th></th>\n",
       "      <th></th>\n",
       "      <th></th>\n",
       "    </tr>\n",
       "  </thead>\n",
       "  <tbody>\n",
       "    <tr>\n",
       "      <th>1</th>\n",
       "      <td>2.0</td>\n",
       "      <td>2</td>\n",
       "      <td>135</td>\n",
       "      <td>3.0</td>\n",
       "      <td>1</td>\n",
       "      <td>0.0</td>\n",
       "      <td>1339</td>\n",
       "      <td>1</td>\n",
       "      <td>0</td>\n",
       "      <td>0</td>\n",
       "      <td>1</td>\n",
       "      <td>0</td>\n",
       "      <td>0</td>\n",
       "      <td>0</td>\n",
       "      <td>0</td>\n",
       "      <td>0</td>\n",
       "      <td>1</td>\n",
       "      <td>0</td>\n",
       "      <td>1</td>\n",
       "    </tr>\n",
       "    <tr>\n",
       "      <th>2</th>\n",
       "      <td>5.0</td>\n",
       "      <td>3</td>\n",
       "      <td>225</td>\n",
       "      <td>5.0</td>\n",
       "      <td>1</td>\n",
       "      <td>6.0</td>\n",
       "      <td>1082</td>\n",
       "      <td>0</td>\n",
       "      <td>0</td>\n",
       "      <td>0</td>\n",
       "      <td>0</td>\n",
       "      <td>0</td>\n",
       "      <td>1</td>\n",
       "      <td>1</td>\n",
       "      <td>0</td>\n",
       "      <td>0</td>\n",
       "      <td>0</td>\n",
       "      <td>1</td>\n",
       "      <td>0</td>\n",
       "    </tr>\n",
       "    <tr>\n",
       "      <th>3</th>\n",
       "      <td>3.0</td>\n",
       "      <td>1</td>\n",
       "      <td>229</td>\n",
       "      <td>3.0</td>\n",
       "      <td>1</td>\n",
       "      <td>0.0</td>\n",
       "      <td>4971</td>\n",
       "      <td>1</td>\n",
       "      <td>0</td>\n",
       "      <td>0</td>\n",
       "      <td>0</td>\n",
       "      <td>0</td>\n",
       "      <td>1</td>\n",
       "      <td>0</td>\n",
       "      <td>0</td>\n",
       "      <td>0</td>\n",
       "      <td>1</td>\n",
       "      <td>0</td>\n",
       "      <td>1</td>\n",
       "    </tr>\n",
       "    <tr>\n",
       "      <th>4</th>\n",
       "      <td>3.0</td>\n",
       "      <td>2</td>\n",
       "      <td>228</td>\n",
       "      <td>0.0</td>\n",
       "      <td>2</td>\n",
       "      <td>2.0</td>\n",
       "      <td>5640</td>\n",
       "      <td>0</td>\n",
       "      <td>0</td>\n",
       "      <td>0</td>\n",
       "      <td>0</td>\n",
       "      <td>0</td>\n",
       "      <td>1</td>\n",
       "      <td>0</td>\n",
       "      <td>0</td>\n",
       "      <td>0</td>\n",
       "      <td>1</td>\n",
       "      <td>0</td>\n",
       "      <td>1</td>\n",
       "    </tr>\n",
       "    <tr>\n",
       "      <th>5</th>\n",
       "      <td>0.0</td>\n",
       "      <td>1</td>\n",
       "      <td>195</td>\n",
       "      <td>6.0</td>\n",
       "      <td>3</td>\n",
       "      <td>0.0</td>\n",
       "      <td>4944</td>\n",
       "      <td>1</td>\n",
       "      <td>0</td>\n",
       "      <td>0</td>\n",
       "      <td>0</td>\n",
       "      <td>1</td>\n",
       "      <td>0</td>\n",
       "      <td>1</td>\n",
       "      <td>0</td>\n",
       "      <td>0</td>\n",
       "      <td>0</td>\n",
       "      <td>1</td>\n",
       "      <td>0</td>\n",
       "    </tr>\n",
       "    <tr>\n",
       "      <th>...</th>\n",
       "      <td>...</td>\n",
       "      <td>...</td>\n",
       "      <td>...</td>\n",
       "      <td>...</td>\n",
       "      <td>...</td>\n",
       "      <td>...</td>\n",
       "      <td>...</td>\n",
       "      <td>...</td>\n",
       "      <td>...</td>\n",
       "      <td>...</td>\n",
       "      <td>...</td>\n",
       "      <td>...</td>\n",
       "      <td>...</td>\n",
       "      <td>...</td>\n",
       "      <td>...</td>\n",
       "      <td>...</td>\n",
       "      <td>...</td>\n",
       "      <td>...</td>\n",
       "      <td>...</td>\n",
       "    </tr>\n",
       "    <tr>\n",
       "      <th>6995</th>\n",
       "      <td>4.0</td>\n",
       "      <td>2</td>\n",
       "      <td>232</td>\n",
       "      <td>5.0</td>\n",
       "      <td>2</td>\n",
       "      <td>4.0</td>\n",
       "      <td>1783</td>\n",
       "      <td>0</td>\n",
       "      <td>0</td>\n",
       "      <td>0</td>\n",
       "      <td>0</td>\n",
       "      <td>1</td>\n",
       "      <td>0</td>\n",
       "      <td>0</td>\n",
       "      <td>0</td>\n",
       "      <td>0</td>\n",
       "      <td>1</td>\n",
       "      <td>1</td>\n",
       "      <td>0</td>\n",
       "    </tr>\n",
       "    <tr>\n",
       "      <th>6996</th>\n",
       "      <td>3.0</td>\n",
       "      <td>5</td>\n",
       "      <td>228</td>\n",
       "      <td>2.0</td>\n",
       "      <td>2</td>\n",
       "      <td>0.0</td>\n",
       "      <td>5208</td>\n",
       "      <td>0</td>\n",
       "      <td>0</td>\n",
       "      <td>0</td>\n",
       "      <td>0</td>\n",
       "      <td>0</td>\n",
       "      <td>1</td>\n",
       "      <td>0</td>\n",
       "      <td>0</td>\n",
       "      <td>0</td>\n",
       "      <td>1</td>\n",
       "      <td>1</td>\n",
       "      <td>0</td>\n",
       "    </tr>\n",
       "    <tr>\n",
       "      <th>6997</th>\n",
       "      <td>0.0</td>\n",
       "      <td>1</td>\n",
       "      <td>300</td>\n",
       "      <td>5.0</td>\n",
       "      <td>1</td>\n",
       "      <td>10.0</td>\n",
       "      <td>1787</td>\n",
       "      <td>0</td>\n",
       "      <td>0</td>\n",
       "      <td>0</td>\n",
       "      <td>0</td>\n",
       "      <td>1</td>\n",
       "      <td>0</td>\n",
       "      <td>0</td>\n",
       "      <td>0</td>\n",
       "      <td>0</td>\n",
       "      <td>1</td>\n",
       "      <td>1</td>\n",
       "      <td>0</td>\n",
       "    </tr>\n",
       "    <tr>\n",
       "      <th>6998</th>\n",
       "      <td>3.0</td>\n",
       "      <td>1</td>\n",
       "      <td>232</td>\n",
       "      <td>2.0</td>\n",
       "      <td>2</td>\n",
       "      <td>0.0</td>\n",
       "      <td>4719</td>\n",
       "      <td>0</td>\n",
       "      <td>1</td>\n",
       "      <td>0</td>\n",
       "      <td>0</td>\n",
       "      <td>0</td>\n",
       "      <td>0</td>\n",
       "      <td>0</td>\n",
       "      <td>0</td>\n",
       "      <td>1</td>\n",
       "      <td>0</td>\n",
       "      <td>0</td>\n",
       "      <td>1</td>\n",
       "    </tr>\n",
       "    <tr>\n",
       "      <th>6999</th>\n",
       "      <td>3.0</td>\n",
       "      <td>3</td>\n",
       "      <td>262</td>\n",
       "      <td>7.0</td>\n",
       "      <td>3</td>\n",
       "      <td>0.0</td>\n",
       "      <td>5097</td>\n",
       "      <td>0</td>\n",
       "      <td>1</td>\n",
       "      <td>0</td>\n",
       "      <td>0</td>\n",
       "      <td>0</td>\n",
       "      <td>0</td>\n",
       "      <td>0</td>\n",
       "      <td>0</td>\n",
       "      <td>0</td>\n",
       "      <td>1</td>\n",
       "      <td>1</td>\n",
       "      <td>0</td>\n",
       "    </tr>\n",
       "  </tbody>\n",
       "</table>\n",
       "<p>6999 rows × 19 columns</p>\n",
       "</div>"
      ],
      "text/plain": [
       "      Customer_care_calls  Customer_rating  Cost_of_the_Product  \\\n",
       "ID                                                                \n",
       "1                     2.0                2                  135   \n",
       "2                     5.0                3                  225   \n",
       "3                     3.0                1                  229   \n",
       "4                     3.0                2                  228   \n",
       "5                     0.0                1                  195   \n",
       "...                   ...              ...                  ...   \n",
       "6995                  4.0                2                  232   \n",
       "6996                  3.0                5                  228   \n",
       "6997                  0.0                1                  300   \n",
       "6998                  3.0                1                  232   \n",
       "6999                  3.0                3                  262   \n",
       "\n",
       "      Prior_purchases  Product_importance  Discount_offered  Weight_in_gms  \\\n",
       "ID                                                                           \n",
       "1                 3.0                   1               0.0           1339   \n",
       "2                 5.0                   1               6.0           1082   \n",
       "3                 3.0                   1               0.0           4971   \n",
       "4                 0.0                   2               2.0           5640   \n",
       "5                 6.0                   3               0.0           4944   \n",
       "...               ...                 ...               ...            ...   \n",
       "6995              5.0                   2               4.0           1783   \n",
       "6996              2.0                   2               0.0           5208   \n",
       "6997              5.0                   1              10.0           1787   \n",
       "6998              2.0                   2               0.0           4719   \n",
       "6999              7.0                   3               0.0           5097   \n",
       "\n",
       "      Reached.on.Time_Y.N  Warehouse_block _A  Warehouse_block _B  \\\n",
       "ID                                                                  \n",
       "1                       1                   0                   0   \n",
       "2                       0                   0                   0   \n",
       "3                       1                   0                   0   \n",
       "4                       0                   0                   0   \n",
       "5                       1                   0                   0   \n",
       "...                   ...                 ...                 ...   \n",
       "6995                    0                   0                   0   \n",
       "6996                    0                   0                   0   \n",
       "6997                    0                   0                   0   \n",
       "6998                    0                   1                   0   \n",
       "6999                    0                   1                   0   \n",
       "\n",
       "      Warehouse_block _C  Warehouse_block _D  Warehouse_block _F  \\\n",
       "ID                                                                 \n",
       "1                      1                   0                   0   \n",
       "2                      0                   0                   1   \n",
       "3                      0                   0                   1   \n",
       "4                      0                   0                   1   \n",
       "5                      0                   1                   0   \n",
       "...                  ...                 ...                 ...   \n",
       "6995                   0                   1                   0   \n",
       "6996                   0                   0                   1   \n",
       "6997                   0                   1                   0   \n",
       "6998                   0                   0                   0   \n",
       "6999                   0                   0                   0   \n",
       "\n",
       "      Mode_of_Shipment_Flight  Mode_of_Shipment_Other  Mode_of_Shipment_Road  \\\n",
       "ID                                                                             \n",
       "1                           0                       0                      0   \n",
       "2                           1                       0                      0   \n",
       "3                           0                       0                      0   \n",
       "4                           0                       0                      0   \n",
       "5                           1                       0                      0   \n",
       "...                       ...                     ...                    ...   \n",
       "6995                        0                       0                      0   \n",
       "6996                        0                       0                      0   \n",
       "6997                        0                       0                      0   \n",
       "6998                        0                       0                      1   \n",
       "6999                        0                       0                      0   \n",
       "\n",
       "      Mode_of_Shipment_Ship  Gender_F  Gender_M  \n",
       "ID                                               \n",
       "1                         1         0         1  \n",
       "2                         0         1         0  \n",
       "3                         1         0         1  \n",
       "4                         1         0         1  \n",
       "5                         0         1         0  \n",
       "...                     ...       ...       ...  \n",
       "6995                      1         1         0  \n",
       "6996                      1         1         0  \n",
       "6997                      1         1         0  \n",
       "6998                      0         0         1  \n",
       "6999                      1         1         0  \n",
       "\n",
       "[6999 rows x 19 columns]"
      ]
     },
     "execution_count": 89,
     "metadata": {},
     "output_type": "execute_result"
    }
   ],
   "source": [
    "train"
   ]
  },
  {
   "cell_type": "code",
   "execution_count": 90,
   "id": "ccbc97ab",
   "metadata": {
    "scrolled": false
   },
   "outputs": [
    {
     "data": {
      "text/html": [
       "<div>\n",
       "<style scoped>\n",
       "    .dataframe tbody tr th:only-of-type {\n",
       "        vertical-align: middle;\n",
       "    }\n",
       "\n",
       "    .dataframe tbody tr th {\n",
       "        vertical-align: top;\n",
       "    }\n",
       "\n",
       "    .dataframe thead th {\n",
       "        text-align: right;\n",
       "    }\n",
       "</style>\n",
       "<table border=\"1\" class=\"dataframe\">\n",
       "  <thead>\n",
       "    <tr style=\"text-align: right;\">\n",
       "      <th></th>\n",
       "      <th>Customer_care_calls</th>\n",
       "      <th>Customer_rating</th>\n",
       "      <th>Cost_of_the_Product</th>\n",
       "      <th>Prior_purchases</th>\n",
       "      <th>Product_importance</th>\n",
       "      <th>Discount_offered</th>\n",
       "      <th>Weight_in_gms</th>\n",
       "      <th>Warehouse_block _A</th>\n",
       "      <th>Warehouse_block _B</th>\n",
       "      <th>Warehouse_block _C</th>\n",
       "      <th>Warehouse_block _D</th>\n",
       "      <th>Warehouse_block _F</th>\n",
       "      <th>Mode_of_Shipment_Flight</th>\n",
       "      <th>Mode_of_Shipment_Other</th>\n",
       "      <th>Mode_of_Shipment_Road</th>\n",
       "      <th>Mode_of_Shipment_Ship</th>\n",
       "      <th>Gender_F</th>\n",
       "      <th>Gender_M</th>\n",
       "    </tr>\n",
       "    <tr>\n",
       "      <th>ID</th>\n",
       "      <th></th>\n",
       "      <th></th>\n",
       "      <th></th>\n",
       "      <th></th>\n",
       "      <th></th>\n",
       "      <th></th>\n",
       "      <th></th>\n",
       "      <th></th>\n",
       "      <th></th>\n",
       "      <th></th>\n",
       "      <th></th>\n",
       "      <th></th>\n",
       "      <th></th>\n",
       "      <th></th>\n",
       "      <th></th>\n",
       "      <th></th>\n",
       "      <th></th>\n",
       "      <th></th>\n",
       "    </tr>\n",
       "  </thead>\n",
       "  <tbody>\n",
       "    <tr>\n",
       "      <th>7000</th>\n",
       "      <td>3.0</td>\n",
       "      <td>1</td>\n",
       "      <td>274</td>\n",
       "      <td>0.0</td>\n",
       "      <td>3</td>\n",
       "      <td>0.0</td>\n",
       "      <td>4352</td>\n",
       "      <td>0</td>\n",
       "      <td>0</td>\n",
       "      <td>0</td>\n",
       "      <td>0</td>\n",
       "      <td>1</td>\n",
       "      <td>0</td>\n",
       "      <td>0</td>\n",
       "      <td>0</td>\n",
       "      <td>1</td>\n",
       "      <td>0</td>\n",
       "      <td>1</td>\n",
       "    </tr>\n",
       "    <tr>\n",
       "      <th>7001</th>\n",
       "      <td>3.0</td>\n",
       "      <td>4</td>\n",
       "      <td>136</td>\n",
       "      <td>2.0</td>\n",
       "      <td>2</td>\n",
       "      <td>0.0</td>\n",
       "      <td>1056</td>\n",
       "      <td>0</td>\n",
       "      <td>0</td>\n",
       "      <td>0</td>\n",
       "      <td>0</td>\n",
       "      <td>1</td>\n",
       "      <td>0</td>\n",
       "      <td>0</td>\n",
       "      <td>0</td>\n",
       "      <td>1</td>\n",
       "      <td>1</td>\n",
       "      <td>0</td>\n",
       "    </tr>\n",
       "    <tr>\n",
       "      <th>7002</th>\n",
       "      <td>0.0</td>\n",
       "      <td>5</td>\n",
       "      <td>140</td>\n",
       "      <td>3.0</td>\n",
       "      <td>1</td>\n",
       "      <td>7.0</td>\n",
       "      <td>5383</td>\n",
       "      <td>1</td>\n",
       "      <td>0</td>\n",
       "      <td>0</td>\n",
       "      <td>0</td>\n",
       "      <td>0</td>\n",
       "      <td>1</td>\n",
       "      <td>0</td>\n",
       "      <td>0</td>\n",
       "      <td>0</td>\n",
       "      <td>1</td>\n",
       "      <td>0</td>\n",
       "    </tr>\n",
       "    <tr>\n",
       "      <th>7003</th>\n",
       "      <td>0.0</td>\n",
       "      <td>1</td>\n",
       "      <td>291</td>\n",
       "      <td>4.0</td>\n",
       "      <td>1</td>\n",
       "      <td>0.0</td>\n",
       "      <td>1880</td>\n",
       "      <td>0</td>\n",
       "      <td>0</td>\n",
       "      <td>1</td>\n",
       "      <td>0</td>\n",
       "      <td>0</td>\n",
       "      <td>0</td>\n",
       "      <td>0</td>\n",
       "      <td>0</td>\n",
       "      <td>1</td>\n",
       "      <td>1</td>\n",
       "      <td>0</td>\n",
       "    </tr>\n",
       "    <tr>\n",
       "      <th>7004</th>\n",
       "      <td>4.0</td>\n",
       "      <td>2</td>\n",
       "      <td>147</td>\n",
       "      <td>3.0</td>\n",
       "      <td>1</td>\n",
       "      <td>5.0</td>\n",
       "      <td>5174</td>\n",
       "      <td>0</td>\n",
       "      <td>0</td>\n",
       "      <td>0</td>\n",
       "      <td>0</td>\n",
       "      <td>1</td>\n",
       "      <td>0</td>\n",
       "      <td>1</td>\n",
       "      <td>0</td>\n",
       "      <td>0</td>\n",
       "      <td>1</td>\n",
       "      <td>0</td>\n",
       "    </tr>\n",
       "    <tr>\n",
       "      <th>...</th>\n",
       "      <td>...</td>\n",
       "      <td>...</td>\n",
       "      <td>...</td>\n",
       "      <td>...</td>\n",
       "      <td>...</td>\n",
       "      <td>...</td>\n",
       "      <td>...</td>\n",
       "      <td>...</td>\n",
       "      <td>...</td>\n",
       "      <td>...</td>\n",
       "      <td>...</td>\n",
       "      <td>...</td>\n",
       "      <td>...</td>\n",
       "      <td>...</td>\n",
       "      <td>...</td>\n",
       "      <td>...</td>\n",
       "      <td>...</td>\n",
       "      <td>...</td>\n",
       "    </tr>\n",
       "    <tr>\n",
       "      <th>10995</th>\n",
       "      <td>4.0</td>\n",
       "      <td>1</td>\n",
       "      <td>204</td>\n",
       "      <td>4.0</td>\n",
       "      <td>1</td>\n",
       "      <td>0.0</td>\n",
       "      <td>1667</td>\n",
       "      <td>1</td>\n",
       "      <td>0</td>\n",
       "      <td>0</td>\n",
       "      <td>0</td>\n",
       "      <td>0</td>\n",
       "      <td>0</td>\n",
       "      <td>1</td>\n",
       "      <td>0</td>\n",
       "      <td>0</td>\n",
       "      <td>1</td>\n",
       "      <td>0</td>\n",
       "    </tr>\n",
       "    <tr>\n",
       "      <th>10996</th>\n",
       "      <td>0.0</td>\n",
       "      <td>3</td>\n",
       "      <td>195</td>\n",
       "      <td>2.0</td>\n",
       "      <td>2</td>\n",
       "      <td>0.0</td>\n",
       "      <td>3869</td>\n",
       "      <td>0</td>\n",
       "      <td>0</td>\n",
       "      <td>1</td>\n",
       "      <td>0</td>\n",
       "      <td>0</td>\n",
       "      <td>0</td>\n",
       "      <td>0</td>\n",
       "      <td>0</td>\n",
       "      <td>1</td>\n",
       "      <td>0</td>\n",
       "      <td>1</td>\n",
       "    </tr>\n",
       "    <tr>\n",
       "      <th>10997</th>\n",
       "      <td>0.0</td>\n",
       "      <td>3</td>\n",
       "      <td>206</td>\n",
       "      <td>2.0</td>\n",
       "      <td>2</td>\n",
       "      <td>7.0</td>\n",
       "      <td>4531</td>\n",
       "      <td>0</td>\n",
       "      <td>1</td>\n",
       "      <td>0</td>\n",
       "      <td>0</td>\n",
       "      <td>0</td>\n",
       "      <td>1</td>\n",
       "      <td>0</td>\n",
       "      <td>0</td>\n",
       "      <td>0</td>\n",
       "      <td>0</td>\n",
       "      <td>1</td>\n",
       "    </tr>\n",
       "    <tr>\n",
       "      <th>10998</th>\n",
       "      <td>6.0</td>\n",
       "      <td>4</td>\n",
       "      <td>255</td>\n",
       "      <td>4.0</td>\n",
       "      <td>1</td>\n",
       "      <td>7.0</td>\n",
       "      <td>1869</td>\n",
       "      <td>0</td>\n",
       "      <td>0</td>\n",
       "      <td>1</td>\n",
       "      <td>0</td>\n",
       "      <td>0</td>\n",
       "      <td>0</td>\n",
       "      <td>0</td>\n",
       "      <td>0</td>\n",
       "      <td>1</td>\n",
       "      <td>0</td>\n",
       "      <td>1</td>\n",
       "    </tr>\n",
       "    <tr>\n",
       "      <th>10999</th>\n",
       "      <td>5.0</td>\n",
       "      <td>1</td>\n",
       "      <td>252</td>\n",
       "      <td>5.0</td>\n",
       "      <td>1</td>\n",
       "      <td>4.0</td>\n",
       "      <td>1308</td>\n",
       "      <td>0</td>\n",
       "      <td>0</td>\n",
       "      <td>0</td>\n",
       "      <td>1</td>\n",
       "      <td>0</td>\n",
       "      <td>0</td>\n",
       "      <td>0</td>\n",
       "      <td>0</td>\n",
       "      <td>1</td>\n",
       "      <td>0</td>\n",
       "      <td>1</td>\n",
       "    </tr>\n",
       "  </tbody>\n",
       "</table>\n",
       "<p>4000 rows × 18 columns</p>\n",
       "</div>"
      ],
      "text/plain": [
       "       Customer_care_calls  Customer_rating  Cost_of_the_Product  \\\n",
       "ID                                                                 \n",
       "7000                   3.0                1                  274   \n",
       "7001                   3.0                4                  136   \n",
       "7002                   0.0                5                  140   \n",
       "7003                   0.0                1                  291   \n",
       "7004                   4.0                2                  147   \n",
       "...                    ...              ...                  ...   \n",
       "10995                  4.0                1                  204   \n",
       "10996                  0.0                3                  195   \n",
       "10997                  0.0                3                  206   \n",
       "10998                  6.0                4                  255   \n",
       "10999                  5.0                1                  252   \n",
       "\n",
       "       Prior_purchases  Product_importance  Discount_offered  Weight_in_gms  \\\n",
       "ID                                                                            \n",
       "7000               0.0                   3               0.0           4352   \n",
       "7001               2.0                   2               0.0           1056   \n",
       "7002               3.0                   1               7.0           5383   \n",
       "7003               4.0                   1               0.0           1880   \n",
       "7004               3.0                   1               5.0           5174   \n",
       "...                ...                 ...               ...            ...   \n",
       "10995              4.0                   1               0.0           1667   \n",
       "10996              2.0                   2               0.0           3869   \n",
       "10997              2.0                   2               7.0           4531   \n",
       "10998              4.0                   1               7.0           1869   \n",
       "10999              5.0                   1               4.0           1308   \n",
       "\n",
       "       Warehouse_block _A  Warehouse_block _B  Warehouse_block _C  \\\n",
       "ID                                                                  \n",
       "7000                    0                   0                   0   \n",
       "7001                    0                   0                   0   \n",
       "7002                    1                   0                   0   \n",
       "7003                    0                   0                   1   \n",
       "7004                    0                   0                   0   \n",
       "...                   ...                 ...                 ...   \n",
       "10995                   1                   0                   0   \n",
       "10996                   0                   0                   1   \n",
       "10997                   0                   1                   0   \n",
       "10998                   0                   0                   1   \n",
       "10999                   0                   0                   0   \n",
       "\n",
       "       Warehouse_block _D  Warehouse_block _F  Mode_of_Shipment_Flight  \\\n",
       "ID                                                                       \n",
       "7000                    0                   1                        0   \n",
       "7001                    0                   1                        0   \n",
       "7002                    0                   0                        1   \n",
       "7003                    0                   0                        0   \n",
       "7004                    0                   1                        0   \n",
       "...                   ...                 ...                      ...   \n",
       "10995                   0                   0                        0   \n",
       "10996                   0                   0                        0   \n",
       "10997                   0                   0                        1   \n",
       "10998                   0                   0                        0   \n",
       "10999                   1                   0                        0   \n",
       "\n",
       "       Mode_of_Shipment_Other  Mode_of_Shipment_Road  Mode_of_Shipment_Ship  \\\n",
       "ID                                                                            \n",
       "7000                        0                      0                      1   \n",
       "7001                        0                      0                      1   \n",
       "7002                        0                      0                      0   \n",
       "7003                        0                      0                      1   \n",
       "7004                        1                      0                      0   \n",
       "...                       ...                    ...                    ...   \n",
       "10995                       1                      0                      0   \n",
       "10996                       0                      0                      1   \n",
       "10997                       0                      0                      0   \n",
       "10998                       0                      0                      1   \n",
       "10999                       0                      0                      1   \n",
       "\n",
       "       Gender_F  Gender_M  \n",
       "ID                         \n",
       "7000          0         1  \n",
       "7001          1         0  \n",
       "7002          1         0  \n",
       "7003          1         0  \n",
       "7004          1         0  \n",
       "...         ...       ...  \n",
       "10995         1         0  \n",
       "10996         0         1  \n",
       "10997         0         1  \n",
       "10998         0         1  \n",
       "10999         0         1  \n",
       "\n",
       "[4000 rows x 18 columns]"
      ]
     },
     "execution_count": 90,
     "metadata": {},
     "output_type": "execute_result"
    }
   ],
   "source": [
    "test"
   ]
  },
  {
   "cell_type": "markdown",
   "id": "a4c13f49",
   "metadata": {},
   "source": [
    "### 학습/검증 데이터 분리"
   ]
  },
  {
   "cell_type": "code",
   "execution_count": 91,
   "id": "684e9173",
   "metadata": {},
   "outputs": [],
   "source": [
    "X_train = train.drop('Reached.on.Time_Y.N', axis=1)\n",
    "y_train = train['Reached.on.Time_Y.N']\n",
    "X_test = test"
   ]
  },
  {
   "cell_type": "markdown",
   "id": "e0f356b6",
   "metadata": {},
   "source": [
    "### 스케일링"
   ]
  },
  {
   "cell_type": "code",
   "execution_count": 92,
   "id": "a4da2749",
   "metadata": {},
   "outputs": [],
   "source": [
    "from sklearn.preprocessing import StandardScaler"
   ]
  },
  {
   "cell_type": "code",
   "execution_count": 93,
   "id": "e72307cc",
   "metadata": {},
   "outputs": [],
   "source": [
    "ss_scaler = StandardScaler() # 스케일링 객체 생성\n",
    "ss_scaler.fit(X_train)\n",
    "ss_X_train = ss_scaler.transform(X_train)\n",
    "ss_X_test = ss_scaler.transform(X_test)"
   ]
  },
  {
   "cell_type": "markdown",
   "id": "0860953e",
   "metadata": {},
   "source": [
    "### 모델링"
   ]
  },
  {
   "cell_type": "code",
   "execution_count": 94,
   "id": "ac512edd",
   "metadata": {},
   "outputs": [],
   "source": [
    "# 모델 import\n",
    "from xgboost import XGBClassifier\n",
    "from lightgbm import LGBMClassifier"
   ]
  },
  {
   "cell_type": "code",
   "execution_count": 95,
   "id": "71a36044",
   "metadata": {},
   "outputs": [
    {
     "data": {
      "text/html": [
       "<style>#sk-container-id-1 {color: black;background-color: white;}#sk-container-id-1 pre{padding: 0;}#sk-container-id-1 div.sk-toggleable {background-color: white;}#sk-container-id-1 label.sk-toggleable__label {cursor: pointer;display: block;width: 100%;margin-bottom: 0;padding: 0.3em;box-sizing: border-box;text-align: center;}#sk-container-id-1 label.sk-toggleable__label-arrow:before {content: \"▸\";float: left;margin-right: 0.25em;color: #696969;}#sk-container-id-1 label.sk-toggleable__label-arrow:hover:before {color: black;}#sk-container-id-1 div.sk-estimator:hover label.sk-toggleable__label-arrow:before {color: black;}#sk-container-id-1 div.sk-toggleable__content {max-height: 0;max-width: 0;overflow: hidden;text-align: left;background-color: #f0f8ff;}#sk-container-id-1 div.sk-toggleable__content pre {margin: 0.2em;color: black;border-radius: 0.25em;background-color: #f0f8ff;}#sk-container-id-1 input.sk-toggleable__control:checked~div.sk-toggleable__content {max-height: 200px;max-width: 100%;overflow: auto;}#sk-container-id-1 input.sk-toggleable__control:checked~label.sk-toggleable__label-arrow:before {content: \"▾\";}#sk-container-id-1 div.sk-estimator input.sk-toggleable__control:checked~label.sk-toggleable__label {background-color: #d4ebff;}#sk-container-id-1 div.sk-label input.sk-toggleable__control:checked~label.sk-toggleable__label {background-color: #d4ebff;}#sk-container-id-1 input.sk-hidden--visually {border: 0;clip: rect(1px 1px 1px 1px);clip: rect(1px, 1px, 1px, 1px);height: 1px;margin: -1px;overflow: hidden;padding: 0;position: absolute;width: 1px;}#sk-container-id-1 div.sk-estimator {font-family: monospace;background-color: #f0f8ff;border: 1px dotted black;border-radius: 0.25em;box-sizing: border-box;margin-bottom: 0.5em;}#sk-container-id-1 div.sk-estimator:hover {background-color: #d4ebff;}#sk-container-id-1 div.sk-parallel-item::after {content: \"\";width: 100%;border-bottom: 1px solid gray;flex-grow: 1;}#sk-container-id-1 div.sk-label:hover label.sk-toggleable__label {background-color: #d4ebff;}#sk-container-id-1 div.sk-serial::before {content: \"\";position: absolute;border-left: 1px solid gray;box-sizing: border-box;top: 0;bottom: 0;left: 50%;z-index: 0;}#sk-container-id-1 div.sk-serial {display: flex;flex-direction: column;align-items: center;background-color: white;padding-right: 0.2em;padding-left: 0.2em;position: relative;}#sk-container-id-1 div.sk-item {position: relative;z-index: 1;}#sk-container-id-1 div.sk-parallel {display: flex;align-items: stretch;justify-content: center;background-color: white;position: relative;}#sk-container-id-1 div.sk-item::before, #sk-container-id-1 div.sk-parallel-item::before {content: \"\";position: absolute;border-left: 1px solid gray;box-sizing: border-box;top: 0;bottom: 0;left: 50%;z-index: -1;}#sk-container-id-1 div.sk-parallel-item {display: flex;flex-direction: column;z-index: 1;position: relative;background-color: white;}#sk-container-id-1 div.sk-parallel-item:first-child::after {align-self: flex-end;width: 50%;}#sk-container-id-1 div.sk-parallel-item:last-child::after {align-self: flex-start;width: 50%;}#sk-container-id-1 div.sk-parallel-item:only-child::after {width: 0;}#sk-container-id-1 div.sk-dashed-wrapped {border: 1px dashed gray;margin: 0 0.4em 0.5em 0.4em;box-sizing: border-box;padding-bottom: 0.4em;background-color: white;}#sk-container-id-1 div.sk-label label {font-family: monospace;font-weight: bold;display: inline-block;line-height: 1.2em;}#sk-container-id-1 div.sk-label-container {text-align: center;}#sk-container-id-1 div.sk-container {/* jupyter's `normalize.less` sets `[hidden] { display: none; }` but bootstrap.min.css set `[hidden] { display: none !important; }` so we also need the `!important` here to be able to override the default hidden behavior on the sphinx rendered scikit-learn.org. See: https://github.com/scikit-learn/scikit-learn/issues/21755 */display: inline-block !important;position: relative;}#sk-container-id-1 div.sk-text-repr-fallback {display: none;}</style><div id=\"sk-container-id-1\" class=\"sk-top-container\"><div class=\"sk-text-repr-fallback\"><pre>XGBClassifier(base_score=None, booster=None, callbacks=None,\n",
       "              colsample_bylevel=None, colsample_bynode=None,\n",
       "              colsample_bytree=None, early_stopping_rounds=None,\n",
       "              enable_categorical=False, eval_metric=None, feature_types=None,\n",
       "              gamma=None, gpu_id=None, grow_policy=None, importance_type=None,\n",
       "              interaction_constraints=None, learning_rate=None, max_bin=None,\n",
       "              max_cat_threshold=None, max_cat_to_onehot=None,\n",
       "              max_delta_step=None, max_depth=None, max_leaves=None,\n",
       "              min_child_weight=None, missing=nan, monotone_constraints=None,\n",
       "              n_estimators=100, n_jobs=None, num_parallel_tree=None,\n",
       "              predictor=None, random_state=11, ...)</pre><b>In a Jupyter environment, please rerun this cell to show the HTML representation or trust the notebook. <br />On GitHub, the HTML representation is unable to render, please try loading this page with nbviewer.org.</b></div><div class=\"sk-container\" hidden><div class=\"sk-item\"><div class=\"sk-estimator sk-toggleable\"><input class=\"sk-toggleable__control sk-hidden--visually\" id=\"sk-estimator-id-1\" type=\"checkbox\" checked><label for=\"sk-estimator-id-1\" class=\"sk-toggleable__label sk-toggleable__label-arrow\">XGBClassifier</label><div class=\"sk-toggleable__content\"><pre>XGBClassifier(base_score=None, booster=None, callbacks=None,\n",
       "              colsample_bylevel=None, colsample_bynode=None,\n",
       "              colsample_bytree=None, early_stopping_rounds=None,\n",
       "              enable_categorical=False, eval_metric=None, feature_types=None,\n",
       "              gamma=None, gpu_id=None, grow_policy=None, importance_type=None,\n",
       "              interaction_constraints=None, learning_rate=None, max_bin=None,\n",
       "              max_cat_threshold=None, max_cat_to_onehot=None,\n",
       "              max_delta_step=None, max_depth=None, max_leaves=None,\n",
       "              min_child_weight=None, missing=nan, monotone_constraints=None,\n",
       "              n_estimators=100, n_jobs=None, num_parallel_tree=None,\n",
       "              predictor=None, random_state=11, ...)</pre></div></div></div></div></div>"
      ],
      "text/plain": [
       "XGBClassifier(base_score=None, booster=None, callbacks=None,\n",
       "              colsample_bylevel=None, colsample_bynode=None,\n",
       "              colsample_bytree=None, early_stopping_rounds=None,\n",
       "              enable_categorical=False, eval_metric=None, feature_types=None,\n",
       "              gamma=None, gpu_id=None, grow_policy=None, importance_type=None,\n",
       "              interaction_constraints=None, learning_rate=None, max_bin=None,\n",
       "              max_cat_threshold=None, max_cat_to_onehot=None,\n",
       "              max_delta_step=None, max_depth=None, max_leaves=None,\n",
       "              min_child_weight=None, missing=nan, monotone_constraints=None,\n",
       "              n_estimators=100, n_jobs=None, num_parallel_tree=None,\n",
       "              predictor=None, random_state=11, ...)"
      ]
     },
     "execution_count": 95,
     "metadata": {},
     "output_type": "execute_result"
    }
   ],
   "source": [
    "# XG boost 사용하기\n",
    "xgb_ta01 = XGBClassifier(n_estimators = 100, random_state = 11)\n",
    "xgb_ta01"
   ]
  },
  {
   "cell_type": "code",
   "execution_count": 96,
   "id": "c53ab914",
   "metadata": {},
   "outputs": [],
   "source": [
    "from sklearn.model_selection import cross_val_score"
   ]
  },
  {
   "cell_type": "code",
   "execution_count": 97,
   "id": "9374c59a",
   "metadata": {},
   "outputs": [
    {
     "name": "stdout",
     "output_type": "stream",
     "text": [
      "[0.63357143 0.65285714 0.64642857 0.64642857 0.67047891]\n",
      "0.6499529255590728\n"
     ]
    }
   ],
   "source": [
    "# 교차검증\n",
    "result = cross_val_score(xgb_ta01, X_train, y_train, cv=5)\n",
    "print(result)\n",
    "print(result.mean())"
   ]
  },
  {
   "cell_type": "code",
   "execution_count": 98,
   "id": "c027d923",
   "metadata": {},
   "outputs": [
    {
     "data": {
      "text/html": [
       "<style>#sk-container-id-2 {color: black;background-color: white;}#sk-container-id-2 pre{padding: 0;}#sk-container-id-2 div.sk-toggleable {background-color: white;}#sk-container-id-2 label.sk-toggleable__label {cursor: pointer;display: block;width: 100%;margin-bottom: 0;padding: 0.3em;box-sizing: border-box;text-align: center;}#sk-container-id-2 label.sk-toggleable__label-arrow:before {content: \"▸\";float: left;margin-right: 0.25em;color: #696969;}#sk-container-id-2 label.sk-toggleable__label-arrow:hover:before {color: black;}#sk-container-id-2 div.sk-estimator:hover label.sk-toggleable__label-arrow:before {color: black;}#sk-container-id-2 div.sk-toggleable__content {max-height: 0;max-width: 0;overflow: hidden;text-align: left;background-color: #f0f8ff;}#sk-container-id-2 div.sk-toggleable__content pre {margin: 0.2em;color: black;border-radius: 0.25em;background-color: #f0f8ff;}#sk-container-id-2 input.sk-toggleable__control:checked~div.sk-toggleable__content {max-height: 200px;max-width: 100%;overflow: auto;}#sk-container-id-2 input.sk-toggleable__control:checked~label.sk-toggleable__label-arrow:before {content: \"▾\";}#sk-container-id-2 div.sk-estimator input.sk-toggleable__control:checked~label.sk-toggleable__label {background-color: #d4ebff;}#sk-container-id-2 div.sk-label input.sk-toggleable__control:checked~label.sk-toggleable__label {background-color: #d4ebff;}#sk-container-id-2 input.sk-hidden--visually {border: 0;clip: rect(1px 1px 1px 1px);clip: rect(1px, 1px, 1px, 1px);height: 1px;margin: -1px;overflow: hidden;padding: 0;position: absolute;width: 1px;}#sk-container-id-2 div.sk-estimator {font-family: monospace;background-color: #f0f8ff;border: 1px dotted black;border-radius: 0.25em;box-sizing: border-box;margin-bottom: 0.5em;}#sk-container-id-2 div.sk-estimator:hover {background-color: #d4ebff;}#sk-container-id-2 div.sk-parallel-item::after {content: \"\";width: 100%;border-bottom: 1px solid gray;flex-grow: 1;}#sk-container-id-2 div.sk-label:hover label.sk-toggleable__label {background-color: #d4ebff;}#sk-container-id-2 div.sk-serial::before {content: \"\";position: absolute;border-left: 1px solid gray;box-sizing: border-box;top: 0;bottom: 0;left: 50%;z-index: 0;}#sk-container-id-2 div.sk-serial {display: flex;flex-direction: column;align-items: center;background-color: white;padding-right: 0.2em;padding-left: 0.2em;position: relative;}#sk-container-id-2 div.sk-item {position: relative;z-index: 1;}#sk-container-id-2 div.sk-parallel {display: flex;align-items: stretch;justify-content: center;background-color: white;position: relative;}#sk-container-id-2 div.sk-item::before, #sk-container-id-2 div.sk-parallel-item::before {content: \"\";position: absolute;border-left: 1px solid gray;box-sizing: border-box;top: 0;bottom: 0;left: 50%;z-index: -1;}#sk-container-id-2 div.sk-parallel-item {display: flex;flex-direction: column;z-index: 1;position: relative;background-color: white;}#sk-container-id-2 div.sk-parallel-item:first-child::after {align-self: flex-end;width: 50%;}#sk-container-id-2 div.sk-parallel-item:last-child::after {align-self: flex-start;width: 50%;}#sk-container-id-2 div.sk-parallel-item:only-child::after {width: 0;}#sk-container-id-2 div.sk-dashed-wrapped {border: 1px dashed gray;margin: 0 0.4em 0.5em 0.4em;box-sizing: border-box;padding-bottom: 0.4em;background-color: white;}#sk-container-id-2 div.sk-label label {font-family: monospace;font-weight: bold;display: inline-block;line-height: 1.2em;}#sk-container-id-2 div.sk-label-container {text-align: center;}#sk-container-id-2 div.sk-container {/* jupyter's `normalize.less` sets `[hidden] { display: none; }` but bootstrap.min.css set `[hidden] { display: none !important; }` so we also need the `!important` here to be able to override the default hidden behavior on the sphinx rendered scikit-learn.org. See: https://github.com/scikit-learn/scikit-learn/issues/21755 */display: inline-block !important;position: relative;}#sk-container-id-2 div.sk-text-repr-fallback {display: none;}</style><div id=\"sk-container-id-2\" class=\"sk-top-container\"><div class=\"sk-text-repr-fallback\"><pre>LGBMClassifier(random_state=11)</pre><b>In a Jupyter environment, please rerun this cell to show the HTML representation or trust the notebook. <br />On GitHub, the HTML representation is unable to render, please try loading this page with nbviewer.org.</b></div><div class=\"sk-container\" hidden><div class=\"sk-item\"><div class=\"sk-estimator sk-toggleable\"><input class=\"sk-toggleable__control sk-hidden--visually\" id=\"sk-estimator-id-2\" type=\"checkbox\" checked><label for=\"sk-estimator-id-2\" class=\"sk-toggleable__label sk-toggleable__label-arrow\">LGBMClassifier</label><div class=\"sk-toggleable__content\"><pre>LGBMClassifier(random_state=11)</pre></div></div></div></div></div>"
      ],
      "text/plain": [
       "LGBMClassifier(random_state=11)"
      ]
     },
     "execution_count": 98,
     "metadata": {},
     "output_type": "execute_result"
    }
   ],
   "source": [
    "# lightGBM 사용해보기\n",
    "lgbm_ta01 = LGBMClassifier(n_estimators=100, random_state = 11)\n",
    "lgbm_ta01"
   ]
  },
  {
   "cell_type": "code",
   "execution_count": 99,
   "id": "a4cd0a9f",
   "metadata": {
    "scrolled": true
   },
   "outputs": [
    {
     "name": "stdout",
     "output_type": "stream",
     "text": [
      "[LightGBM] [Warning] Found whitespace in feature_names, replace with underlines\n",
      "[LightGBM] [Info] Number of positive: 3329, number of negative: 2270\n",
      "[LightGBM] [Warning] Auto-choosing row-wise multi-threading, the overhead of testing was 0.000556 seconds.\n",
      "You can set `force_row_wise=true` to remove the overhead.\n",
      "And if memory is not enough, you can set `force_col_wise=true`.\n",
      "[LightGBM] [Info] Total Bins 578\n",
      "[LightGBM] [Info] Number of data points in the train set: 5599, number of used features: 18\n",
      "[LightGBM] [Info] [binary:BoostFromScore]: pavg=0.594570 -> initscore=0.382892\n",
      "[LightGBM] [Info] Start training from score 0.382892\n",
      "[LightGBM] [Warning] Found whitespace in feature_names, replace with underlines\n",
      "[LightGBM] [Info] Number of positive: 3329, number of negative: 2270\n",
      "[LightGBM] [Warning] Auto-choosing row-wise multi-threading, the overhead of testing was 0.000117 seconds.\n",
      "You can set `force_row_wise=true` to remove the overhead.\n",
      "And if memory is not enough, you can set `force_col_wise=true`.\n",
      "[LightGBM] [Info] Total Bins 575\n",
      "[LightGBM] [Info] Number of data points in the train set: 5599, number of used features: 18\n",
      "[LightGBM] [Info] [binary:BoostFromScore]: pavg=0.594570 -> initscore=0.382892\n",
      "[LightGBM] [Info] Start training from score 0.382892\n",
      "[LightGBM] [Warning] Found whitespace in feature_names, replace with underlines\n",
      "[LightGBM] [Info] Number of positive: 3330, number of negative: 2269\n",
      "[LightGBM] [Warning] Auto-choosing col-wise multi-threading, the overhead of testing was 0.000352 seconds.\n",
      "You can set `force_col_wise=true` to remove the overhead.\n",
      "[LightGBM] [Info] Total Bins 579\n",
      "[LightGBM] [Info] Number of data points in the train set: 5599, number of used features: 18\n",
      "[LightGBM] [Info] [binary:BoostFromScore]: pavg=0.594749 -> initscore=0.383633\n",
      "[LightGBM] [Info] Start training from score 0.383633\n",
      "[LightGBM] [Warning] Found whitespace in feature_names, replace with underlines\n",
      "[LightGBM] [Info] Number of positive: 3330, number of negative: 2269\n",
      "[LightGBM] [Warning] Auto-choosing row-wise multi-threading, the overhead of testing was 0.000116 seconds.\n",
      "You can set `force_row_wise=true` to remove the overhead.\n",
      "And if memory is not enough, you can set `force_col_wise=true`.\n",
      "[LightGBM] [Info] Total Bins 579\n",
      "[LightGBM] [Info] Number of data points in the train set: 5599, number of used features: 18\n",
      "[LightGBM] [Info] [binary:BoostFromScore]: pavg=0.594749 -> initscore=0.383633\n",
      "[LightGBM] [Info] Start training from score 0.383633\n",
      "[LightGBM] [Warning] Found whitespace in feature_names, replace with underlines\n",
      "[LightGBM] [Info] Number of positive: 3330, number of negative: 2270\n",
      "[LightGBM] [Warning] Auto-choosing row-wise multi-threading, the overhead of testing was 0.000126 seconds.\n",
      "You can set `force_row_wise=true` to remove the overhead.\n",
      "And if memory is not enough, you can set `force_col_wise=true`.\n",
      "[LightGBM] [Info] Total Bins 578\n",
      "[LightGBM] [Info] Number of data points in the train set: 5600, number of used features: 18\n",
      "[LightGBM] [Info] [binary:BoostFromScore]: pavg=0.594643 -> initscore=0.383192\n",
      "[LightGBM] [Info] Start training from score 0.383192\n",
      "[0.64571429 0.64928571 0.63285714 0.66071429 0.6926376 ]\n",
      "0.6562418053711835\n"
     ]
    }
   ],
   "source": [
    "# 교차검증\n",
    "result = cross_val_score(lgbm_ta01, X_train, y_train, cv=5)\n",
    "print(result)\n",
    "print(result.mean())"
   ]
  },
  {
   "cell_type": "code",
   "execution_count": 100,
   "id": "5c0e3b51",
   "metadata": {},
   "outputs": [
    {
     "name": "stdout",
     "output_type": "stream",
     "text": [
      "[LightGBM] [Warning] Found whitespace in feature_names, replace with underlines\n",
      "[LightGBM] [Info] Number of positive: 4162, number of negative: 2837\n",
      "[LightGBM] [Warning] Auto-choosing col-wise multi-threading, the overhead of testing was 0.000395 seconds.\n",
      "You can set `force_col_wise=true` to remove the overhead.\n",
      "[LightGBM] [Info] Total Bins 581\n",
      "[LightGBM] [Info] Number of data points in the train set: 6999, number of used features: 18\n",
      "[LightGBM] [Info] [binary:BoostFromScore]: pavg=0.594656 -> initscore=0.383249\n",
      "[LightGBM] [Info] Start training from score 0.383249\n"
     ]
    }
   ],
   "source": [
    "lgbm_ta01.fit(X_train, y_train)\n",
    "pre = lgbm_ta01.predict(X_test)\n",
    "\n",
    "omr = pd.read_csv('./kaggle_data/sampleSubmission.csv')\n",
    "omr['Reached.on.Time_Y.N'] = pre\n",
    "omr.to_csv('lgbm_ta01.csv', index=False)"
   ]
  },
  {
   "cell_type": "markdown",
   "id": "de233df5",
   "metadata": {},
   "source": [
    "### 그리드 서치"
   ]
  },
  {
   "cell_type": "code",
   "execution_count": 101,
   "id": "e1b878f2",
   "metadata": {},
   "outputs": [],
   "source": [
    "# 그리드 서치 모듈 불러오기\n",
    "from sklearn.model_selection import GridSearchCV"
   ]
  },
  {
   "cell_type": "markdown",
   "id": "2d309402",
   "metadata": {},
   "source": [
    "**RandomForest**"
   ]
  },
  {
   "cell_type": "code",
   "execution_count": 102,
   "id": "88b91f90",
   "metadata": {},
   "outputs": [],
   "source": [
    "from sklearn.ensemble import RandomForestClassifier"
   ]
  },
  {
   "cell_type": "code",
   "execution_count": 103,
   "id": "34cdf82a",
   "metadata": {},
   "outputs": [],
   "source": [
    "rf_model = RandomForestClassifier()"
   ]
  },
  {
   "cell_type": "code",
   "execution_count": 104,
   "id": "b475b380",
   "metadata": {},
   "outputs": [],
   "source": [
    "# 랜덤 포레스트의 하이퍼 파라미터 조합식 짜주기\n",
    "param_grid = {\n",
    "    'n_estimators' : [200, 400, 600, 800, 1000],\n",
    "    'max_depth' : range(1, 6, 1),\n",
    "    'min_samples_split' : range(2, 11, 2)\n",
    "}"
   ]
  },
  {
   "cell_type": "code",
   "execution_count": 105,
   "id": "63d5cc2d",
   "metadata": {},
   "outputs": [],
   "source": [
    "grid_search_rf = GridSearchCV(rf_model, param_grid=param_grid, cv=5)"
   ]
  },
  {
   "cell_type": "code",
   "execution_count": null,
   "id": "8a71f28b",
   "metadata": {},
   "outputs": [],
   "source": [
    "grid_search_rf.fit(X_train, y_train) # 그리드 서치 학습"
   ]
  },
  {
   "cell_type": "code",
   "execution_count": null,
   "id": "6bff0aa9",
   "metadata": {},
   "outputs": [],
   "source": [
    "grid_search_rf.best_score_"
   ]
  },
  {
   "cell_type": "code",
   "execution_count": null,
   "id": "ffef1f27",
   "metadata": {},
   "outputs": [],
   "source": [
    "best_tree = grid_search_rf.best_estimator_"
   ]
  },
  {
   "cell_type": "code",
   "execution_count": null,
   "id": "10ca2ea5",
   "metadata": {},
   "outputs": [],
   "source": [
    "best_tree.fit(X_train, y_train)"
   ]
  },
  {
   "cell_type": "code",
   "execution_count": null,
   "id": "061eb562",
   "metadata": {},
   "outputs": [],
   "source": [
    "pre = best_tree.predict(X_test)"
   ]
  },
  {
   "cell_type": "code",
   "execution_count": null,
   "id": "253bcf69",
   "metadata": {},
   "outputs": [],
   "source": [
    "omr['Reached.on.Time_Y.N'] = pre\n",
    "omr.to_csv('test.csv', index=False)"
   ]
  },
  {
   "cell_type": "code",
   "execution_count": null,
   "id": "24875bf6",
   "metadata": {},
   "outputs": [],
   "source": []
  }
 ],
 "metadata": {
  "kernelspec": {
   "display_name": "Python 3 (ipykernel)",
   "language": "python",
   "name": "python3"
  },
  "language_info": {
   "codemirror_mode": {
    "name": "ipython",
    "version": 3
   },
   "file_extension": ".py",
   "mimetype": "text/x-python",
   "name": "python",
   "nbconvert_exporter": "python",
   "pygments_lexer": "ipython3",
   "version": "3.10.9"
  }
 },
 "nbformat": 4,
 "nbformat_minor": 5
}
