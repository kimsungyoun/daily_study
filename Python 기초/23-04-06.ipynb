{
 "cells": [
  {
   "cell_type": "markdown",
   "id": "c46ee988",
   "metadata": {},
   "source": [
    "# 첫번째\n",
    "- 첫번째\n",
    "  - 두번째\n",
    "## 두번째\n",
    "### 세번째\n",
    "#### 네번째"
   ]
  },
  {
   "cell_type": "code",
   "execution_count": null,
   "id": "951a548a",
   "metadata": {},
   "outputs": [],
   "source": [
    "code = 1 \n",
    "#주석 연습 주석 연습"
   ]
  },
  {
   "cell_type": "code",
   "execution_count": null,
   "id": "89212286",
   "metadata": {},
   "outputs": [],
   "source": [
    "num = 3\n",
    "print(num)"
   ]
  },
  {
   "cell_type": "code",
   "execution_count": null,
   "id": "b7d9a552",
   "metadata": {},
   "outputs": [],
   "source": [
    "num = 0\n",
    "for i in range(10):\n",
    "    num += i\n",
    "print(num)"
   ]
  },
  {
   "cell_type": "code",
   "execution_count": null,
   "id": "1f3d3a85",
   "metadata": {},
   "outputs": [],
   "source": [
    "num1 = 13\n",
    "num1"
   ]
  },
  {
   "cell_type": "code",
   "execution_count": null,
   "id": "512f1230",
   "metadata": {},
   "outputs": [],
   "source": [
    "num2 = 25\n",
    "num2"
   ]
  },
  {
   "cell_type": "code",
   "execution_count": null,
   "id": "2ce4fce7",
   "metadata": {},
   "outputs": [],
   "source": [
    "num2 = 77\n",
    "print(num2)\n",
    "\n",
    "type(num2)"
   ]
  },
  {
   "cell_type": "code",
   "execution_count": null,
   "id": "3abe7bbf",
   "metadata": {},
   "outputs": [],
   "source": [
    "num3 = 3.1425\n",
    "print(num3)\n",
    "\n",
    "type(num3)"
   ]
  },
  {
   "cell_type": "code",
   "execution_count": null,
   "id": "c4764477",
   "metadata": {},
   "outputs": [],
   "source": [
    "str1 = \"Funny Python\"\n",
    "str1"
   ]
  },
  {
   "cell_type": "code",
   "execution_count": null,
   "id": "2a361340",
   "metadata": {},
   "outputs": [],
   "source": [
    "type(str1)"
   ]
  },
  {
   "cell_type": "code",
   "execution_count": null,
   "id": "01082907",
   "metadata": {},
   "outputs": [],
   "source": [
    "number = 10\n",
    "Number = 20\n",
    "print(\"number:\",number)\n",
    "print(\"Number:\",Number)"
   ]
  },
  {
   "cell_type": "code",
   "execution_count": null,
   "id": "81102bea",
   "metadata": {},
   "outputs": [],
   "source": [
    "number_Number = 10\n",
    "number_Number"
   ]
  },
  {
   "cell_type": "code",
   "execution_count": null,
   "id": "ba010d57",
   "metadata": {},
   "outputs": [],
   "source": [
    "print(\"나 오늘\",\"너무\",\"씬나\",sep=\"!\")\n",
    "#sep 컴마 부분을 변경"
   ]
  },
  {
   "cell_type": "code",
   "execution_count": null,
   "id": "c4ab6847",
   "metadata": {},
   "outputs": [],
   "source": [
    "1a=10"
   ]
  },
  {
   "cell_type": "code",
   "execution_count": null,
   "id": "d6c8e0ee",
   "metadata": {},
   "outputs": [],
   "source": [
    "sum([1,2])"
   ]
  },
  {
   "cell_type": "code",
   "execution_count": null,
   "id": "f0f71c59",
   "metadata": {},
   "outputs": [],
   "source": [
    "#파이썬 예약서 확인\n",
    "import keyword\n",
    "keyword.kwlist"
   ]
  },
  {
   "cell_type": "code",
   "execution_count": null,
   "id": "bbb0b063",
   "metadata": {},
   "outputs": [],
   "source": [
    "a,b = 10,15\n",
    "print(a,b)"
   ]
  },
  {
   "cell_type": "code",
   "execution_count": null,
   "id": "25649580",
   "metadata": {},
   "outputs": [],
   "source": [
    "str1 = str2 = \"python\"\n",
    "print(str1)\n",
    "print(str2)"
   ]
  },
  {
   "cell_type": "code",
   "execution_count": null,
   "id": "39d269d4",
   "metadata": {},
   "outputs": [],
   "source": [
    "x = 100\n",
    "y = 200\n",
    "sum_ = x + y\n",
    "print(sum_)"
   ]
  },
  {
   "cell_type": "code",
   "execution_count": null,
   "id": "214c677f",
   "metadata": {},
   "outputs": [],
   "source": [
    "s = 'she\\'s gone \\n아아아아'\n",
    "p = \"she's gone\"\n",
    "print(s)\n",
    "print(p)"
   ]
  },
  {
   "cell_type": "code",
   "execution_count": null,
   "id": "7729ca12",
   "metadata": {},
   "outputs": [],
   "source": [
    "s = '''여러 줄로 구성된\n",
    "문자열을 하나로\n",
    "대입할때'''\n",
    "print(s)"
   ]
  },
  {
   "cell_type": "code",
   "execution_count": null,
   "id": "bd45b220",
   "metadata": {},
   "outputs": [],
   "source": [
    "s = \"오늘은 즐거운 파이썬 \\t수업시간입니다\"\n",
    "print(s)"
   ]
  },
  {
   "cell_type": "code",
   "execution_count": null,
   "id": "43c8a4fe",
   "metadata": {},
   "outputs": [],
   "source": [
    "s = \"My Name is SW\"\n",
    "#인덱싱\n",
    "print(s[0])\n",
    "print(s[-2])\n",
    "\n",
    "#슬라이싱[시작값,끝값(포함x)]\n",
    "print(s[0:2])\n",
    "print(s[3:7])\n",
    "print(s[8:10])\n",
    "print(s[:7])\n",
    "print(s[8:])\n",
    "print(s[-5:])\n",
    "#모든 문자 가져오기\n",
    "print(s)\n",
    "print(s[:])"
   ]
  },
  {
   "cell_type": "code",
   "execution_count": null,
   "id": "8c0019bd",
   "metadata": {},
   "outputs": [],
   "source": [
    "s = \"2020년 3월 3일의 날씨는 맑음입니다.\"\n",
    "print(\"날짜 :\", s[:11],\"\\n날씨 :\", s[-6:-4])"
   ]
  },
  {
   "cell_type": "code",
   "execution_count": null,
   "id": "2e4651a0",
   "metadata": {},
   "outputs": [],
   "source": [
    "#문자열 포매팅(\"%\")\n",
    "day = 7\n",
    "s = \"오늘은 7월 %d일 입니다\"%day\n",
    "s"
   ]
  },
  {
   "cell_type": "code",
   "execution_count": null,
   "id": "28df3784",
   "metadata": {},
   "outputs": [],
   "source": [
    "#문자열 포매팅(\"%\")\n",
    "day = 8\n",
    "s = \"오늘은 7월 %d일 입니다\"%day\n",
    "s"
   ]
  },
  {
   "cell_type": "code",
   "execution_count": null,
   "id": "88483c64",
   "metadata": {},
   "outputs": [],
   "source": [
    "#문자열 포매팅(\"%\")\n",
    "month = 7\n",
    "day = 7\n",
    "s = \"오늘은 %d월 %d일 입니다\"%(month,day)\n",
    "s"
   ]
  },
  {
   "cell_type": "code",
   "execution_count": null,
   "id": "5d019328",
   "metadata": {},
   "outputs": [],
   "source": [
    "#문자열 포매팅(\"format\")\n",
    "month = 7 \n",
    "day = 7\n",
    "s = \"오늘은 {}월 {}일 입니다\".format(month, day)\n",
    "s"
   ]
  },
  {
   "cell_type": "code",
   "execution_count": null,
   "id": "feb1b5c1",
   "metadata": {},
   "outputs": [],
   "source": [
    "#문자열 포매팅(\"f-string\")\n",
    "month = 7 \n",
    "day = 7\n",
    "s = f\"오늘은 {month}월 {day}일 입니다\"\n",
    "s"
   ]
  },
  {
   "cell_type": "code",
   "execution_count": null,
   "id": "ba08e7fd",
   "metadata": {},
   "outputs": [],
   "source": [
    "x = 100\n",
    "y = 200\n",
    "sum2 = x + y\n",
    "\n",
    "print(f\"{x}과 {y}의 합은 {sum2}입니다.\")"
   ]
  },
  {
   "cell_type": "code",
   "execution_count": null,
   "id": "0d1eec3b",
   "metadata": {},
   "outputs": [],
   "source": [
    "# '구분자'.join함수\n",
    "# 각각의 문자 사이에 구분자를 삽입하여 연결시켜주는 함수\n",
    "'0'.join([\"오늘\",\"점심 메뉴\",\"추천좀!\"])"
   ]
  },
  {
   "cell_type": "code",
   "execution_count": null,
   "id": "afd7263e",
   "metadata": {},
   "outputs": [],
   "source": [
    "# upper 함수\n",
    "s = \"I'm Still Hungry\"\n",
    "s.upper()"
   ]
  },
  {
   "cell_type": "code",
   "execution_count": null,
   "id": "c9bf3055",
   "metadata": {},
   "outputs": [],
   "source": [
    "# lower 함수\n",
    "s = \"I'M STILL HUNGRY\"\n",
    "s.lower()"
   ]
  },
  {
   "cell_type": "code",
   "execution_count": null,
   "id": "1ff100d9",
   "metadata": {},
   "outputs": [],
   "source": [
    "#strip 함수\n",
    "# 양쪽 공백 지우기 함수\n",
    "s = \"    I'm Still Hungry    \"\n",
    "s.strip()"
   ]
  },
  {
   "cell_type": "code",
   "execution_count": null,
   "id": "0c39d502",
   "metadata": {},
   "outputs": [],
   "source": [
    "# replace 함수\n",
    "s = \"I'm Still Hungry\"\n",
    "s.replace(\"Hungry\",\"Happy\")"
   ]
  },
  {
   "cell_type": "code",
   "execution_count": null,
   "id": "6bbe272c",
   "metadata": {},
   "outputs": [],
   "source": [
    "# split 함수\n",
    "s = \"옆에 공사 현장이 참, 시끄럽네요ㅠ\"\n",
    "s.split(\" \")"
   ]
  },
  {
   "cell_type": "code",
   "execution_count": null,
   "id": "aea7c6f6",
   "metadata": {},
   "outputs": [],
   "source": [
    "num1 = 10\n",
    "num2 = 7\n",
    "print(\"나누기:\\t\", num1/num2)\n",
    "print(\"나머지:\\t\", num1%num2)\n",
    "print(\"몫:\\t\", num1//num2)"
   ]
  },
  {
   "cell_type": "code",
   "execution_count": null,
   "id": "aa5c71d5",
   "metadata": {},
   "outputs": [],
   "source": [
    "str1 = \"안녕\"\n",
    "str2 = \"하세요\"\n",
    "print(str1 + str2)\n",
    "\n",
    "num1 = \"10\"\n",
    "num2 = \"7\"\n",
    "print(num1+num2)"
   ]
  },
  {
   "cell_type": "code",
   "execution_count": 1,
   "id": "8082dce1",
   "metadata": {},
   "outputs": [
    {
     "name": "stdout",
     "output_type": "stream",
     "text": [
      "107\n",
      "17\n"
     ]
    }
   ],
   "source": [
    "num1 = 10\n",
    "str2 = \"7\"\n",
    "#변수의 형태가 다른 값을 합칠때는 형변환 \n",
    "print(str(num1) + str2)\n",
    "print(num1+int(str2))"
   ]
  },
  {
   "cell_type": "code",
   "execution_count": null,
   "id": "9c219bc1",
   "metadata": {},
   "outputs": [],
   "source": [
    "num1 = 23\n",
    "num2 = 3\n",
    "\n",
    "print(\"더하기 결과:\",(num1+num2),\n",
    "      \"\\n빼기 결과:\",(num1-num2),\n",
    "      \"\\n곱하기 결과:\",(num1*num2),\n",
    "      \"\\n나누기 결과:\",(num1/num2))"
   ]
  },
  {
   "cell_type": "code",
   "execution_count": null,
   "id": "1068ae3b",
   "metadata": {},
   "outputs": [],
   "source": [
    "num1 = int(input(\"정수를 입력하세요 >> \"))\n",
    "num2 = int(input(\"정수를 입력하세요 >> \"))\n",
    "\n",
    "print(\"=============결과값=============\")\n",
    "print(\"더하기 결과:\",(num1+num2),\n",
    "      \"\\n빼기 결과:\",(num1-num2),\n",
    "      \"\\n곱하기 결과:\",(num1*num2),\n",
    "      \"\\n나누기 결과:\",(num1/num2))"
   ]
  },
  {
   "cell_type": "code",
   "execution_count": null,
   "id": "eb170873",
   "metadata": {},
   "outputs": [],
   "source": [
    "py = int(input(\"파이썬 점수 입력 >> \"))\n",
    "ml = int(input(\"머신러닝 점수 입력 >> \"))\n",
    "dl = int(input(\"딥러닝 점수 입력 >> \"))\n",
    "5total = py + ml + dl\n",
    "avg = total / 3\n",
    "\n",
    "print(\"합계: {}\\n평균: {}\".format(total,avg))\n",
    "#print(f\"합계: {sum1}\")"
   ]
  },
  {
   "cell_type": "code",
   "execution_count": null,
   "id": "8aca30a0",
   "metadata": {},
   "outputs": [],
   "source": [
    "time = int(input(\"시간 입력 >>\"))\n",
    "hour = time // 3600\n",
    "minute = time % 3600 // 60\n",
    "second = time % 60\n",
    "print(\"{}시간 {}분 {}초\".format(hour, minute, second))"
   ]
  },
  {
   "cell_type": "code",
   "execution_count": null,
   "id": "3c78c092",
   "metadata": {},
   "outputs": [],
   "source": [
    "s = \"x\"\n",
    "print(s*10)\n",
    "\n",
    "p = \"안녕하세요\"\n",
    "print(p*2)"
   ]
  },
  {
   "cell_type": "code",
   "execution_count": null,
   "id": "8efbc356",
   "metadata": {},
   "outputs": [],
   "source": [
    "print(\"*\"*10,\"연산하기\",\"*\"*10)\n",
    "num1 = int(input(\"정수입력 >> \"))\n",
    "num2 = int(input(\"정수입력 >> \"))\n",
    "cal = input(\"연산자 입력 >> \")\n",
    "\n",
    "if cal == \"+\":\n",
    "    print(\"{} {} {} = {}\".format(num1,cal,num2,(num1+num2)))\n",
    "elif cal == \"-\":\n",
    "    print(\"{} {} {} = {}\".format(num1,cal,num2,(num1-num2)))\n",
    "elif cal == \"*\":\n",
    "    print(\"{} {} {} = {}\".format(num1,cal,num2,(num1*num2)))\n",
    "elif cal == \"/\":\n",
    "    print(\"{} {} {} = {}\".format(num1,cal,num2,(num1/num2)))\n",
    "else : # Execption Handling\n",
    "    print(\"잘못 입력하셨습니다. 잘못 입력된 연산자: {}\".format(cal))"
   ]
  },
  {
   "cell_type": "code",
   "execution_count": null,
   "id": "735d08f7",
   "metadata": {},
   "outputs": [],
   "source": [
    "num = int(input(\"정수 입력 >> \"))\n",
    "power = int(input(\"지수 입력 >> \"))\n",
    "print(\"{}의 {}승은 {}입니다\".format(num, power, num**power))"
   ]
  },
  {
   "cell_type": "markdown",
   "id": "94d47469",
   "metadata": {},
   "source": [
    "# print"
   ]
  },
  {
   "cell_type": "code",
   "execution_count": null,
   "id": "123f4a04",
   "metadata": {},
   "outputs": [],
   "source": [
    "print(\"Hello World\")\n",
    "print(\"Mary's cosmetics\")\n",
    "print(\"신씨가 소리질었다.\\\"도둑이야\\\"\")\n",
    "print(\"C:|Windows\")\n",
    "print(\"안녕하세요.\\n만나서\\t\\t반갑습니다.\")\n",
    "print(\"오늘은\",\"일요일\")\n",
    "print(\"naver;kakao;sk;samsung\")\n",
    "print(\"naver/kakao/sk/samsung\")\n",
    "print(\"first\",end=\"\");print(\"second\") # end의 default값은 한줄띄워쓰기\n",
    "print(5/3)"
   ]
  },
  {
   "cell_type": "markdown",
   "id": "e83d79b4",
   "metadata": {},
   "source": [
    "# 변수"
   ]
  },
  {
   "cell_type": "code",
   "execution_count": null,
   "id": "d4aedf17",
   "metadata": {},
   "outputs": [],
   "source": [
    "samsung_price = 50000\n",
    "print(samsung_price * 10)"
   ]
  },
  {
   "cell_type": "code",
   "execution_count": null,
   "id": "23bf9abd",
   "metadata": {},
   "outputs": [],
   "source": [
    "total = 298000000000000\n",
    "current = 50000\n",
    "per = 15.79\n",
    "print(\"시가총액:\",total, \"\\n현재가:\\t\",current,\"\\nPER:\\t\",per)"
   ]
  },
  {
   "cell_type": "code",
   "execution_count": null,
   "id": "95793afa",
   "metadata": {},
   "outputs": [],
   "source": [
    "s = \"hello\"\n",
    "t = \"python\"\n",
    "print(s+\"!\",t)"
   ]
  },
  {
   "cell_type": "code",
   "execution_count": null,
   "id": "8215d6d9",
   "metadata": {},
   "outputs": [],
   "source": [
    "print(2+2*3)"
   ]
  },
  {
   "cell_type": "code",
   "execution_count": null,
   "id": "d741519e",
   "metadata": {},
   "outputs": [],
   "source": [
    "a = 128\n",
    "print(a, type(a))\n",
    "a = \"132\"\n",
    "print(a, type(a))"
   ]
  },
  {
   "cell_type": "code",
   "execution_count": null,
   "id": "a3317ed7",
   "metadata": {},
   "outputs": [],
   "source": [
    "num_str = \"720\"\n",
    "num_int = int(num_str)\n",
    "print(num_int,type(num_int))"
   ]
  },
  {
   "cell_type": "code",
   "execution_count": null,
   "id": "5972336b",
   "metadata": {},
   "outputs": [],
   "source": [
    "num = 100\n",
    "num_str = str(num)\n",
    "print(num_str,type(num_str))"
   ]
  },
  {
   "cell_type": "code",
   "execution_count": null,
   "id": "db099f30",
   "metadata": {},
   "outputs": [],
   "source": [
    "str1 = \"15.79\"\n",
    "str1_float = float(str1)\n",
    "print(str1_float, type(str1_float))"
   ]
  },
  {
   "cell_type": "code",
   "execution_count": null,
   "id": "9474feb4",
   "metadata": {},
   "outputs": [],
   "source": [
    "year = \"2020\"\n",
    "year_int = int(year)\n",
    "print(year_int+3)"
   ]
  },
  {
   "cell_type": "code",
   "execution_count": null,
   "id": "42c65e79",
   "metadata": {},
   "outputs": [],
   "source": [
    "price = 48584\n",
    "total = price*36\n",
    "print(total)"
   ]
  },
  {
   "cell_type": "markdown",
   "id": "4bb6e6bb",
   "metadata": {},
   "source": [
    "# 파이썬 문자열"
   ]
  },
  {
   "cell_type": "code",
   "execution_count": null,
   "id": "1d1ad550",
   "metadata": {},
   "outputs": [],
   "source": [
    "letters = \"python\"\n",
    "print(letters[0],letters[2])"
   ]
  },
  {
   "cell_type": "code",
   "execution_count": null,
   "id": "6bf3b338",
   "metadata": {},
   "outputs": [],
   "source": [
    "license_plate = \"24가 2210\"\n",
    "print(license_plate[-4:])"
   ]
  },
  {
   "cell_type": "code",
   "execution_count": null,
   "id": "9963c501",
   "metadata": {},
   "outputs": [],
   "source": [
    "string = \"홀짝홀짝홀짝\"\n",
    "print(string[::2])\n",
    "print(string[::1])\n",
    "#print(string.replace(\"짝\",\"\"))"
   ]
  },
  {
   "cell_type": "code",
   "execution_count": null,
   "id": "d5ed819b",
   "metadata": {},
   "outputs": [],
   "source": [
    "string = \"PYTHON\"\n",
    "print(string[::-1])\n",
    "# [처음 값:끝 값:반복 횟수]"
   ]
  },
  {
   "cell_type": "code",
   "execution_count": null,
   "id": "0354e832",
   "metadata": {},
   "outputs": [],
   "source": [
    "phone_number = \"010-1111-2222\"\n",
    "print(phone_number.replace(\"-\",\" \"))"
   ]
  },
  {
   "cell_type": "code",
   "execution_count": null,
   "id": "e8454783",
   "metadata": {},
   "outputs": [],
   "source": [
    "phone_number = \"010-1111-2222\"\n",
    "print(phone_number.replace(\"-\",\"\"))"
   ]
  },
  {
   "cell_type": "code",
   "execution_count": null,
   "id": "83f3d226",
   "metadata": {},
   "outputs": [],
   "source": [
    "url = \"http://sharebook.kr\"\n",
    "\n",
    "print(url.split(\".\")[1])"
   ]
  },
  {
   "cell_type": "code",
   "execution_count": null,
   "id": "3d668e95",
   "metadata": {},
   "outputs": [],
   "source": [
    "lang = 'python'\n",
    "lang[0] = 'p'\n",
    "print(lang)"
   ]
  },
  {
   "cell_type": "code",
   "execution_count": null,
   "id": "242609c7",
   "metadata": {},
   "outputs": [],
   "source": [
    "string = \"abcdfe2a354a32a\"\n",
    "print(string.replace(\"a\",\"A\"))"
   ]
  },
  {
   "cell_type": "code",
   "execution_count": null,
   "id": "029797c0",
   "metadata": {},
   "outputs": [],
   "source": [
    "string = 'abcd'\n",
    "string.replace('b','B')\n",
    "print(string)"
   ]
  },
  {
   "cell_type": "code",
   "execution_count": null,
   "id": "ed2c91e4",
   "metadata": {},
   "outputs": [],
   "source": [
    "a = \"3\"\n",
    "b = \"4\"\n",
    "print(a+b)"
   ]
  },
  {
   "cell_type": "code",
   "execution_count": null,
   "id": "91488762",
   "metadata": {},
   "outputs": [],
   "source": [
    "print(\"hi\"*3)"
   ]
  },
  {
   "cell_type": "code",
   "execution_count": null,
   "id": "ffc08ec0",
   "metadata": {},
   "outputs": [],
   "source": [
    "print(\"-\"*80)"
   ]
  },
  {
   "cell_type": "code",
   "execution_count": null,
   "id": "fe34384a",
   "metadata": {},
   "outputs": [],
   "source": [
    "t1 = 'python'\n",
    "t2 = 'java'\n",
    "print((t1+\" \"+t2+\" \")*3)"
   ]
  },
  {
   "cell_type": "code",
   "execution_count": null,
   "id": "a8506ea4",
   "metadata": {},
   "outputs": [],
   "source": [
    "name1 = \"김민수\"\n",
    "age1 = 10\n",
    "name2 = \"이철희\"\n",
    "age2 = 13\n",
    "\n",
    "print(\"이름: %s 나이: %d\"%(name1,age1))\n",
    "print(\"이름: %s 나이: %d\"%(name2,age2))"
   ]
  },
  {
   "cell_type": "code",
   "execution_count": null,
   "id": "08178f7c",
   "metadata": {},
   "outputs": [],
   "source": [
    "name1 = \"김민수\"\n",
    "age1 = 10\n",
    "name2 = \"이철희\"\n",
    "age2 = 13\n",
    "\n",
    "print(\"이름: {} 나이: {}\".format(name1,age1))\n",
    "print(\"이름: {} 나이: {}\".format(name2,age2))"
   ]
  },
  {
   "cell_type": "code",
   "execution_count": null,
   "id": "49e571d7",
   "metadata": {},
   "outputs": [],
   "source": [
    "name1 = \"김민수\"\n",
    "age1 = 10\n",
    "name2 = \"이철희\"\n",
    "age2 = 13\n",
    "\n",
    "print(f\"이름: {name1} 나이: {age1}\")\n",
    "print(f\"이름: {name2} 나이: {age2}\")"
   ]
  },
  {
   "cell_type": "code",
   "execution_count": null,
   "id": "f43a7363",
   "metadata": {},
   "outputs": [],
   "source": [
    "num = \"5,969,782,550\"\n",
    "change = int(num.replace(\",\",\"\"))\n",
    "print(change, type(change))"
   ]
  },
  {
   "cell_type": "code",
   "execution_count": null,
   "id": "d6279fd2",
   "metadata": {},
   "outputs": [],
   "source": [
    "str1 = \"2020/03(E) (IFRS연결)\"\n",
    "print(str1[:7])"
   ]
  },
  {
   "cell_type": "code",
   "execution_count": null,
   "id": "bd4952b3",
   "metadata": {},
   "outputs": [],
   "source": [
    "data = \"    삼성전자    \"\n",
    "print(data.strip())"
   ]
  },
  {
   "cell_type": "code",
   "execution_count": null,
   "id": "42e8aae0",
   "metadata": {},
   "outputs": [],
   "source": [
    "ticker = \"btc_krw\"\n",
    "print(ticker.upper())"
   ]
  },
  {
   "cell_type": "code",
   "execution_count": null,
   "id": "70950719",
   "metadata": {},
   "outputs": [],
   "source": [
    "ticker = \"BTC_KRW\"\n",
    "print(ticker.lower())"
   ]
  },
  {
   "cell_type": "code",
   "execution_count": null,
   "id": "2ab1a748",
   "metadata": {},
   "outputs": [],
   "source": [
    "a = \"hello\"\n",
    "print(a.capitalize())"
   ]
  },
  {
   "cell_type": "code",
   "execution_count": null,
   "id": "c3ffcd1b",
   "metadata": {},
   "outputs": [],
   "source": [
    "file_name = \"보고서.xlsx\"\n",
    "file_name.endswith(\"xlsx\")"
   ]
  },
  {
   "cell_type": "code",
   "execution_count": null,
   "id": "441c17f4",
   "metadata": {},
   "outputs": [],
   "source": [
    "file_name = \"보고서.xlsx\"\n",
    "file_name.endswith(\"xlsx\",\"xls\")"
   ]
  },
  {
   "cell_type": "code",
   "execution_count": null,
   "id": "01a2016d",
   "metadata": {},
   "outputs": [],
   "source": [
    "file_name = \"2020_보고서.xlsx\"\n",
    "file_name.startswith(\"2020\")"
   ]
  },
  {
   "cell_type": "code",
   "execution_count": null,
   "id": "97619d9f",
   "metadata": {},
   "outputs": [],
   "source": [
    "a = \"hello world\"\n",
    "print(a.split())"
   ]
  },
  {
   "cell_type": "code",
   "execution_count": null,
   "id": "6dfda336",
   "metadata": {},
   "outputs": [],
   "source": [
    "ticker = \"btc_krw\"\n",
    "print(ticker.split(\"_\"))"
   ]
  },
  {
   "cell_type": "code",
   "execution_count": null,
   "id": "996b46e5",
   "metadata": {},
   "outputs": [],
   "source": [
    "date = \"2020-05-01\"\n",
    "print(date.split(\"-\"))"
   ]
  },
  {
   "cell_type": "code",
   "execution_count": null,
   "id": "41fa392e",
   "metadata": {},
   "outputs": [],
   "source": [
    "data = \"039490        \"\n",
    "print(data.rstrip())"
   ]
  },
  {
   "cell_type": "markdown",
   "id": "c4e1924c",
   "metadata": {},
   "source": [
    "# 리스트"
   ]
  },
  {
   "cell_type": "code",
   "execution_count": null,
   "id": "90c56236",
   "metadata": {},
   "outputs": [],
   "source": [
    "movie_rank = [\"닥터 스트레인지\",\"스플릿\",\"럭키\"]\n",
    "print(movie_rank)\n",
    "# 맨 마지막 인덱스로 추가\n",
    "movie_rank.append(\"배트맨\")\n",
    "print(movie_rank)\n",
    "# 자리지정추가\n",
    "movie_rank.insert(1,\"슈퍼맨\")\n",
    "print(movie_rank)\n",
    "# 삭제\n",
    "del movie_rank[3]\n",
    "print(movie_rank)\n",
    "del movie_rank[2:]\n",
    "print(movie_rank)"
   ]
  },
  {
   "cell_type": "code",
   "execution_count": null,
   "id": "262f0ef1",
   "metadata": {},
   "outputs": [],
   "source": [
    "lang1 = [\"c\",\"c++\",\"java\"]\n",
    "lang2 = [\"python\",\"Go\",\"c#\"]\n",
    "langs = lang1 + lang2\n",
    "print(langs)"
   ]
  },
  {
   "cell_type": "code",
   "execution_count": null,
   "id": "d7f1e8d2",
   "metadata": {},
   "outputs": [],
   "source": [
    "nums = [1,2,3,4,5,6,7]\n",
    "print(\"최솟값:\",min(nums),\"\\n최댓값:\",max(nums))"
   ]
  },
  {
   "cell_type": "code",
   "execution_count": null,
   "id": "26b31a1d",
   "metadata": {},
   "outputs": [],
   "source": [
    "nums = [1,2,3,4,5]\n",
    "print(sum(nums))"
   ]
  },
  {
   "cell_type": "code",
   "execution_count": null,
   "id": "b3576700",
   "metadata": {},
   "outputs": [],
   "source": [
    "cook = [\"피자\", \"김밥\", \"만두\", \n",
    "        \"양념치킨\", \"족발\", \"피자\", \n",
    "        \"김치만두\", \"쫄면\", \"소시지\", \n",
    "        \"라면\", \"팥빙수\", \"김치전\"]\n",
    "print(len(cook))"
   ]
  },
  {
   "cell_type": "code",
   "execution_count": null,
   "id": "4729ea29",
   "metadata": {},
   "outputs": [],
   "source": [
    "nums = [1,2,3,4,5]\n",
    "avg = sum(nums)/len(nums)\n",
    "print(avg)"
   ]
  },
  {
   "cell_type": "code",
   "execution_count": null,
   "id": "7aac7263",
   "metadata": {},
   "outputs": [],
   "source": [
    "nums = [\"20180728\",100,130,140,150,160,170]\n",
    "print(nums[1:])"
   ]
  },
  {
   "cell_type": "code",
   "execution_count": null,
   "id": "b24024e9",
   "metadata": {},
   "outputs": [],
   "source": [
    "nums = [1,2,3,4,5,6,7,8,9,10]\n",
    "print(nums[::2])\n",
    "print(nums[1::2])\n",
    "print(nums[::-1])"
   ]
  },
  {
   "cell_type": "code",
   "execution_count": null,
   "id": "1b2cdd75",
   "metadata": {},
   "outputs": [],
   "source": [
    "interst = ['삼성전자','LG 전자','Naver']\n",
    "print(interst[0],interst[2])"
   ]
  },
  {
   "cell_type": "code",
   "execution_count": null,
   "id": "ee9a7ca1",
   "metadata": {},
   "outputs": [],
   "source": [
    "interst = ['삼성전자','LG전자','Naver','SK하이닉스','미래에셋대우']\n",
    "print(\" \".join(interst))\n",
    "print(\"/\".join(interst))\n",
    "print(\"\\n\".join(interst))"
   ]
  },
  {
   "cell_type": "code",
   "execution_count": null,
   "id": "9b55b3d0",
   "metadata": {},
   "outputs": [],
   "source": [
    "string = \"삼성전자/LG전자/Naver\"\n",
    "interest = string.split(\"/\")\n",
    "print(interest)"
   ]
  },
  {
   "cell_type": "code",
   "execution_count": null,
   "id": "fa5a6390",
   "metadata": {},
   "outputs": [],
   "source": [
    "data = [2,4,3,1,5,10,9]\n",
    "data2 = sorted(data)\n",
    "data.sort()\n",
    "print(data)\n",
    "print(data2)"
   ]
  },
  {
   "cell_type": "markdown",
   "id": "0f73a3e1",
   "metadata": {},
   "source": [
    "# 튜플\n",
    "- 원소값이 변하지 않음"
   ]
  },
  {
   "cell_type": "code",
   "execution_count": null,
   "id": "f70144eb",
   "metadata": {},
   "outputs": [],
   "source": [
    "my_variable = ()\n",
    "print(type(my_variable))"
   ]
  },
  {
   "cell_type": "code",
   "execution_count": null,
   "id": "d7777c47",
   "metadata": {},
   "outputs": [],
   "source": [
    "movie_rank = (\"닥터스트레인지\",\"스플릿\",\"럭키\")\n",
    "print(movie_rank)"
   ]
  },
  {
   "cell_type": "code",
   "execution_count": null,
   "id": "2c5621df",
   "metadata": {},
   "outputs": [],
   "source": [
    "nums = (1)\n",
    "print(nums)"
   ]
  },
  {
   "cell_type": "code",
   "execution_count": null,
   "id": "9c0a5e24",
   "metadata": {},
   "outputs": [],
   "source": [
    "# 튜플 언팩킹\n",
    "temp = ('apple','banana','cake')\n",
    "a,b,c = temp\n",
    "print(a,b,c)"
   ]
  },
  {
   "cell_type": "code",
   "execution_count": null,
   "id": "4b932173",
   "metadata": {},
   "outputs": [],
   "source": [
    "# Range 함수 활용\n",
    "data = tuple(range(2,100,2))\n",
    "print(data)"
   ]
  },
  {
   "cell_type": "code",
   "execution_count": null,
   "id": "8d292476",
   "metadata": {},
   "outputs": [],
   "source": []
  },
  {
   "cell_type": "code",
   "execution_count": null,
   "id": "8ef72e13",
   "metadata": {},
   "outputs": [],
   "source": []
  },
  {
   "cell_type": "code",
   "execution_count": null,
   "id": "a4ec3a54",
   "metadata": {},
   "outputs": [],
   "source": []
  },
  {
   "cell_type": "code",
   "execution_count": null,
   "id": "2dafedf7",
   "metadata": {},
   "outputs": [],
   "source": []
  },
  {
   "cell_type": "code",
   "execution_count": null,
   "id": "3383b42d",
   "metadata": {},
   "outputs": [],
   "source": []
  },
  {
   "cell_type": "code",
   "execution_count": null,
   "id": "042a17f1",
   "metadata": {},
   "outputs": [],
   "source": []
  },
  {
   "cell_type": "code",
   "execution_count": null,
   "id": "754aa7cd",
   "metadata": {},
   "outputs": [],
   "source": []
  },
  {
   "cell_type": "code",
   "execution_count": null,
   "id": "ef741601",
   "metadata": {},
   "outputs": [],
   "source": []
  },
  {
   "cell_type": "code",
   "execution_count": null,
   "id": "a950cc2f",
   "metadata": {},
   "outputs": [],
   "source": []
  },
  {
   "cell_type": "code",
   "execution_count": null,
   "id": "382daec5",
   "metadata": {},
   "outputs": [],
   "source": []
  },
  {
   "cell_type": "code",
   "execution_count": null,
   "id": "17261832",
   "metadata": {},
   "outputs": [],
   "source": []
  },
  {
   "cell_type": "code",
   "execution_count": null,
   "id": "a730a6e6",
   "metadata": {},
   "outputs": [],
   "source": []
  },
  {
   "cell_type": "code",
   "execution_count": null,
   "id": "447efb6d",
   "metadata": {},
   "outputs": [],
   "source": []
  },
  {
   "cell_type": "code",
   "execution_count": null,
   "id": "51fe1303",
   "metadata": {},
   "outputs": [],
   "source": []
  },
  {
   "cell_type": "code",
   "execution_count": null,
   "id": "fa89c512",
   "metadata": {},
   "outputs": [],
   "source": []
  },
  {
   "cell_type": "code",
   "execution_count": null,
   "id": "7f1b8767",
   "metadata": {},
   "outputs": [],
   "source": []
  },
  {
   "cell_type": "code",
   "execution_count": null,
   "id": "ae17bc2f",
   "metadata": {},
   "outputs": [],
   "source": []
  },
  {
   "cell_type": "code",
   "execution_count": null,
   "id": "0d914e34",
   "metadata": {},
   "outputs": [],
   "source": []
  },
  {
   "cell_type": "code",
   "execution_count": null,
   "id": "b996ebd0",
   "metadata": {},
   "outputs": [],
   "source": []
  },
  {
   "cell_type": "code",
   "execution_count": null,
   "id": "ae469530",
   "metadata": {},
   "outputs": [],
   "source": []
  },
  {
   "cell_type": "code",
   "execution_count": null,
   "id": "fd46ef6d",
   "metadata": {},
   "outputs": [],
   "source": []
  },
  {
   "cell_type": "code",
   "execution_count": null,
   "id": "f47212e9",
   "metadata": {},
   "outputs": [],
   "source": []
  },
  {
   "cell_type": "code",
   "execution_count": null,
   "id": "b8f93d50",
   "metadata": {},
   "outputs": [],
   "source": []
  },
  {
   "cell_type": "code",
   "execution_count": null,
   "id": "802660d5",
   "metadata": {},
   "outputs": [],
   "source": []
  },
  {
   "cell_type": "code",
   "execution_count": null,
   "id": "5bb8a348",
   "metadata": {},
   "outputs": [],
   "source": []
  },
  {
   "cell_type": "code",
   "execution_count": null,
   "id": "c54c5231",
   "metadata": {},
   "outputs": [],
   "source": []
  },
  {
   "cell_type": "code",
   "execution_count": null,
   "id": "4cbc2309",
   "metadata": {},
   "outputs": [],
   "source": []
  },
  {
   "cell_type": "code",
   "execution_count": null,
   "id": "05347e71",
   "metadata": {},
   "outputs": [],
   "source": []
  },
  {
   "cell_type": "code",
   "execution_count": null,
   "id": "94ca52fb",
   "metadata": {},
   "outputs": [],
   "source": []
  },
  {
   "cell_type": "code",
   "execution_count": null,
   "id": "b3c73297",
   "metadata": {},
   "outputs": [],
   "source": []
  },
  {
   "cell_type": "code",
   "execution_count": null,
   "id": "7f7a8f98",
   "metadata": {},
   "outputs": [],
   "source": []
  },
  {
   "cell_type": "code",
   "execution_count": null,
   "id": "9c126ec1",
   "metadata": {},
   "outputs": [],
   "source": []
  },
  {
   "cell_type": "code",
   "execution_count": null,
   "id": "dbacd758",
   "metadata": {},
   "outputs": [],
   "source": []
  },
  {
   "cell_type": "code",
   "execution_count": null,
   "id": "8ad95525",
   "metadata": {},
   "outputs": [],
   "source": []
  },
  {
   "cell_type": "code",
   "execution_count": null,
   "id": "761483a2",
   "metadata": {},
   "outputs": [],
   "source": []
  },
  {
   "cell_type": "code",
   "execution_count": null,
   "id": "c7aa5c7d",
   "metadata": {},
   "outputs": [],
   "source": []
  },
  {
   "cell_type": "code",
   "execution_count": null,
   "id": "ad4c0de1",
   "metadata": {},
   "outputs": [],
   "source": []
  },
  {
   "cell_type": "code",
   "execution_count": null,
   "id": "f446e13c",
   "metadata": {},
   "outputs": [],
   "source": []
  }
 ],
 "metadata": {
  "kernelspec": {
   "display_name": "Python 3 (ipykernel)",
   "language": "python",
   "name": "python3"
  },
  "language_info": {
   "codemirror_mode": {
    "name": "ipython",
    "version": 3
   },
   "file_extension": ".py",
   "mimetype": "text/x-python",
   "name": "python",
   "nbconvert_exporter": "python",
   "pygments_lexer": "ipython3",
   "version": "3.10.9"
  }
 },
 "nbformat": 4,
 "nbformat_minor": 5
}
