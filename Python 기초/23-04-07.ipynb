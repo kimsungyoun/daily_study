{
 "cells": [
  {
   "cell_type": "markdown",
   "id": "67bbdd09",
   "metadata": {},
   "source": [
    "# 복합대입연산자"
   ]
  },
  {
   "cell_type": "code",
   "execution_count": 6,
   "id": "aa65b321",
   "metadata": {},
   "outputs": [
    {
     "data": {
      "text/plain": [
       "30"
      ]
     },
     "execution_count": 6,
     "metadata": {},
     "output_type": "execute_result"
    }
   ],
   "source": [
    "num = 27\n",
    "num += 3\n",
    "num"
   ]
  },
  {
   "cell_type": "code",
   "execution_count": 7,
   "id": "efcd5ba4",
   "metadata": {},
   "outputs": [
    {
     "data": {
      "text/plain": [
       "45"
      ]
     },
     "execution_count": 7,
     "metadata": {},
     "output_type": "execute_result"
    }
   ],
   "source": [
    "num = 100\n",
    "num -= 55\n",
    "num"
   ]
  },
  {
   "cell_type": "code",
   "execution_count": 10,
   "id": "b99d78ee",
   "metadata": {},
   "outputs": [
    {
     "name": "stdout",
     "output_type": "stream",
     "text": [
      "36\n"
     ]
    }
   ],
   "source": [
    "num = 27\n",
    "num += 3\n",
    "num += 3\n",
    "num += 3\n",
    "num\n",
    "\n",
    "#for i in range(3):\n",
    "#    num += 3\n",
    "#print(num)"
   ]
  },
  {
   "cell_type": "code",
   "execution_count": 11,
   "id": "e9d68f82",
   "metadata": {},
   "outputs": [
    {
     "data": {
      "text/plain": [
       "25.0"
      ]
     },
     "execution_count": 11,
     "metadata": {},
     "output_type": "execute_result"
    }
   ],
   "source": [
    "num = 100\n",
    "num /= 2\n",
    "num /= 2\n",
    "num"
   ]
  },
  {
   "cell_type": "code",
   "execution_count": 17,
   "id": "dff72197",
   "metadata": {},
   "outputs": [
    {
     "name": "stdout",
     "output_type": "stream",
     "text": [
      "a : 1 b : 2\n",
      "a : 2 b : 1\n"
     ]
    }
   ],
   "source": [
    "# 치환\n",
    "a = 1; b = 2; temp = 0\n",
    "print(\"a :\",a,\"b :\",b)\n",
    "\n",
    "temp = a\n",
    "a = b\n",
    "b = temp\n",
    "print(\"a :\",a,\"b :\",b)"
   ]
  },
  {
   "cell_type": "code",
   "execution_count": 21,
   "id": "bc1e84c4",
   "metadata": {},
   "outputs": [
    {
     "name": "stdout",
     "output_type": "stream",
     "text": [
      "a > b :\t False \n",
      "a <= b : True \n",
      "a == b : False \n",
      "a != b : True\n"
     ]
    }
   ],
   "source": [
    "a = 3\n",
    "b = 7\n",
    "print(\"a > b :\\t\",a > b,\n",
    "      \"\\na <= b :\",a <= b,\n",
    "      \"\\na == b :\",a == b,\n",
    "      \"\\na != b :\",a != b)"
   ]
  },
  {
   "cell_type": "code",
   "execution_count": 27,
   "id": "e82f2345",
   "metadata": {},
   "outputs": [
    {
     "name": "stdout",
     "output_type": "stream",
     "text": [
      "a: 5, b: 6\n",
      " a > b : False \n",
      "a <= b : True \n",
      "a == b : False \n",
      "a != b : True\n"
     ]
    }
   ],
   "source": [
    "import random\n",
    "a = random.randint(1,10)\n",
    "b = random.randint(1,10)\n",
    "\n",
    "print(\"a: {}, b: {}\\n\".format(a,b),\n",
    "      \"a > b :\",a > b,\n",
    "      \"\\na <= b :\",a <= b,\n",
    "      \"\\na == b :\",a == b,\n",
    "      \"\\na != b :\",a != b)"
   ]
  },
  {
   "cell_type": "code",
   "execution_count": 28,
   "id": "6b29e351",
   "metadata": {},
   "outputs": [
    {
     "data": {
      "text/plain": [
       "False"
      ]
     },
     "execution_count": 28,
     "metadata": {},
     "output_type": "execute_result"
    }
   ],
   "source": [
    "a = 3\n",
    "b = 7\n",
    "not a < b"
   ]
  },
  {
   "cell_type": "code",
   "execution_count": 29,
   "id": "bf5656b6",
   "metadata": {},
   "outputs": [
    {
     "data": {
      "text/plain": [
       "False"
      ]
     },
     "execution_count": 29,
     "metadata": {},
     "output_type": "execute_result"
    }
   ],
   "source": [
    "3 > 5 and 10 == 20 \n",
    "# F and F => F"
   ]
  },
  {
   "cell_type": "code",
   "execution_count": 30,
   "id": "54e5103a",
   "metadata": {},
   "outputs": [
    {
     "data": {
      "text/plain": [
       "False"
      ]
     },
     "execution_count": 30,
     "metadata": {},
     "output_type": "execute_result"
    }
   ],
   "source": [
    "3 > 5 and 10 < 20\n",
    "# F and T => F"
   ]
  },
  {
   "cell_type": "code",
   "execution_count": 31,
   "id": "adbd4dbb",
   "metadata": {},
   "outputs": [
    {
     "data": {
      "text/plain": [
       "True"
      ]
     },
     "execution_count": 31,
     "metadata": {},
     "output_type": "execute_result"
    }
   ],
   "source": [
    "3 < 5 and 10 < 20\n",
    "# T and T => T"
   ]
  },
  {
   "cell_type": "code",
   "execution_count": 33,
   "id": "18b82540",
   "metadata": {},
   "outputs": [
    {
     "data": {
      "text/plain": [
       "False"
      ]
     },
     "execution_count": 33,
     "metadata": {},
     "output_type": "execute_result"
    }
   ],
   "source": [
    "3 > 5 or 10 == 20\n",
    "# F or F => F"
   ]
  },
  {
   "cell_type": "code",
   "execution_count": 32,
   "id": "665ac7b6",
   "metadata": {},
   "outputs": [
    {
     "data": {
      "text/plain": [
       "True"
      ]
     },
     "execution_count": 32,
     "metadata": {},
     "output_type": "execute_result"
    }
   ],
   "source": [
    "3 > 5 or 10 < 20\n",
    "# F or T => T"
   ]
  },
  {
   "cell_type": "code",
   "execution_count": 36,
   "id": "fb67e747",
   "metadata": {},
   "outputs": [
    {
     "data": {
      "text/plain": [
       "'합격'"
      ]
     },
     "execution_count": 36,
     "metadata": {},
     "output_type": "execute_result"
    }
   ],
   "source": [
    "# a if 조건식 else b (삼항연산자)\n",
    "# 조건식이 True면 a \n",
    "# 조건식이 Fales면 b\n",
    "score = 80\n",
    "\"합격\" if score >= 60 else \"불합격\""
   ]
  },
  {
   "cell_type": "code",
   "execution_count": 37,
   "id": "a3e4728a",
   "metadata": {},
   "outputs": [
    {
     "data": {
      "text/plain": [
       "'불합격'"
      ]
     },
     "execution_count": 37,
     "metadata": {},
     "output_type": "execute_result"
    }
   ],
   "source": [
    "score = 50\n",
    "\"합격\" if score >= 60 else \"불합격\""
   ]
  },
  {
   "cell_type": "code",
   "execution_count": 59,
   "id": "a9a5c51a",
   "metadata": {},
   "outputs": [
    {
     "name": "stdout",
     "output_type": "stream",
     "text": [
      "A 정수 입력 >> 3\n",
      "B 정수 입력 >> 10\n",
      "b: 10\n"
     ]
    }
   ],
   "source": [
    "a = int(input(\"첫번째 정수 입력 >> \"))\n",
    "b = int(input(\"두번째 정수 입력 >> \"))\n",
    "print('a: {}'.format(a) if a > b else 'b: {}'.format(b))"
   ]
  },
  {
   "cell_type": "code",
   "execution_count": 64,
   "id": "bd436f79",
   "metadata": {},
   "outputs": [
    {
     "name": "stdout",
     "output_type": "stream",
     "text": [
      "첫번째 정수 입력 >> 10\n",
      "두번째 정수 입력 >> 20\n",
      "두 수의 차: 10\n"
     ]
    }
   ],
   "source": [
    "a = int(input(\"첫번째 정수 입력 >> \"))\n",
    "b = int(input(\"두번째 정수 입력 >> \"))\n",
    "print(\"두 수의 차: {}\".format((a-b) if a > b else (b-a)))"
   ]
  },
  {
   "cell_type": "code",
   "execution_count": 70,
   "id": "ccce0540",
   "metadata": {},
   "outputs": [
    {
     "name": "stdout",
     "output_type": "stream",
     "text": [
      "정수 입력 >> 22\n",
      "22는(은) 짝수입니다.\n"
     ]
    }
   ],
   "source": [
    "num = int(input(\"정수 입력 >> \"))\n",
    "print(f\"{num}는(은) 홀수입니다\" if num%2 != 0 else f\"{num}는(은) 짝수입니다.\")"
   ]
  },
  {
   "cell_type": "markdown",
   "id": "001197ca",
   "metadata": {},
   "source": [
    "# 조건문\n",
    "- 상황에 따라 실행 흐름을 다르게 하는 문법\n",
    "- if, elif, else"
   ]
  },
  {
   "cell_type": "code",
   "execution_count": 72,
   "id": "bd2e4e1d",
   "metadata": {},
   "outputs": [
    {
     "name": "stdout",
     "output_type": "stream",
     "text": [
      "실행문장 실행\n",
      "if문 밖에 있는 실행문장\n"
     ]
    }
   ],
   "source": [
    "if True:\n",
    "    print(\"실행문장 실행\")\n",
    "print(\"if문 밖에 있는 실행문장\")"
   ]
  },
  {
   "cell_type": "code",
   "execution_count": 73,
   "id": "77bd16d6",
   "metadata": {},
   "outputs": [
    {
     "name": "stdout",
     "output_type": "stream",
     "text": [
      "if문 밖에 있는 실행문장\n"
     ]
    }
   ],
   "source": [
    "if False:\n",
    "    print(\"실행문장 실행\")\n",
    "print(\"if문 밖에 있는 실행문장\")"
   ]
  },
  {
   "cell_type": "code",
   "execution_count": 79,
   "id": "3b566b7b",
   "metadata": {},
   "outputs": [
    {
     "name": "stdout",
     "output_type": "stream",
     "text": [
      "택시를 탄다\n"
     ]
    }
   ],
   "source": [
    "money = 11000\n",
    "if money >= 10000:\n",
    "    print(\"택시를 탄다\")\n",
    "else:\n",
    "    print(\"버스를 탄다\")"
   ]
  },
  {
   "cell_type": "code",
   "execution_count": 80,
   "id": "60fa9fc4",
   "metadata": {},
   "outputs": [
    {
     "name": "stdout",
     "output_type": "stream",
     "text": [
      "버스를 탄다\n"
     ]
    }
   ],
   "source": [
    "money = 9000\n",
    "if money >= 10000:\n",
    "    print(\"택시를 탄다\")\n",
    "else:\n",
    "    print(\"버스를 탄다\")"
   ]
  },
  {
   "cell_type": "code",
   "execution_count": 83,
   "id": "a72aef28",
   "metadata": {},
   "outputs": [
    {
     "name": "stdout",
     "output_type": "stream",
     "text": [
      "정수입력 >> 4\n",
      "3과 5의 배수가 아닙니다\n"
     ]
    }
   ],
   "source": [
    "num = int(input(\"정수입력 >> \"))\n",
    "if num % 3 == 0 and num % 5 ==0:\n",
    "    print(\"3과 5의 배수입니다\")\n",
    "else :\n",
    "    print(\"3과 5의 배수가 아닙니다\")"
   ]
  },
  {
   "cell_type": "code",
   "execution_count": 88,
   "id": "01596975",
   "metadata": {},
   "outputs": [
    {
     "name": "stdout",
     "output_type": "stream",
     "text": [
      "주민등록번호 뒷자리 입력 >> 2832560\n",
      "당신은 여자 입니다 ^^*\n"
     ]
    }
   ],
   "source": [
    "number = input(\"주민등록번호 뒷자리 입력 >> \")\n",
    "\n",
    "if number[0] == \"1\" or number[0] ==\"3\":\n",
    "    print(\"당신은 남자 입니다 ^^7\")\n",
    "else:\n",
    "    print(\"당신은 여자 입니다 ^^*\")"
   ]
  },
  {
   "cell_type": "code",
   "execution_count": 103,
   "id": "b9091598",
   "metadata": {},
   "outputs": [
    {
     "name": "stdout",
     "output_type": "stream",
     "text": [
      "주민등록번호 뒷자리 입력 >> 2832560\n",
      "당신은 여자 입니다 ^^*\n"
     ]
    }
   ],
   "source": [
    "number = int(input(\"주민등록번호 뒷자리 입력 >> \"))\n",
    "\n",
    "if number//1000000 == 1 or number//1000000 == 3:\n",
    "    print(\"당신은 남자 입니다 ^^7\")\n",
    "else:\n",
    "    print(\"당신은 여자 입니다 ^^*\")"
   ]
  },
  {
   "cell_type": "code",
   "execution_count": 123,
   "id": "05b02509",
   "metadata": {},
   "outputs": [
    {
     "name": "stdout",
     "output_type": "stream",
     "text": [
      "이름 입력 >> 성우\n",
      "나이 입력 >> 28\n",
      "카드 소지 여부(소지, 미소지)) >> 소지\n",
      "성우님은 입장료 24500원에 예약되었습니다.\n"
     ]
    }
   ],
   "source": [
    "name = input(\"이름 입력 >> \")\n",
    "age = int(input(\"나이 입력 >> \"))\n",
    "card = input(\"카드 소지 여부(소지, 미소지)) >> \")\n",
    "price = 35000\n",
    "\n",
    "if age >= 19:\n",
    "    if card == \"소지\":\n",
    "        print(f\"{name}님은 입장료 {int(price*0.7)}원에 예약되었습니다.\")\n",
    "    else:\n",
    "        print(f\"{name}님은 입장료 {int(price)}원에 예약되었습니다.\")\n",
    "else:\n",
    "    if card == \"소지\":\n",
    "        print(f\"{name}님은 입장료 {int(price*0.5*0.9)}원에 예약되었습니다.\")\n",
    "    else:\n",
    "        print(f\"{name}님은 입장료 {int(price*0.5)}원에 예약되었습니다.\")"
   ]
  },
  {
   "cell_type": "code",
   "execution_count": null,
   "id": "9e538a66",
   "metadata": {},
   "outputs": [],
   "source": [
    "name = input(\"이름 입력 >> \")\n",
    "age = int(input(\"나이 입력 >> \"))\n",
    "card = input(\"카드 소지 여부(소지, 미소지)) >> \")\n",
    "price = 35000\n",
    "\n",
    "if age >= 19 and card == \"소지\":\n",
    "    print(f\"{name}님은 입장료 {int(price*0.7)}원에 예약되었습니다.\")\n",
    "elif age >= 19 and card == \"미소지\" :\n",
    "    print(f\"{name}님은 입장료 {int(price)}원에 예약되었습니다.\")\n",
    "elif age < 19 and card == \"소지\":\n",
    "    print(f\"{name}님은 입장료 {int(price*0.5*0.9)}원에 예약되었습니다.\")\n",
    "else:\n",
    "    print(f\"{name}님은 입장료 {int(price*0.5)}원에 예약되었습니다.\")"
   ]
  },
  {
   "cell_type": "code",
   "execution_count": 130,
   "id": "65505914",
   "metadata": {},
   "outputs": [
    {
     "name": "stdout",
     "output_type": "stream",
     "text": [
      "이름 입력 >> 성우\n",
      "나이 입력 >> 16\n",
      "카드 소지 여부(소지, 미소지)) >> 소지\n",
      "성우님은 입장료 15750원에 예약되었습니다.\n"
     ]
    }
   ],
   "source": [
    "name = input(\"이름 입력 >> \")\n",
    "age = int(input(\"나이 입력 >> \"))\n",
    "card = input(\"카드 소지 여부(소지, 미소지)) >> \")\n",
    "price = 35000\n",
    "\n",
    "if age >= 19:\n",
    "    price = price\n",
    "    if card == \"소지\":\n",
    "        price *= 0.7\n",
    "else:\n",
    "    price *= 0.5\n",
    "    if card == \"소지\":\n",
    "        price *= 0.9\n",
    "\n",
    "print(\"{}님은 입장료 {}원에 예약되었습니다.\".format(name, int(price)))"
   ]
  },
  {
   "cell_type": "code",
   "execution_count": 225,
   "id": "758622b1",
   "metadata": {},
   "outputs": [
    {
     "name": "stdout",
     "output_type": "stream",
     "text": [
      "마스크 개수 입력 >> 23\n",
      "8개들이 포장지 개수: 2\n",
      "5개들이 포장지 개수: 2\n"
     ]
    }
   ],
   "source": [
    "# 본인 작성\n",
    "countOfMask = int(input(\"마스크 개수 입력 >> \"))\n",
    "eight = countOfMask // 8\n",
    "\n",
    "if countOfMask % 8 % 5 == 0:\n",
    "    five = countOfMask % 8 // 5\n",
    "else:\n",
    "    five = countOfMask % 8 // 5 + 1\n",
    "    \n",
    "print(f\"8개들이 포장지 개수: {eight}\\n5개들이 포장지 개수: {five}\")"
   ]
  },
  {
   "cell_type": "code",
   "execution_count": null,
   "id": "df504e3b",
   "metadata": {},
   "outputs": [],
   "source": [
    "# 참고 코드\n",
    "countOfMask = int(input(\"마스크 개수 입력 >> \"))\n",
    "\n",
    "mask8 = countOfMask//8\n",
    "mask5 = countOfMask%8//5\n",
    "\n",
    "if countOfMask % 8 % 5 >= 1:\n",
    "    mask5 += 1\n",
    "\n",
    "print(f\"8개들이 포장지 개수 : {mask8}\")\n",
    "print(f\"5개들이 포장지 개수 : {mask5}\")"
   ]
  },
  {
   "cell_type": "code",
   "execution_count": 204,
   "id": "5a999442",
   "metadata": {},
   "outputs": [
    {
     "name": "stdout",
     "output_type": "stream",
     "text": [
      "실행 문장2\n"
     ]
    }
   ],
   "source": [
    "if False:\n",
    "    print(\"실행 문장1\")\n",
    "elif True:\n",
    "    print(\"실행 문장2\")"
   ]
  },
  {
   "cell_type": "code",
   "execution_count": 207,
   "id": "4a296750",
   "metadata": {},
   "outputs": [
    {
     "name": "stdout",
     "output_type": "stream",
     "text": [
      "첫번째 정수 입력 >> 10\n",
      "두번째 정수 입력 >> 99\n",
      "두번째 정수가 큽니다\n"
     ]
    }
   ],
   "source": [
    "num1 = int(input(\"첫번째 정수 입력 >> \"))\n",
    "num2 = int(input(\"두번째 정수 입력 >> \"))\n",
    "\n",
    "if num1 > num2:\n",
    "    print(\"첫번째 정수가 큽니다\")\n",
    "elif num1 == num2:\n",
    "    print(\"두 수가 똑같습니다.\")\n",
    "else :\n",
    "    print(\"두번째 정수가 큽니다\")"
   ]
  },
  {
   "cell_type": "code",
   "execution_count": 234,
   "id": "0250cf7f",
   "metadata": {},
   "outputs": [
    {
     "name": "stdout",
     "output_type": "stream",
     "text": [
      "점수 입력 >> 101\n",
      "잘못 입력하셨습니다.\n",
      "101점은 A학점입니다\n"
     ]
    }
   ],
   "source": [
    "score = int(input(\"점수 입력 >> \"))\n",
    "\n",
    "if score >= 90:\n",
    "    grade = \"A\"\n",
    "elif score >= 80:\n",
    "    grade = \"B\"\n",
    "elif score >= 70:\n",
    "    grade = \"C\"\n",
    "elif score >= 60:\n",
    "    grade = \"D\"\n",
    "else:\n",
    "    grade = \"F\"\n",
    "\n",
    "print(f\"{score}점은 {grade}학점입니다\")"
   ]
  },
  {
   "cell_type": "code",
   "execution_count": 252,
   "id": "56f712ba",
   "metadata": {},
   "outputs": [
    {
     "name": "stdout",
     "output_type": "stream",
     "text": [
      "x값을 입력하세요 : 5\n",
      "y값을 입력하세요 : 6\n",
      "좌표(5, 6)는 1사분면 입니다\n"
     ]
    }
   ],
   "source": [
    "# x,y 값은 모두 양수 혹은 음수 값이라 가정\n",
    "# if, else만 사용해서 작성\n",
    "x = int(input(\"x값을 입력하세요 : \"))\n",
    "y = int(input(\"y값을 입력하세요 : \"))\n",
    "\n",
    "if x > 0 :\n",
    "    if y > 0 :\n",
    "        q = 1\n",
    "    else:\n",
    "        q = 4\n",
    "else:\n",
    "    if y > 0:\n",
    "        q = 2\n",
    "    else:\n",
    "        q = 3\n",
    "\n",
    "print(f\"좌표({x},{y})는 {q}사분면 입니다\")"
   ]
  },
  {
   "cell_type": "code",
   "execution_count": 253,
   "id": "4f697429",
   "metadata": {},
   "outputs": [
    {
     "name": "stdout",
     "output_type": "stream",
     "text": [
      "x값을 입력하세요 : 5\n",
      "y값을 입력하세요 : 12\n",
      "좌표(5,12)는 1사분면 입니다\n"
     ]
    }
   ],
   "source": [
    "# elif문 작성\n",
    "x = int(input(\"x값을 입력하세요 : \"))\n",
    "y = int(input(\"y값을 입력하세요 : \"))\n",
    "\n",
    "if x > 0 and y > 0 : q = 1\n",
    "elif x > 0 and y < 0 : q = 4\n",
    "elif x < 0 and y > 0 : q = 2\n",
    "elif x < 0 and y < 0 : q = 3\n",
    "\n",
    "print(f\"좌표({x},{y})는 {q}사분면 입니다\")"
   ]
  },
  {
   "cell_type": "code",
   "execution_count": 265,
   "id": "8f8ffc74",
   "metadata": {},
   "outputs": [
    {
     "name": "stdout",
     "output_type": "stream",
     "text": [
      "나이 입력 >> 52\n",
      "요금은 1500원 입니다\n"
     ]
    }
   ],
   "source": [
    "age = int(input(\"나이 입력 >> \"))\n",
    "price = 1500\n",
    "\n",
    "if age < 5 :\n",
    "    price *= 0.5\n",
    "elif age < 20 :\n",
    "    price *= 0.75\n",
    "elif age >= 65 :\n",
    "    price *= 0.25\n",
    "    \n",
    "print(f\"요금은 {int(price)}원 입니다\")"
   ]
  },
  {
   "cell_type": "code",
   "execution_count": 3,
   "id": "2d1f092e",
   "metadata": {},
   "outputs": [
    {
     "name": "stdout",
     "output_type": "stream",
     "text": [
      "==============================================\n",
      "=============== ----자판기---- ===============\n",
      "==============================================\n",
      "== 1.콜라 == 2.사이다 == 3.물 ===== insert ===\n",
      "== ------ == -------- == ---- ===== ------ ===\n",
      "==   600  ==    800   == 1000 =====  000원 ===\n",
      "=================================== ------ ===\n",
      "== ++++++++++++++++++++++++++++++++++++++++ ==\n",
      "== ++++++++++++++++++++++++++++++++++++++++ ==\n",
      "== ++++++++++++++++++++++++++++++++++++++++ ==\n",
      "== ++++++++++++++            ++++++++++++++ ==\n",
      "== ++++++++++++++   SMHRD    ++++++++++++++ ==\n",
      "== ++++++++++++++            ++++++++++++++ ==\n",
      "== ++++++++++++++++++++++++++++++++++++++++ ==\n",
      "== ++++++++++++++++++++++++++++++++++++++++ ==\n",
      "==============================================\n",
      "==============================================\n",
      "   ===                                  ===  \n",
      "   ===                                  ===  \n",
      "\n",
      "insert coin >> 5000\n",
      "select menu >> 1\n",
      "잔돈 >> 1000원 5개, 500원 0개, 100원 0개\n"
     ]
    }
   ],
   "source": [
    "# 자판기\n",
    "# 600원이상 돈을 넣어야지 메뉴 선택이 가능함\n",
    "print('='*46)\n",
    "print('='*15,'----자판기----','='*15)\n",
    "print('='*46)\n",
    "print('==','1.콜라','==','2.사이다','==','3.물','='*5,'insert','='*3)\n",
    "print('==','-'*6,'==','-'*8,'==','-'*4,'='*5,'------','='*3)\n",
    "print('==','  600 ','==','   800  ','==','1000','='*5,' 000원','='*3)\n",
    "print('='*35,'------','='*3)\n",
    "print('==','+'*40,'==')\n",
    "print('==','+'*40,'==')\n",
    "print('==','+'*40,'==')\n",
    "print('==','+'*14,' '*10,'+'*14,'==')\n",
    "print('==','+'*14,' '*1,'SMHRD',' '*2,'+'*14,'==')\n",
    "print('==','+'*14,' '*10,'+'*14,'==')\n",
    "print('==','+'*40,'==')\n",
    "print('==','+'*40,'==')\n",
    "print('='*46)\n",
    "print('='*46)\n",
    "print(' '*2,'='*3,' '*32,'='*3,' ')\n",
    "print(' '*2,'='*3,' '*32,'='*3,' \\n')\n",
    "\n",
    "insert_coin = int(input(\"insert coin >> \"))\n",
    "if insert_coin < 600:\n",
    "    print(f\"금액 부족(600원이상 넣으세요)\")\n",
    "else:\n",
    "    select_menu = int(input(\"select menu >> \"))\n",
    "    if select_menu == 1:\n",
    "        if 600 > insert_coin:\n",
    "            print(\"금액 부족\")\n",
    "        else:\n",
    "            balance = insert_coin - 600\n",
    "            print(f\"잔돈 >> 1000원 {balance//1000}개, 500원 {balance%1000//500}개, 100원 {balance%1000%500//100}개\")\n",
    "    elif select_menu == 2:\n",
    "        if 800 > insert_coin:\n",
    "            print(\"금액 부족\")\n",
    "        else:\n",
    "            balance = insert_coin - 800\n",
    "            print(f\"잔돈 >> 1000원 {balance//1000}개, 500원 {balance%1000//500}개, 100원 {balance%1000%500//100}개\")\n",
    "    elif select_menu == 3:\n",
    "        if 1000 > insert_coin:\n",
    "            print(\"금액 부족\")\n",
    "        else:\n",
    "            balance = insert_coin - 1000\n",
    "            print(f\"잔돈 >> 1000원 {balance//1000}개, 500원 {balance%1000//500}개, 100원 {balance%1000%500//100}개\")\n",
    "    else :\n",
    "        print(\"잘못된 메뉴 선택\")"
   ]
  },
  {
   "cell_type": "code",
   "execution_count": null,
   "id": "c62af368",
   "metadata": {},
   "outputs": [],
   "source": []
  },
  {
   "cell_type": "code",
   "execution_count": null,
   "id": "d136688d",
   "metadata": {},
   "outputs": [],
   "source": []
  },
  {
   "cell_type": "code",
   "execution_count": null,
   "id": "859c32a3",
   "metadata": {},
   "outputs": [],
   "source": []
  },
  {
   "cell_type": "code",
   "execution_count": null,
   "id": "2f3386dd",
   "metadata": {},
   "outputs": [],
   "source": []
  },
  {
   "cell_type": "code",
   "execution_count": null,
   "id": "13ac5224",
   "metadata": {},
   "outputs": [],
   "source": []
  },
  {
   "cell_type": "code",
   "execution_count": null,
   "id": "21004149",
   "metadata": {},
   "outputs": [],
   "source": []
  },
  {
   "cell_type": "code",
   "execution_count": null,
   "id": "9c80fe11",
   "metadata": {},
   "outputs": [],
   "source": []
  },
  {
   "cell_type": "code",
   "execution_count": null,
   "id": "31bfe1f1",
   "metadata": {},
   "outputs": [],
   "source": []
  },
  {
   "cell_type": "code",
   "execution_count": null,
   "id": "8b586647",
   "metadata": {},
   "outputs": [],
   "source": []
  },
  {
   "cell_type": "code",
   "execution_count": null,
   "id": "27a1dee3",
   "metadata": {},
   "outputs": [],
   "source": []
  },
  {
   "cell_type": "code",
   "execution_count": null,
   "id": "70bda16f",
   "metadata": {},
   "outputs": [],
   "source": []
  },
  {
   "cell_type": "code",
   "execution_count": null,
   "id": "04b9c375",
   "metadata": {},
   "outputs": [],
   "source": []
  },
  {
   "cell_type": "code",
   "execution_count": null,
   "id": "d8d5ceb8",
   "metadata": {},
   "outputs": [],
   "source": []
  },
  {
   "cell_type": "code",
   "execution_count": null,
   "id": "10e67116",
   "metadata": {},
   "outputs": [],
   "source": []
  },
  {
   "cell_type": "code",
   "execution_count": null,
   "id": "04cd89be",
   "metadata": {},
   "outputs": [],
   "source": []
  },
  {
   "cell_type": "code",
   "execution_count": null,
   "id": "eb3b26d9",
   "metadata": {},
   "outputs": [],
   "source": []
  },
  {
   "cell_type": "code",
   "execution_count": null,
   "id": "ad36328e",
   "metadata": {},
   "outputs": [],
   "source": []
  },
  {
   "cell_type": "code",
   "execution_count": null,
   "id": "7d904822",
   "metadata": {},
   "outputs": [],
   "source": []
  },
  {
   "cell_type": "code",
   "execution_count": null,
   "id": "95a428e7",
   "metadata": {},
   "outputs": [],
   "source": []
  },
  {
   "cell_type": "code",
   "execution_count": null,
   "id": "babe6fe7",
   "metadata": {},
   "outputs": [],
   "source": []
  },
  {
   "cell_type": "code",
   "execution_count": null,
   "id": "acef1754",
   "metadata": {},
   "outputs": [],
   "source": []
  },
  {
   "cell_type": "code",
   "execution_count": null,
   "id": "ee688ba5",
   "metadata": {},
   "outputs": [],
   "source": []
  },
  {
   "cell_type": "code",
   "execution_count": null,
   "id": "e803f7e6",
   "metadata": {},
   "outputs": [],
   "source": []
  },
  {
   "cell_type": "code",
   "execution_count": null,
   "id": "07d3f537",
   "metadata": {},
   "outputs": [],
   "source": []
  },
  {
   "cell_type": "code",
   "execution_count": null,
   "id": "ca48ffc6",
   "metadata": {},
   "outputs": [],
   "source": []
  },
  {
   "cell_type": "code",
   "execution_count": null,
   "id": "51d0fe7c",
   "metadata": {},
   "outputs": [],
   "source": []
  },
  {
   "cell_type": "code",
   "execution_count": null,
   "id": "d08d916b",
   "metadata": {},
   "outputs": [],
   "source": []
  },
  {
   "cell_type": "code",
   "execution_count": null,
   "id": "9c1c2a11",
   "metadata": {},
   "outputs": [],
   "source": []
  },
  {
   "cell_type": "code",
   "execution_count": null,
   "id": "d36c8cb9",
   "metadata": {},
   "outputs": [],
   "source": []
  },
  {
   "cell_type": "code",
   "execution_count": null,
   "id": "62a35277",
   "metadata": {},
   "outputs": [],
   "source": []
  },
  {
   "cell_type": "code",
   "execution_count": null,
   "id": "a576200a",
   "metadata": {},
   "outputs": [],
   "source": []
  },
  {
   "cell_type": "code",
   "execution_count": null,
   "id": "41503508",
   "metadata": {},
   "outputs": [],
   "source": []
  },
  {
   "cell_type": "code",
   "execution_count": null,
   "id": "059443d8",
   "metadata": {},
   "outputs": [],
   "source": []
  },
  {
   "cell_type": "code",
   "execution_count": null,
   "id": "9d334759",
   "metadata": {},
   "outputs": [],
   "source": []
  },
  {
   "cell_type": "code",
   "execution_count": null,
   "id": "94dec3f7",
   "metadata": {},
   "outputs": [],
   "source": []
  },
  {
   "cell_type": "code",
   "execution_count": null,
   "id": "27fac0c9",
   "metadata": {},
   "outputs": [],
   "source": []
  },
  {
   "cell_type": "code",
   "execution_count": null,
   "id": "bd956dfa",
   "metadata": {},
   "outputs": [],
   "source": []
  }
 ],
 "metadata": {
  "kernelspec": {
   "display_name": "Python 3 (ipykernel)",
   "language": "python",
   "name": "python3"
  },
  "language_info": {
   "codemirror_mode": {
    "name": "ipython",
    "version": 3
   },
   "file_extension": ".py",
   "mimetype": "text/x-python",
   "name": "python",
   "nbconvert_exporter": "python",
   "pygments_lexer": "ipython3",
   "version": "3.10.9"
  }
 },
 "nbformat": 4,
 "nbformat_minor": 5
}
