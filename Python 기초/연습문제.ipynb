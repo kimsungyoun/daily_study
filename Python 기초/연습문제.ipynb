{
 "cells": [
  {
   "cell_type": "markdown",
   "id": "40b6719a",
   "metadata": {},
   "source": [
    "# 파이썬 반복문"
   ]
  },
  {
   "cell_type": "code",
   "execution_count": null,
   "id": "6d99e9c7",
   "metadata": {},
   "outputs": [],
   "source": [
    "fruit = [\"사과\",\"귤\",\"수박\"]\n",
    "for a in fruit:\n",
    "    print(a)"
   ]
  },
  {
   "cell_type": "code",
   "execution_count": null,
   "id": "ecf78fde",
   "metadata": {},
   "outputs": [],
   "source": [
    "for a in range(1,4):\n",
    "    print(a*10)"
   ]
  },
  {
   "cell_type": "code",
   "execution_count": null,
   "id": "376da8c9",
   "metadata": {},
   "outputs": [],
   "source": [
    "nums = [10,20,30]\n",
    "for a in nums:\n",
    "    print(a)"
   ]
  },
  {
   "cell_type": "code",
   "execution_count": null,
   "id": "bcefc306",
   "metadata": {},
   "outputs": [],
   "source": [
    "nums = [10,20,30]\n",
    "for a in nums:\n",
    "    print(a,\"\\n------\")"
   ]
  },
  {
   "cell_type": "code",
   "execution_count": null,
   "id": "0bcb7c7f",
   "metadata": {},
   "outputs": [],
   "source": [
    "list1 = [100,200,300]\n",
    "for a in list1:\n",
    "    print(a+10)"
   ]
  },
  {
   "cell_type": "code",
   "execution_count": null,
   "id": "b661fb5c",
   "metadata": {},
   "outputs": [],
   "source": [
    "list2 = [\"SK하이닉스\",\"삼성전자\",\"LG전자\"]\n",
    "\n",
    "for a in list2:\n",
    "    print(len(a))"
   ]
  },
  {
   "cell_type": "code",
   "execution_count": null,
   "id": "18688968",
   "metadata": {},
   "outputs": [],
   "source": [
    "list3 = ['dog','cat','parrot']\n",
    "for a in list3:\n",
    "    print(a[0])"
   ]
  },
  {
   "cell_type": "code",
   "execution_count": null,
   "id": "26e62ff5",
   "metadata": {},
   "outputs": [],
   "source": [
    "list4 = [1,2,3]\n",
    "for i in list4:\n",
    "    print(f\"3 * {i} = {i*3}\")"
   ]
  },
  {
   "cell_type": "code",
   "execution_count": null,
   "id": "521d5dc9",
   "metadata": {},
   "outputs": [],
   "source": [
    "list5 = [3, -20, -3, 44]\n",
    "for i in list5:\n",
    "    if i < 0:\n",
    "        print(i)"
   ]
  },
  {
   "cell_type": "code",
   "execution_count": null,
   "id": "cc106770",
   "metadata": {},
   "outputs": [],
   "source": [
    "list6 = [13,21,12,14,30,18]\n",
    "for i in list6:\n",
    "    if i < 20 and i % 3 == 0:\n",
    "        print(i)"
   ]
  },
  {
   "cell_type": "code",
   "execution_count": null,
   "id": "425a6318",
   "metadata": {},
   "outputs": [],
   "source": [
    "list7 = [\"A\",\"b\",\"c\",\"D\"]\n",
    "for i in list7:\n",
    "    if i.isupper() != True:\n",
    "        print(i)"
   ]
  },
  {
   "cell_type": "code",
   "execution_count": null,
   "id": "58320cea",
   "metadata": {},
   "outputs": [],
   "source": [
    "list8 = ['dog','cat','parrot']\n",
    "\n",
    "for i in list8:\n",
    "    print(i[0].upper() + i[1:])"
   ]
  },
  {
   "cell_type": "code",
   "execution_count": null,
   "id": "08a92512",
   "metadata": {},
   "outputs": [],
   "source": [
    "list9 = ['hello.py','ex01.py','intro.hwp']\n",
    "\n",
    "for i in list9:\n",
    "    print(i.split(\".\")[0])"
   ]
  },
  {
   "cell_type": "code",
   "execution_count": null,
   "id": "0b757f90",
   "metadata": {},
   "outputs": [],
   "source": [
    "list10 = ['intra.h','intra.c','define.h','run.py']\n",
    "for i in list10:\n",
    "    split = i.split(\".\")[1]\n",
    "    if split == 'h':\n",
    "        print(i)"
   ]
  },
  {
   "cell_type": "code",
   "execution_count": null,
   "id": "3abc6696",
   "metadata": {},
   "outputs": [],
   "source": [
    "list10 = ['intra.h','intra.c','define.h','run.py']\n",
    "for i in list10:\n",
    "    split = i.split(\".\")[1]\n",
    "    if split == 'h' or split =='c':\n",
    "        print(i)"
   ]
  },
  {
   "cell_type": "code",
   "execution_count": null,
   "id": "6d7aa754",
   "metadata": {},
   "outputs": [],
   "source": [
    "for i in range(2002, 2051,4):\n",
    "    print(i)"
   ]
  },
  {
   "cell_type": "code",
   "execution_count": null,
   "id": "85b4a2f0",
   "metadata": {},
   "outputs": [],
   "source": [
    "for i in range(1,31):\n",
    "    if i%3 ==0:\n",
    "        print(i)"
   ]
  },
  {
   "cell_type": "code",
   "execution_count": null,
   "id": "ac767dd2",
   "metadata": {},
   "outputs": [],
   "source": [
    "for i in range(1,10):\n",
    "    print(i/10)"
   ]
  },
  {
   "cell_type": "code",
   "execution_count": null,
   "id": "04a3a319",
   "metadata": {},
   "outputs": [],
   "source": [
    "for i in range(1,10):\n",
    "    print(f\"3 * {i} = {i*3}\")"
   ]
  },
  {
   "cell_type": "code",
   "execution_count": null,
   "id": "3cf18275",
   "metadata": {},
   "outputs": [],
   "source": [
    "total = 0\n",
    "for i in range(1, 11):\n",
    "    total += i\n",
    "print(total)"
   ]
  },
  {
   "cell_type": "code",
   "execution_count": null,
   "id": "14423f4d",
   "metadata": {},
   "outputs": [],
   "source": [
    "total = 0\n",
    "for i in range(1,11,2):\n",
    "    total += i\n",
    "print(total)"
   ]
  },
  {
   "cell_type": "code",
   "execution_count": null,
   "id": "815ed886",
   "metadata": {},
   "outputs": [],
   "source": [
    "total = 1 \n",
    "for i in range(1,11):\n",
    "    total *= i\n",
    "print(total)"
   ]
  },
  {
   "cell_type": "code",
   "execution_count": null,
   "id": "3f8df809",
   "metadata": {},
   "outputs": [],
   "source": [
    "my_list = [\"가\",\"나\",\"다\",\"라\"]\n",
    "for i in range(1,len(my_list)):\n",
    "    print(my_list[i-1], my_list[i])"
   ]
  },
  {
   "cell_type": "code",
   "execution_count": null,
   "id": "c27344ec",
   "metadata": {},
   "outputs": [],
   "source": [
    "my_list = [\"가\",\"나\",\"다\",\"라\"]\n",
    "for i in range(len(my_list)-1 , 0, -1):\n",
    "    print(my_list[i],my_list[i-1])"
   ]
  },
  {
   "cell_type": "code",
   "execution_count": null,
   "id": "3cc6c638",
   "metadata": {},
   "outputs": [],
   "source": [
    "my_list = [100,200,400,800]\n",
    "for i in range(1,len(my_list)):\n",
    "    print(my_list[i]-my_list[i-1])"
   ]
  },
  {
   "cell_type": "code",
   "execution_count": null,
   "id": "c6d4d7ec",
   "metadata": {},
   "outputs": [],
   "source": [
    "my_list = [100,200,400,800,1000,1300]\n",
    "\n",
    "for i in range(2, len(my_list)):\n",
    "    total = my_list[i-2]+my_list[i-1]+my_list[i]\n",
    "    avg = total / 3\n",
    "    print(avg)"
   ]
  },
  {
   "cell_type": "code",
   "execution_count": null,
   "id": "e5137812",
   "metadata": {},
   "outputs": [],
   "source": [
    "apart = [[\"101호\",\"102호\"],[\"201호\",\"202호\"],[\"301호\",\"302호\"]]\n",
    "apart"
   ]
  },
  {
   "cell_type": "code",
   "execution_count": null,
   "id": "a7a07af8",
   "metadata": {},
   "outputs": [],
   "source": [
    "stock = {\"시가\":[100,200,300],\"종가\":[80,210,330]}\n",
    "stock"
   ]
  },
  {
   "cell_type": "code",
   "execution_count": null,
   "id": "ccec7e02",
   "metadata": {
    "scrolled": true
   },
   "outputs": [],
   "source": [
    "apart=[[101,102],[201,202],[301,302]]\n",
    "for i in apart:\n",
    "    print(\"[\",i[0]//100,\"층]\")\n",
    "    for j in i:\n",
    "        print(j,\"호\")"
   ]
  },
  {
   "cell_type": "code",
   "execution_count": null,
   "id": "a52588be",
   "metadata": {},
   "outputs": [],
   "source": [
    "apart=[[101,102],[201,202],[301,302]]\n",
    "for i in apart[::-1]:\n",
    "    print(\"[\",i[0]//100,\"층]\")\n",
    "    for j in i:\n",
    "        print(j,\"호\")"
   ]
  },
  {
   "cell_type": "code",
   "execution_count": null,
   "id": "faf39d98",
   "metadata": {},
   "outputs": [],
   "source": [
    "apart=[[101,102],[201,202],[301,302]]\n",
    "for i in apart:\n",
    "    for j in i:\n",
    "        print(j,\"호\")"
   ]
  },
  {
   "cell_type": "code",
   "execution_count": null,
   "id": "265b31c2",
   "metadata": {},
   "outputs": [],
   "source": [
    "# data = [opne, high, low, close] : price information\n",
    "data = [\n",
    "    [2000,3050,2050,1980],\n",
    "    [7500,2050,2050,1980],\n",
    "    [15450,15050,15550,14900]\n",
    "]\n",
    "result = []\n",
    "\n",
    "for i in data:\n",
    "    sub = []\n",
    "    for j in i:\n",
    "        sub.append(j*1.00014)\n",
    "    result.append(sub)\n",
    "print(result)"
   ]
  },
  {
   "cell_type": "code",
   "execution_count": null,
   "id": "d2cebe66",
   "metadata": {},
   "outputs": [],
   "source": [
    "ohlc = [[\"open\",\"high\",\"low\",\"close\"],\n",
    "        [100,110,70,100],\n",
    "        [200,210,180,190],\n",
    "       [300,310,300,310]]"
   ]
  },
  {
   "cell_type": "code",
   "execution_count": null,
   "id": "e95bd782",
   "metadata": {},
   "outputs": [],
   "source": [
    "for i in ohlc[1:]:\n",
    "    print(i[3])"
   ]
  },
  {
   "cell_type": "code",
   "execution_count": null,
   "id": "d725bc11",
   "metadata": {},
   "outputs": [],
   "source": [
    "for i in ohlc[1:]:\n",
    "    if i[3]>150 : \n",
    "        print (i[3])"
   ]
  },
  {
   "cell_type": "code",
   "execution_count": null,
   "id": "e2a734c5",
   "metadata": {},
   "outputs": [],
   "source": [
    "for i in ohlc[1:]:\n",
    "    if i[0] <= i[3]:\n",
    "        print(i[3])"
   ]
  },
  {
   "cell_type": "code",
   "execution_count": null,
   "id": "a740f8e2",
   "metadata": {},
   "outputs": [],
   "source": [
    "volatility = []\n",
    "for i in ohlc[1:]:\n",
    "    volatility.append(i[1]-i[2])\n",
    "print(volatility)"
   ]
  },
  {
   "cell_type": "code",
   "execution_count": null,
   "id": "02087dc3",
   "metadata": {},
   "outputs": [],
   "source": [
    "for i in ohlc[1:]:\n",
    "    if i[3] > i[0]:\n",
    "        print(i[1]-i[2])"
   ]
  },
  {
   "cell_type": "code",
   "execution_count": null,
   "id": "2111ff17",
   "metadata": {},
   "outputs": [],
   "source": [
    "money = 0\n",
    "for i in ohlc[1:]:\n",
    "    money += i[0]-i[3]\n",
    "print(money)"
   ]
  },
  {
   "cell_type": "code",
   "execution_count": null,
   "id": "55c54d49",
   "metadata": {},
   "outputs": [],
   "source": [
    "def print_coin():\n",
    "    print(\"비트코인\")"
   ]
  },
  {
   "cell_type": "code",
   "execution_count": null,
   "id": "42a074cc",
   "metadata": {},
   "outputs": [],
   "source": [
    "print_coin()"
   ]
  },
  {
   "cell_type": "code",
   "execution_count": null,
   "id": "00532835",
   "metadata": {},
   "outputs": [],
   "source": [
    "for i in range(10):\n",
    "    print_coin()"
   ]
  },
  {
   "cell_type": "code",
   "execution_count": null,
   "id": "8552254b",
   "metadata": {},
   "outputs": [],
   "source": [
    "def print_coins():\n",
    "    for i in range(10):\n",
    "        print_coin()"
   ]
  },
  {
   "cell_type": "code",
   "execution_count": null,
   "id": "85e7ff11",
   "metadata": {},
   "outputs": [],
   "source": [
    "money = {\"달러\": 1167, \n",
    "        \"엔\": 1.096, \n",
    "        \"유로\": 1268, \n",
    "        \"위안\": 171}\n",
    "num = int(input(\"금액 입력: \"))\n",
    "currency = input(\"화폐 단위: \")\n",
    "print(float(num) * money[currency], \"원\")"
   ]
  },
  {
   "cell_type": "code",
   "execution_count": null,
   "id": "c361a5c1",
   "metadata": {},
   "outputs": [],
   "source": [
    "nums = []\n",
    "for i in range(1,4):\n",
    "    number = int(input(f\"input number{i} >> \"))\n",
    "    nums.append(number)\n",
    "print(nums)    \n",
    "\n",
    "if nums[0] > nums[1] and nums[0] > nums[2]:\n",
    "    print(\"가장 큰 수 :\", nums[0])\n",
    "elif nums[1] > nums[0] and nums[1] > nums[2]:\n",
    "    print(\"가장 큰 수 :\", nums[1])\n",
    "else:\n",
    "    print(\"가장 큰 수 :\", nums[2])"
   ]
  },
  {
   "cell_type": "code",
   "execution_count": null,
   "id": "1fe38f56",
   "metadata": {},
   "outputs": [],
   "source": [
    "number = input(\"휴대전화 번호 입력(010-xxxx-xxxx) >> \")\n",
    "num = number.split(\"-\")[0]\n",
    "if num == \"011\":\n",
    "    com = \"skt\"\n",
    "elif num == \"016\":\n",
    "    com = \"kt\"\n",
    "elif num == \"019\":\n",
    "    com = \"lgu\"\n",
    "else :\n",
    "    com = \"알수 없음\"\n",
    "print(f\"당신은 {com} 사용자 입니다\")"
   ]
  },
  {
   "cell_type": "code",
   "execution_count": null,
   "id": "23633cfd",
   "metadata": {},
   "outputs": [],
   "source": [
    "number = input(\"주민등록번호 입력 >> \")\n",
    "num = number.split(\"-\")[1]\n",
    "if num[0] == \"1\" or num[0] == \"3\":\n",
    "    print(\"남자\")\n",
    "elif num[0] == \"2\" or num[0] ==\"4\":\n",
    "    print(\"여자\")\n",
    "else:\n",
    "    print(\"주민등록번호를 확인하세요\")"
   ]
  },
  {
   "cell_type": "markdown",
   "id": "fe783399",
   "metadata": {},
   "source": [
    "# 딕셔너리\n",
    "- 표현식 : dic = {\"key1\": value1, \"key2\":value2, ...}"
   ]
  },
  {
   "cell_type": "code",
   "execution_count": null,
   "id": "09eebb62",
   "metadata": {},
   "outputs": [],
   "source": [
    "scores = [8.8, 8.9, 8.7, 9.2, 9.3, 9.7, 9.9, 9.5, 7.8, 9.4]\n",
    "*valid_score, _, _ = scores\n",
    "print(valid_score)"
   ]
  },
  {
   "cell_type": "code",
   "execution_count": null,
   "id": "9e12e105",
   "metadata": {},
   "outputs": [],
   "source": [
    "scores = [8.8, 8.9, 8.7, 9.2, 9.3, 9.7, 9.9, 9.5, 7.8, 9.4]\n",
    "a, b, *valid_score = scores\n",
    "print(valid_score)"
   ]
  },
  {
   "cell_type": "code",
   "execution_count": null,
   "id": "a0afc9b2",
   "metadata": {},
   "outputs": [],
   "source": [
    "ice = {\"메로나\":1000,\"폴라포\":1200,\"빵빠레\":1800}\n",
    "print(ice)"
   ]
  },
  {
   "cell_type": "code",
   "execution_count": null,
   "id": "d78073fe",
   "metadata": {},
   "outputs": [],
   "source": [
    "ice[\"죠스바\"] = 1200\n",
    "ice[\"월드콘\"] = 1500\n",
    "print(ice)"
   ]
  },
  {
   "cell_type": "code",
   "execution_count": null,
   "id": "3359c753",
   "metadata": {},
   "outputs": [],
   "source": [
    "print(ice[\"메로나\"])"
   ]
  },
  {
   "cell_type": "code",
   "execution_count": null,
   "id": "eaf400b0",
   "metadata": {},
   "outputs": [],
   "source": [
    "del ice[\"메로나\"]\n",
    "print(ice)"
   ]
  },
  {
   "cell_type": "code",
   "execution_count": null,
   "id": "4e773b08",
   "metadata": {},
   "outputs": [],
   "source": [
    "inventory = {\"메로나\":[300,20],\n",
    "             \"비비빅\":[400,3],\n",
    "             \"죠스바\":[250, 100]}\n",
    "print(inventory)"
   ]
  },
  {
   "cell_type": "code",
   "execution_count": null,
   "id": "b8288cf3",
   "metadata": {},
   "outputs": [],
   "source": [
    "print(inventory[\"메로나\"][0],\"원\")"
   ]
  },
  {
   "cell_type": "code",
   "execution_count": null,
   "id": "3b55b1c5",
   "metadata": {},
   "outputs": [],
   "source": [
    "print(inventory[\"메로나\"][1],\"개\")"
   ]
  },
  {
   "cell_type": "code",
   "execution_count": null,
   "id": "f766ed21",
   "metadata": {},
   "outputs": [],
   "source": [
    "inventory[\"월드콘\"]=[500,7]\n",
    "print(inventory)"
   ]
  },
  {
   "cell_type": "code",
   "execution_count": null,
   "id": "636f984b",
   "metadata": {},
   "outputs": [],
   "source": [
    "icecream = {'탱크보이': 1200, \n",
    "            '폴라포': 1200, \n",
    "            '빵빠레': 1800, \n",
    "            '월드콘': 1500, \n",
    "            '메로나': 1000}"
   ]
  },
  {
   "cell_type": "code",
   "execution_count": null,
   "id": "3c63bbbd",
   "metadata": {},
   "outputs": [],
   "source": [
    "ice = list(icecream.keys())\n",
    "print(ice)"
   ]
  },
  {
   "cell_type": "code",
   "execution_count": null,
   "id": "542f9849",
   "metadata": {},
   "outputs": [],
   "source": [
    "price = list(icecream.values())\n",
    "print(price)"
   ]
  },
  {
   "cell_type": "code",
   "execution_count": null,
   "id": "4b26c642",
   "metadata": {},
   "outputs": [],
   "source": [
    "print(sum(price))"
   ]
  },
  {
   "cell_type": "code",
   "execution_count": null,
   "id": "2d35236f",
   "metadata": {},
   "outputs": [],
   "source": [
    "new_product = {'팥빙수':2700,'아맛나':1000}\n",
    "icecream.update(new_product)\n",
    "icecream"
   ]
  },
  {
   "cell_type": "code",
   "execution_count": null,
   "id": "d975c80c",
   "metadata": {},
   "outputs": [],
   "source": [
    "date = ['09/05','09/06','09/07','09/08','09/09']\n",
    "close_price = [10500, 10300, 10100, 10800, 11000]\n",
    "\n",
    "close_table = dict(zip(date,close_price))\n",
    "print(close_table)"
   ]
  },
  {
   "cell_type": "code",
   "execution_count": null,
   "id": "97637c9e",
   "metadata": {},
   "outputs": [],
   "source": [
    "def solution(serial):\n",
    "    answer = [None]*4\n",
    "    \n",
    "    ss = serial[:2]\n",
    "    op = serial[2:4]\n",
    "    team_num = serial[4:6]\n",
    "    valid = serial[6:]\n",
    "    \n",
    "    if ss == \"01\":\n",
    "        answer[0] = \"male\"\n",
    "    else :\n",
    "        answer[0] = \"female\"\n",
    "    \n",
    "    if op == \"10\":\n",
    "        answer[1] = \"operation\"\n",
    "    elif op == \"11\":\n",
    "        answer[1] = \"sales\"\n",
    "    elif op == \"12\":\n",
    "        answer[1] = \"develop\"\n",
    "    elif op == \"13\":\n",
    "        answer[1] = \"finance\"\n",
    "    elif op == \"14\":\n",
    "        answer[1] = \"law\"\n",
    "    elif op == \"15\":\n",
    "        answer[1] = \"research\"\n",
    "        \n",
    "    answer[2] = f\"{int(team_num)}team\"\n",
    "    \n",
    "    num = 0 \n",
    "    for i in range(len(serial[:6])):\n",
    "        num += int(serial[i])\n",
    "    \n",
    "    if num % 13 == int(valid):\n",
    "        valid = \"valid\"\n",
    "    else :\n",
    "        valid = \"invalid\"\n",
    "        \n",
    "    answer[3] = valid\n",
    "    answer = '/'.join(answer)\n",
    "    \n",
    "    return answer"
   ]
  },
  {
   "cell_type": "code",
   "execution_count": null,
   "id": "047e21b5",
   "metadata": {},
   "outputs": [],
   "source": [
    "solution(\"01100103\")"
   ]
  },
  {
   "cell_type": "code",
   "execution_count": null,
   "id": "2a1d7ab9",
   "metadata": {},
   "outputs": [],
   "source": [
    "solution(\"02131003\")"
   ]
  },
  {
   "cell_type": "code",
   "execution_count": null,
   "id": "4f60fd7a",
   "metadata": {},
   "outputs": [],
   "source": [
    "def solution(num_list):\n",
    "    # 크기를 할당해야지 값을 대입할 수 있음\n",
    "    answer = [None]*len(num_list)\n",
    "    \n",
    "    index = 0\n",
    "    # if num_list[o] = 32\n",
    "    for i in num_list:\n",
    "        # i = 32\n",
    "        for j in range(2, i-1):\n",
    "            # j = 2 ~31의 값으로 나눌때 나머지가 0이 되는지 확인 -> 소수인지 아닌지 확인\n",
    "            # 아닌 경우 False 값 반환\n",
    "            if i % j == 0 :\n",
    "                answer[index] = False\n",
    "                break\n",
    "        # 소수인 경우 True 값 반환\n",
    "        if answer[index] == None:\n",
    "            answer[index] = True\n",
    "        # num_list 다음 인덱스 값으로 이동 \n",
    "        index += 1\n",
    "    \n",
    "    return answer"
   ]
  },
  {
   "cell_type": "code",
   "execution_count": null,
   "id": "ad689379",
   "metadata": {},
   "outputs": [],
   "source": [
    "def solution(num_list):\n",
    "    answer = []\n",
    "    \n",
    "    for i in num_list:\n",
    "        # answer 리스트의 인덱스 0에서 부터 시작하기 위해서\n",
    "        index = len(answer)\n",
    "        for j in range(2, i-1):\n",
    "            if i % j == 0:\n",
    "                answer.append(False)\n",
    "                break\n",
    "        \n",
    "        if len(answer) == index:\n",
    "            answer.append(True)\n",
    "            \n",
    "    return answer"
   ]
  },
  {
   "cell_type": "code",
   "execution_count": null,
   "id": "d54511b2",
   "metadata": {},
   "outputs": [],
   "source": [
    "s = [2, 3, 4, 5, 6, 7, 8, 9]\n",
    "solution(s)"
   ]
  },
  {
   "cell_type": "code",
   "execution_count": null,
   "id": "f150592b",
   "metadata": {},
   "outputs": [],
   "source": [
    "def solution(text, anagram, sw):\n",
    "    answer = [None]*len(text)\n",
    "        \n",
    "    if sw == True:\n",
    "        for i in range(len(anagram)) :\n",
    "            answer[anagram[i]] = text[i]                \n",
    "    else:\n",
    "        for i in anagram :\n",
    "            answer[i] = text[anagram[i]]\n",
    "            \n",
    "    return ''.join(answer)"
   ]
  },
  {
   "cell_type": "code",
   "execution_count": null,
   "id": "3da53d9d",
   "metadata": {},
   "outputs": [],
   "source": [
    "s = \"Hello\"\n",
    "anagram = [4, 2, 0, 1, 3]\n",
    "solution(s, anagram, \"sw\")"
   ]
  },
  {
   "cell_type": "code",
   "execution_count": 5,
   "id": "b626345d",
   "metadata": {},
   "outputs": [],
   "source": [
    "def game(n, board, position):\n",
    "    # 보드 확장\n",
    "    for b in board:\n",
    "        b.insert(0, 0)\n",
    "        b.append(0)\n",
    "    board.insert(0, [0]*len(board[0]))\n",
    "    board.append([0]*len(board[0]))\n",
    "    \n",
    "    answer = []\n",
    "    for p in position:\n",
    "        # 보드 확장으로 인해 1씩 증가\n",
    "        x, y = p[0] + 1, p[1] + 1\n",
    "        t = 0\n",
    "        \n",
    "        for i in range(-1, 2):\n",
    "            for j in range(-1, 2):\n",
    "                t += board[x + i][y + j]\n",
    "                \n",
    "        if board[x][y]:\n",
    "            if t <= 3 or 6 <= t:\n",
    "                answer.append(0)\n",
    "            else:\n",
    "                answer.append(1)\n",
    "        else:\n",
    "            if t == 2:\n",
    "                answer.append(1)\n",
    "            else:\n",
    "                answer.append(0)\n",
    "    \n",
    "    return answer"
   ]
  }
 ],
 "metadata": {
  "kernelspec": {
   "display_name": "Python 3 (ipykernel)",
   "language": "python",
   "name": "python3"
  },
  "language_info": {
   "codemirror_mode": {
    "name": "ipython",
    "version": 3
   },
   "file_extension": ".py",
   "mimetype": "text/x-python",
   "name": "python",
   "nbconvert_exporter": "python",
   "pygments_lexer": "ipython3",
   "version": "3.10.9"
  }
 },
 "nbformat": 4,
 "nbformat_minor": 5
}
