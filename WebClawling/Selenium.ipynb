{
 "cells": [
  {
   "cell_type": "markdown",
   "id": "81c2fa63",
   "metadata": {},
   "source": [
    "## Selenium 설치"
   ]
  },
  {
   "cell_type": "code",
   "execution_count": null,
   "id": "d812cb32",
   "metadata": {
    "scrolled": true
   },
   "outputs": [],
   "source": [
    "# !pip install selenium"
   ]
  },
  {
   "cell_type": "code",
   "execution_count": 2,
   "id": "b8c79f85",
   "metadata": {},
   "outputs": [],
   "source": [
    "# 컴퓨터용 브라우저 할당\n",
    "from selenium import webdriver as wb\n",
    "\n",
    "# 컴퓨터용 키보드 할당 : 컴퓨터 전용 키보드 선사\n",
    "from selenium.webdriver.common.keys import Keys\n",
    "\n",
    "from selenium.webdriver.common.by import By"
   ]
  },
  {
   "cell_type": "code",
   "execution_count": null,
   "id": "088af4b5",
   "metadata": {},
   "outputs": [],
   "source": [
    "# 크롬창 열기\n",
    "driver = wb.Chrome()"
   ]
  },
  {
   "cell_type": "code",
   "execution_count": null,
   "id": "31296596",
   "metadata": {},
   "outputs": [],
   "source": [
    "# 네이버 접속\n",
    "# Selenium에서는 브라우저-브라우저로 요청하기에 User-Agent는 불필요\n",
    "driver.get('https://www.naver.com')"
   ]
  },
  {
   "cell_type": "code",
   "execution_count": null,
   "id": "fcfb195e",
   "metadata": {},
   "outputs": [],
   "source": [
    "# 크롬창 닫기\n",
    "driver.close()"
   ]
  },
  {
   "cell_type": "markdown",
   "id": "33fc2e32",
   "metadata": {},
   "source": [
    "## 네이버에서 검색하기"
   ]
  },
  {
   "cell_type": "code",
   "execution_count": null,
   "id": "ee418af8",
   "metadata": {},
   "outputs": [],
   "source": [
    "driver = wb.Chrome()\n",
    "driver.get('https://www.naver.com')"
   ]
  },
  {
   "cell_type": "code",
   "execution_count": null,
   "id": "26b3440c",
   "metadata": {},
   "outputs": [],
   "source": [
    "# find_element/elements (BeautifulSoup에 select / selectone 의 개념과 비슷)\n",
    "# 재검색시 다시 경로 지정"
   ]
  },
  {
   "cell_type": "code",
   "execution_count": null,
   "id": "01ec750a",
   "metadata": {},
   "outputs": [],
   "source": [
    "# XPATH: 절대경로 (* 변경될 수 있는 경우 지정하지 않는게 좋음)\n",
    "search = driver.find_element(By.XPATH, '//*[@id=\"query\"]')\n",
    "\n",
    "# 검색창에 검색어 입력\n",
    "search.send_keys('수면')\n",
    "\n",
    "# Enter키 입력\n",
    "search.send_keys(Keys.ENTER)"
   ]
  },
  {
   "cell_type": "code",
   "execution_count": null,
   "id": "e127e26e",
   "metadata": {},
   "outputs": [],
   "source": [
    "# 검색 후 네이버 홈 페이지로 돌아가기\n",
    "# 이전 페이지로 이동\n",
    "driver.back()"
   ]
  },
  {
   "cell_type": "code",
   "execution_count": null,
   "id": "1b26ea00",
   "metadata": {},
   "outputs": [],
   "source": [
    "# 검색 버튼 클릭해서 검색하기\n",
    "search = driver.find_element(By.XPATH, '//*[@id=\"query\"]')\n",
    "\n",
    "search.send_keys('꽃가루 지수')\n",
    "\n",
    "btn = driver.find_element(By.XPATH, '//*[@id=\"search_btn\"]')\n",
    "\n",
    "btn.click()"
   ]
  },
  {
   "cell_type": "code",
   "execution_count": null,
   "id": "c91b188d",
   "metadata": {},
   "outputs": [],
   "source": [
    "# 스크롤 내리기: 크롤링 할 데이터는 body 태그내에 위치, 스크롤링을 수행하기 위해 body 태그 선택\n",
    "body = driver.find_element(By.TAG_NAME, 'body')\n",
    "body.send_keys(Keys.END)"
   ]
  },
  {
   "cell_type": "code",
   "execution_count": null,
   "id": "19797797",
   "metadata": {},
   "outputs": [],
   "source": [
    "# 인터넷 창을 종료 (브라우저만 종료: 프로세스, 메모리 등은 종료x)\n",
    "driver.close()"
   ]
  },
  {
   "cell_type": "code",
   "execution_count": null,
   "id": "ef4b9495",
   "metadata": {},
   "outputs": [],
   "source": [
    "# 인터넷 창을 종료 (완전 종료: 프로세스, 메모리 등을 전부 종료)\n",
    "driver.quit()"
   ]
  },
  {
   "cell_type": "markdown",
   "id": "5905ef98",
   "metadata": {},
   "source": [
    "## 개인 실습 01\n",
    "1. 크롬브라우저 키기\n",
    "2. 네이버로 접속\n",
    "3. 검색창을 css_selector로 잡기 - 원하는 검색어 입력(ENTER키가 아닌 아이콘 클릭)\n",
    "4. 스크롤 끝까지 내리기 \n",
    "5. 뒤로가기 버튼을 눌러 메인으로 이동\n",
    "6. 크롬창 종료(메모리 누수까지 생각할것)"
   ]
  },
  {
   "cell_type": "code",
   "execution_count": null,
   "id": "a06b092d",
   "metadata": {},
   "outputs": [],
   "source": [
    "driver = wb.Chrome()\n",
    "driver.get('https://www.naver.com')"
   ]
  },
  {
   "cell_type": "code",
   "execution_count": null,
   "id": "1c41b1a8",
   "metadata": {},
   "outputs": [],
   "source": [
    "search = driver.find_element(By.CSS_SELECTOR, '.input_text') #(By.CSS_SELECTOR, '#query') \n",
    "search.send_keys('웹 크롤링')\n",
    "\n",
    "search_btn = driver.find_element(By.CSS_SELECTOR, '.btn_submit') \n",
    "search_btn.click()"
   ]
  },
  {
   "cell_type": "code",
   "execution_count": null,
   "id": "a1a2c759",
   "metadata": {},
   "outputs": [],
   "source": [
    "body = driver.find_element(By.CSS_SELECTOR, 'body') #By.TAG_NAME,'body'\n",
    "body.send_keys(Keys.END)"
   ]
  },
  {
   "cell_type": "code",
   "execution_count": null,
   "id": "e800fe6e",
   "metadata": {},
   "outputs": [],
   "source": [
    "driver.back()"
   ]
  },
  {
   "cell_type": "code",
   "execution_count": null,
   "id": "a6519964",
   "metadata": {},
   "outputs": [],
   "source": [
    "driver.quit()"
   ]
  },
  {
   "cell_type": "markdown",
   "id": "db56309a",
   "metadata": {},
   "source": [
    "## 개인실습-02\n",
    "1. 크롬 브라우저를 킴\n",
    "2. 네이버로 접속\n",
    "3. 검색창을 css_selector로 잡기 - 원하는 검색어 입력(ENTER키가 아닌 아이콘 클릭)\n",
    "4. 검색 후 이미지 탭 클릭\n",
    "5. 뒤로가기\n",
    "6. 메인에서 뉴스탭으로 이동\n",
    "7. 뒤로가기 눌러 메인으로이동\n",
    "8. 크롬창 완전 종료"
   ]
  },
  {
   "cell_type": "code",
   "execution_count": null,
   "id": "25014461",
   "metadata": {},
   "outputs": [],
   "source": [
    "driver = wb.Chrome()"
   ]
  },
  {
   "cell_type": "code",
   "execution_count": null,
   "id": "7e1c00ec",
   "metadata": {},
   "outputs": [],
   "source": [
    "driver.get('https://www.naver.com')"
   ]
  },
  {
   "cell_type": "code",
   "execution_count": null,
   "id": "2fc455f5",
   "metadata": {},
   "outputs": [],
   "source": [
    "search = driver.find_element(By.CSS_SELECTOR, '#query')\n",
    "search.send_keys('웹')\n",
    "search.send_keys(Keys.ENTER)"
   ]
  },
  {
   "cell_type": "code",
   "execution_count": null,
   "id": "407c59d4",
   "metadata": {},
   "outputs": [],
   "source": [
    "view_tab1 = driver.find_element(By.CSS_SELECTOR,'#lnb > div.lnb_group > div > ul > li:nth-child(4) > a')\n",
    "view_tab1.click()"
   ]
  },
  {
   "cell_type": "code",
   "execution_count": null,
   "id": "3c41ca3f",
   "metadata": {},
   "outputs": [],
   "source": [
    "view_tab2 = driver.find_element(By.XPATH,'//*[@id=\"lnb\"]/div[1]/div/ul/li[3]/a')\n",
    "view_tab2.click()"
   ]
  },
  {
   "cell_type": "code",
   "execution_count": null,
   "id": "ec2a3068",
   "metadata": {},
   "outputs": [],
   "source": [
    "driver.back()"
   ]
  },
  {
   "cell_type": "code",
   "execution_count": null,
   "id": "41a0ef8c",
   "metadata": {},
   "outputs": [],
   "source": [
    "news_tab1 = driver.find_element(By.CSS_SELECTOR,'#lnb > div.lnb_group > div > ul > li:nth-child(9) > a')\n",
    "news_tab1.click()"
   ]
  },
  {
   "cell_type": "code",
   "execution_count": null,
   "id": "08c85cee",
   "metadata": {},
   "outputs": [],
   "source": [
    "news_tab2 = driver.find_element(By.XPATH,'//*[@id=\"lnb\"]/div[1]/div/ul/li[9]/a')\n",
    "news_tab2.click()"
   ]
  },
  {
   "cell_type": "code",
   "execution_count": null,
   "id": "3f3dc84e",
   "metadata": {},
   "outputs": [],
   "source": [
    "driver.back()"
   ]
  },
  {
   "cell_type": "code",
   "execution_count": null,
   "id": "6f1a31ea",
   "metadata": {},
   "outputs": [],
   "source": [
    "driver.quit()"
   ]
  },
  {
   "cell_type": "markdown",
   "id": "9017fbd8",
   "metadata": {},
   "source": [
    "## GMarket 실습 (상품명|상품가격)"
   ]
  },
  {
   "cell_type": "code",
   "execution_count": null,
   "id": "1b5cdadc",
   "metadata": {},
   "outputs": [],
   "source": [
    "# 진행상황을 프로그래스 바로 시작화 해주는 라이브러리\n",
    "from tqdm import tqdm\n",
    "# 지연시간 없이 크롤링을 진행한 경우 봇으로 인식되어 차단당할 수 있음(데이터 로딩시간 필요)\n",
    "import time"
   ]
  },
  {
   "cell_type": "code",
   "execution_count": 3,
   "id": "08bee4a8",
   "metadata": {},
   "outputs": [],
   "source": [
    "driver = wb.Chrome()\n",
    "driver.get('https://www.gmarket.co.kr/n/best')"
   ]
  },
  {
   "cell_type": "code",
   "execution_count": 4,
   "id": "214ecfb6",
   "metadata": {},
   "outputs": [],
   "source": [
    "# 웹페이지 축소시 구조가 변형될 수 있기에 윈도우 크기는 최대 크기로\n",
    "driver.maximize_window()"
   ]
  },
  {
   "cell_type": "code",
   "execution_count": 5,
   "id": "8424bf5e",
   "metadata": {},
   "outputs": [
    {
     "name": "stdout",
     "output_type": "stream",
     "text": [
      "20\n"
     ]
    }
   ],
   "source": [
    "# body = driver.find_element(By.TAG_NAME,'body')\n",
    "# body.send_keys(Keys.END)\n",
    "\n",
    "imgs = driver.find_elements(By.CLASS_NAME,'image__lazy.image__load')\n",
    "\n",
    "imgs[0].click()\n",
    "\n",
    "print(len(imgs))"
   ]
  },
  {
   "cell_type": "code",
   "execution_count": 9,
   "id": "b650525c",
   "metadata": {},
   "outputs": [
    {
     "name": "stdout",
     "output_type": "stream",
     "text": [
      "카누호환캡슐 6종 4개골라담기 /(5.7gx40캡슐)/네스프레소 호환/쿠폰가18530원\n"
     ]
    }
   ],
   "source": [
    "title = driver.find_elements(By.CLASS_NAME,'itemtit')\n",
    "for i in title:\n",
    "    print(i.text)"
   ]
  },
  {
   "cell_type": "code",
   "execution_count": 8,
   "id": "2e482276",
   "metadata": {},
   "outputs": [
    {
     "name": "stdout",
     "output_type": "stream",
     "text": [
      "23,160원\n",
      "18,530원\n"
     ]
    }
   ],
   "source": [
    "price = driver.find_elements(By.CLASS_NAME,'price_real')\n",
    "\n",
    "for i in price:\n",
    "    print(i.text)"
   ]
  },
  {
   "cell_type": "code",
   "execution_count": 10,
   "id": "59eb4016",
   "metadata": {},
   "outputs": [
    {
     "data": {
      "text/plain": [
       "'23,160원'"
      ]
     },
     "execution_count": 10,
     "metadata": {},
     "output_type": "execute_result"
    }
   ],
   "source": [
    "price = driver.find_element(By.CLASS_NAME,'price_real')\n",
    "price.text"
   ]
  },
  {
   "cell_type": "code",
   "execution_count": null,
   "id": "f123bd3d",
   "metadata": {},
   "outputs": [],
   "source": [
    "driver.back()"
   ]
  },
  {
   "cell_type": "code",
   "execution_count": null,
   "id": "05d45d4e",
   "metadata": {},
   "outputs": [],
   "source": [
    "title_List = []\n",
    "price_List = []\n",
    "\n",
    "for i in tqdm(range(10)):\n",
    "    imgs = driver.find_elements(By.CLASS_NAME, 'image__lazy.image__load')\n",
    "    imgs[i].click()\n",
    "    \n",
    "    time.sleep(2)\n",
    "    \n",
    "    title = driver.find_element(By.CLASS_NAME,'itemtit')\n",
    "    title_List.append(title.text)\n",
    "    \n",
    "    price = driver.find_element(By.CLASS_NAME,'price_real')\n",
    "    price_List.append(price.text)\n",
    "    \n",
    "    driver.back()\n",
    "    \n",
    "    time.sleep(2)"
   ]
  },
  {
   "cell_type": "code",
   "execution_count": null,
   "id": "ed1faf8b",
   "metadata": {},
   "outputs": [],
   "source": [
    "title_List"
   ]
  },
  {
   "cell_type": "code",
   "execution_count": null,
   "id": "1f9ad1ee",
   "metadata": {},
   "outputs": [],
   "source": [
    "price_List"
   ]
  },
  {
   "cell_type": "code",
   "execution_count": null,
   "id": "ae41c76c",
   "metadata": {},
   "outputs": [],
   "source": [
    "import pandas as pd"
   ]
  },
  {
   "cell_type": "code",
   "execution_count": null,
   "id": "49ec0aa3",
   "metadata": {},
   "outputs": [],
   "source": [
    "data = {'상품명':title_List,'가격':price_List}\n",
    "df = pd.DataFrame(data)\n",
    "df"
   ]
  },
  {
   "cell_type": "code",
   "execution_count": null,
   "id": "d3246c3a",
   "metadata": {},
   "outputs": [],
   "source": [
    "df.to_csv('C:/Users/user06/WebClawling/gmarket_best11.csv',encoding='euc-kr')"
   ]
  },
  {
   "cell_type": "code",
   "execution_count": null,
   "id": "9c7d54da",
   "metadata": {},
   "outputs": [],
   "source": [
    "df.to_excel('C:/Users/user06/WebClawling/gmarket_best11.xlsx',encoding='euc-kr')"
   ]
  },
  {
   "cell_type": "markdown",
   "id": "4628f366",
   "metadata": {},
   "source": [
    "## 한솥도시락 (메뉴이름|가격수집)\n",
    "1. selenium method 활용\n",
    "2. 메뉴이름, 가격 수집\n",
    "3. 더보기 자동 클릭(try/except)\n",
    "4. DataFrame"
   ]
  },
  {
   "cell_type": "code",
   "execution_count": 1,
   "id": "1a962cd9",
   "metadata": {},
   "outputs": [],
   "source": [
    "from selenium import webdriver as wb\n",
    "from selenium.webdriver.common.by import By\n",
    "from selenium.webdriver.common.keys import Keys\n",
    "from tqdm import tqdm\n",
    "\n",
    "import time\n",
    "import pandas as pd\n",
    "\n",
    "# Action Chain\n",
    "from selenium.webdriver.common.action_chains import ActionChains"
   ]
  },
  {
   "cell_type": "code",
   "execution_count": 12,
   "id": "dc16d1bd",
   "metadata": {},
   "outputs": [],
   "source": [
    "driver = wb.Chrome()\n",
    "driver.get('https://www.hsd.co.kr/')"
   ]
  },
  {
   "cell_type": "code",
   "execution_count": 13,
   "id": "4b06979c",
   "metadata": {},
   "outputs": [],
   "source": [
    "driver.maximize_window()"
   ]
  },
  {
   "cell_type": "code",
   "execution_count": 14,
   "id": "44afb715",
   "metadata": {},
   "outputs": [],
   "source": [
    "menu = driver.find_element(By.XPATH,'//*[@id=\"gnb\"]/div[2]/ul/li[3]/p/a')\n",
    "all_menu = driver.find_element(By.XPATH,'//*[@id=\"gnb\"]/div[2]/ul/li[3]/div/ul/li[1]/a')\n",
    "\n",
    "# 동작들을 연결해주는 명령어\n",
    "action = ActionChains(driver)\n",
    "\n",
    "# driver -> menu 행위 변경\n",
    "action.move_to_element(menu)\n",
    "\n",
    "# 전체 메뉴 클릭\n",
    "action.click(all_menu)\n",
    "time.sleep(1)\n",
    "\n",
    "# 해당작업 수행 \n",
    "action.perform()"
   ]
  },
  {
   "cell_type": "code",
   "execution_count": null,
   "id": "ab548d23",
   "metadata": {},
   "outputs": [],
   "source": [
    "# 선생님 코드\n",
    "try:\n",
    "    while True:\n",
    "        btn = driver.find_element(By.XPATH,'//*[@id=\"btn_more\"]/span/a')\n",
    "        btn.click()\n",
    "        time.sleep(2)\n",
    "\n",
    "except:\n",
    "    print('더보기 클릭 완료, 계속 진행합니다.')\n",
    "    \n",
    "title = driver.find_elements(By.CSS_SELECTOR, 'h4.h.fz_03')\n",
    "price = driver.find_elements(By.CSS_SELECTOR, '.item-price')\n",
    "\n",
    "title_list=[]\n",
    "price_list= []\n",
    "\n",
    "for i in tqdm(range(len(title))):\n",
    "    title_list.append(title[i].text)\n",
    "    price_list.append(price[i].text)\n",
    "    \n",
    "driver.quit()\n",
    "print('크롤링 완료')"
   ]
  },
  {
   "cell_type": "code",
   "execution_count": 15,
   "id": "42f9b8d6",
   "metadata": {},
   "outputs": [
    {
     "name": "stderr",
     "output_type": "stream",
     "text": [
      "100%|██████████████████████████████████████████████████████████████████████████████████| 95/95 [00:01<00:00, 66.58it/s]\n"
     ]
    },
    {
     "name": "stdout",
     "output_type": "stream",
     "text": [
      "크롤링 완료\n"
     ]
    }
   ],
   "source": [
    "# 더보기 전부 클릭해서 메뉴 확장하기\n",
    "while True:\n",
    "    try:\n",
    "        btn = driver.find_element(By.XPATH,'//*[@id=\"btn_more\"]/span/a')\n",
    "        btn.click()\n",
    "        \n",
    "        #if btn.text == '더 보기':\n",
    "        #    btn.click()\n",
    "        #else:\n",
    "        #    break\n",
    "    except:\n",
    "        print('더보기 클릭 완료')\n",
    "        break\n",
    "        \n",
    "title = driver.find_elements(By.CSS_SELECTOR, 'h4.h.fz_03')\n",
    "price = driver.find_elements(By.CSS_SELECTOR, '.item-price')\n",
    "\n",
    "title_list=[]\n",
    "price_list= []\n",
    "\n",
    "for i in tqdm(range(len(title))):\n",
    "    title_list.append(title[i].text)\n",
    "    price_list.append(price[i].text)\n",
    "    \n",
    "driver.quit()\n",
    "print('크롤링 완료')"
   ]
  },
  {
   "cell_type": "code",
   "execution_count": 21,
   "id": "5752be2a",
   "metadata": {
    "scrolled": false
   },
   "outputs": [
    {
     "data": {
      "text/html": [
       "<div>\n",
       "<style scoped>\n",
       "    .dataframe tbody tr th:only-of-type {\n",
       "        vertical-align: middle;\n",
       "    }\n",
       "\n",
       "    .dataframe tbody tr th {\n",
       "        vertical-align: top;\n",
       "    }\n",
       "\n",
       "    .dataframe thead th {\n",
       "        text-align: right;\n",
       "    }\n",
       "</style>\n",
       "<table border=\"1\" class=\"dataframe\">\n",
       "  <thead>\n",
       "    <tr style=\"text-align: right;\">\n",
       "      <th></th>\n",
       "      <th>음식명</th>\n",
       "      <th>가격</th>\n",
       "    </tr>\n",
       "  </thead>\n",
       "  <tbody>\n",
       "    <tr>\n",
       "      <th>1</th>\n",
       "      <td>송정식 떡갈비 도시락</td>\n",
       "      <td>6,900원</td>\n",
       "    </tr>\n",
       "    <tr>\n",
       "      <th>2</th>\n",
       "      <td>카츠카츠 도시락</td>\n",
       "      <td>4,800원</td>\n",
       "    </tr>\n",
       "    <tr>\n",
       "      <th>3</th>\n",
       "      <td>아보카도 훈제 닭가슴살 명란 비빔밥</td>\n",
       "      <td>6,500원</td>\n",
       "    </tr>\n",
       "    <tr>\n",
       "      <th>4</th>\n",
       "      <td>아보카도 소불고기 명란 비빔밥</td>\n",
       "      <td>6,500원</td>\n",
       "    </tr>\n",
       "    <tr>\n",
       "      <th>5</th>\n",
       "      <td>새후마요</td>\n",
       "      <td>4,500원</td>\n",
       "    </tr>\n",
       "    <tr>\n",
       "      <th>...</th>\n",
       "      <td>...</td>\n",
       "      <td>...</td>\n",
       "    </tr>\n",
       "    <tr>\n",
       "      <th>91</th>\n",
       "      <td>무말랭이 무침</td>\n",
       "      <td>500원</td>\n",
       "    </tr>\n",
       "    <tr>\n",
       "      <th>92</th>\n",
       "      <td>한솥밥</td>\n",
       "      <td>1,000원</td>\n",
       "    </tr>\n",
       "    <tr>\n",
       "      <th>93</th>\n",
       "      <td>현미밥</td>\n",
       "      <td>1,700원</td>\n",
       "    </tr>\n",
       "    <tr>\n",
       "      <th>94</th>\n",
       "      <td>리얼 티라미수 찰떡</td>\n",
       "      <td>1,700원</td>\n",
       "    </tr>\n",
       "    <tr>\n",
       "      <th>95</th>\n",
       "      <td>리얼꿀 미니호떡</td>\n",
       "      <td>2,200원</td>\n",
       "    </tr>\n",
       "  </tbody>\n",
       "</table>\n",
       "<p>95 rows × 2 columns</p>\n",
       "</div>"
      ],
      "text/plain": [
       "                    음식명      가격\n",
       "1           송정식 떡갈비 도시락  6,900원\n",
       "2              카츠카츠 도시락  4,800원\n",
       "3   아보카도 훈제 닭가슴살 명란 비빔밥  6,500원\n",
       "4      아보카도 소불고기 명란 비빔밥  6,500원\n",
       "5                  새후마요  4,500원\n",
       "..                  ...     ...\n",
       "91              무말랭이 무침    500원\n",
       "92                  한솥밥  1,000원\n",
       "93                  현미밥  1,700원\n",
       "94           리얼 티라미수 찰떡  1,700원\n",
       "95             리얼꿀 미니호떡  2,200원\n",
       "\n",
       "[95 rows x 2 columns]"
      ]
     },
     "execution_count": 21,
     "metadata": {},
     "output_type": "execute_result"
    }
   ],
   "source": [
    "data = {'음식명':title_list, '가격':price_list}\n",
    "index = []\n",
    "for i in range(len(title_list)):\n",
    "    index.append(i+1)\n",
    "\n",
    "df = pd.DataFrame(data, index=index)\n",
    "df"
   ]
  },
  {
   "cell_type": "code",
   "execution_count": 22,
   "id": "0e022d56",
   "metadata": {},
   "outputs": [
    {
     "data": {
      "text/html": [
       "<div>\n",
       "<style scoped>\n",
       "    .dataframe tbody tr th:only-of-type {\n",
       "        vertical-align: middle;\n",
       "    }\n",
       "\n",
       "    .dataframe tbody tr th {\n",
       "        vertical-align: top;\n",
       "    }\n",
       "\n",
       "    .dataframe thead th {\n",
       "        text-align: right;\n",
       "    }\n",
       "</style>\n",
       "<table border=\"1\" class=\"dataframe\">\n",
       "  <thead>\n",
       "    <tr style=\"text-align: right;\">\n",
       "      <th></th>\n",
       "      <th>음식명</th>\n",
       "      <th>가격</th>\n",
       "    </tr>\n",
       "  </thead>\n",
       "  <tbody>\n",
       "    <tr>\n",
       "      <th>1</th>\n",
       "      <td>송정식 떡갈비 도시락</td>\n",
       "      <td>6,900원</td>\n",
       "    </tr>\n",
       "    <tr>\n",
       "      <th>2</th>\n",
       "      <td>카츠카츠 도시락</td>\n",
       "      <td>4,800원</td>\n",
       "    </tr>\n",
       "    <tr>\n",
       "      <th>3</th>\n",
       "      <td>아보카도 훈제 닭가슴살 명란 비빔밥</td>\n",
       "      <td>6,500원</td>\n",
       "    </tr>\n",
       "    <tr>\n",
       "      <th>4</th>\n",
       "      <td>아보카도 소불고기 명란 비빔밥</td>\n",
       "      <td>6,500원</td>\n",
       "    </tr>\n",
       "    <tr>\n",
       "      <th>5</th>\n",
       "      <td>새후마요</td>\n",
       "      <td>4,500원</td>\n",
       "    </tr>\n",
       "    <tr>\n",
       "      <th>...</th>\n",
       "      <td>...</td>\n",
       "      <td>...</td>\n",
       "    </tr>\n",
       "    <tr>\n",
       "      <th>91</th>\n",
       "      <td>무말랭이 무침</td>\n",
       "      <td>500원</td>\n",
       "    </tr>\n",
       "    <tr>\n",
       "      <th>92</th>\n",
       "      <td>한솥밥</td>\n",
       "      <td>1,000원</td>\n",
       "    </tr>\n",
       "    <tr>\n",
       "      <th>93</th>\n",
       "      <td>현미밥</td>\n",
       "      <td>1,700원</td>\n",
       "    </tr>\n",
       "    <tr>\n",
       "      <th>94</th>\n",
       "      <td>리얼 티라미수 찰떡</td>\n",
       "      <td>1,700원</td>\n",
       "    </tr>\n",
       "    <tr>\n",
       "      <th>95</th>\n",
       "      <td>리얼꿀 미니호떡</td>\n",
       "      <td>2,200원</td>\n",
       "    </tr>\n",
       "  </tbody>\n",
       "</table>\n",
       "<p>95 rows × 2 columns</p>\n",
       "</div>"
      ],
      "text/plain": [
       "                    음식명      가격\n",
       "1           송정식 떡갈비 도시락  6,900원\n",
       "2              카츠카츠 도시락  4,800원\n",
       "3   아보카도 훈제 닭가슴살 명란 비빔밥  6,500원\n",
       "4      아보카도 소불고기 명란 비빔밥  6,500원\n",
       "5                  새후마요  4,500원\n",
       "..                  ...     ...\n",
       "91              무말랭이 무침    500원\n",
       "92                  한솥밥  1,000원\n",
       "93                  현미밥  1,700원\n",
       "94           리얼 티라미수 찰떡  1,700원\n",
       "95             리얼꿀 미니호떡  2,200원\n",
       "\n",
       "[95 rows x 2 columns]"
      ]
     },
     "execution_count": 22,
     "metadata": {},
     "output_type": "execute_result"
    }
   ],
   "source": [
    "#  중복값 확인\n",
    "df.drop_duplicates()\n",
    "df"
   ]
  },
  {
   "cell_type": "code",
   "execution_count": 24,
   "id": "c8b3d372",
   "metadata": {},
   "outputs": [],
   "source": [
    "df.to_excel('C:/Users/user06/WebClawling/hansot.xlsx',encoding='euc-kr')"
   ]
  },
  {
   "cell_type": "code",
   "execution_count": null,
   "id": "27192d6e",
   "metadata": {},
   "outputs": [],
   "source": []
  },
  {
   "cell_type": "code",
   "execution_count": null,
   "id": "76255316",
   "metadata": {},
   "outputs": [],
   "source": []
  },
  {
   "cell_type": "code",
   "execution_count": null,
   "id": "a97facda",
   "metadata": {},
   "outputs": [],
   "source": []
  },
  {
   "cell_type": "code",
   "execution_count": null,
   "id": "97994e55",
   "metadata": {},
   "outputs": [],
   "source": []
  },
  {
   "cell_type": "code",
   "execution_count": null,
   "id": "73e9686a",
   "metadata": {},
   "outputs": [],
   "source": []
  },
  {
   "cell_type": "code",
   "execution_count": null,
   "id": "40a96685",
   "metadata": {},
   "outputs": [],
   "source": []
  }
 ],
 "metadata": {
  "kernelspec": {
   "display_name": "Python 3 (ipykernel)",
   "language": "python",
   "name": "python3"
  },
  "language_info": {
   "codemirror_mode": {
    "name": "ipython",
    "version": 3
   },
   "file_extension": ".py",
   "mimetype": "text/x-python",
   "name": "python",
   "nbconvert_exporter": "python",
   "pygments_lexer": "ipython3",
   "version": "3.10.9"
  }
 },
 "nbformat": 4,
 "nbformat_minor": 5
}
