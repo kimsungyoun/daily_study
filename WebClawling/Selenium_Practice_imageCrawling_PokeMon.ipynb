{
 "cells": [
  {
   "cell_type": "markdown",
   "id": "fe19af0f",
   "metadata": {},
   "source": [
    "포켓몬 이미지 수집"
   ]
  },
  {
   "cell_type": "code",
   "execution_count": 3,
   "id": "1742a5e1",
   "metadata": {},
   "outputs": [],
   "source": [
    "from selenium import webdriver as wb\n",
    "from selenium.webdriver.common.keys import Keys\n",
    "from selenium.webdriver.common.by import By\n",
    "\n",
    "from tqdm import tqdm\n",
    "\n",
    "import time\n",
    "\n",
    "import pandas as pd\n",
    "\n",
    "# OS : 운영체제와 상호작용하게 해주는 라이브러리(파일, 폴더 생성/삭제등 파일관리에 중점을 두고 실습)\n",
    "import os\n",
    "\n",
    "# 인터넷에서 파일을 다운로드 하는 함수\n",
    "# url과 파일명 지정후 로컬 파일에 저장해주는 라이브러리\n",
    "from urllib.request import urlretrieve"
   ]
  },
  {
   "cell_type": "code",
   "execution_count": 4,
   "id": "5af9079b",
   "metadata": {},
   "outputs": [],
   "source": [
    "driver = wb.Chrome()\n",
    "driver.get('https://pokemonkorea.co.kr/pokedex')\n",
    "driver.maximize_window()"
   ]
  },
  {
   "cell_type": "code",
   "execution_count": 6,
   "id": "5df5b75a",
   "metadata": {},
   "outputs": [],
   "source": [
    "body = driver.find_element(By.TAG_NAME, 'body')"
   ]
  },
  {
   "cell_type": "code",
   "execution_count": 9,
   "id": "bfce6156",
   "metadata": {},
   "outputs": [
    {
     "name": "stderr",
     "output_type": "stream",
     "text": [
      "100%|██████████████████████████████████████████████████████████████████████████████████| 10/10 [00:20<00:00,  2.06s/it]\n"
     ]
    }
   ],
   "source": [
    "for i in tqdm(range(30)):\n",
    "    body = driver.find_element(By.TAG_NAME, 'body')\n",
    "    body.send_keys(Keys.END)\n",
    "    time.sleep(2)"
   ]
  },
  {
   "cell_type": "code",
   "execution_count": 12,
   "id": "d82cfc9b",
   "metadata": {},
   "outputs": [
    {
     "data": {
      "text/plain": [
       "'https://data1.pokemonkorea.co.kr/newdata/pokedex/mid/000101.png'"
      ]
     },
     "execution_count": 12,
     "metadata": {},
     "output_type": "execute_result"
    }
   ],
   "source": [
    "image_url = driver.find_elements(By.CSS_SELECTOR, 'img.img-fluid')\n",
    "\n",
    "# src 요소 가져오기\n",
    "image_url[0].get_attribute('src')"
   ]
  },
  {
   "cell_type": "code",
   "execution_count": 13,
   "id": "f47a705a",
   "metadata": {},
   "outputs": [],
   "source": [
    "src_list=[]\n",
    "for i in image_url:\n",
    "    src_list.append(i.get_attribute('src'))"
   ]
  },
  {
   "cell_type": "code",
   "execution_count": 15,
   "id": "6c707e5e",
   "metadata": {},
   "outputs": [
    {
     "data": {
      "text/plain": [
       "252"
      ]
     },
     "execution_count": 15,
     "metadata": {},
     "output_type": "execute_result"
    }
   ],
   "source": [
    "len(src_list)"
   ]
  },
  {
   "cell_type": "code",
   "execution_count": 17,
   "id": "0defbf44",
   "metadata": {},
   "outputs": [],
   "source": [
    "# 폴더 생성\n",
    "\n",
    "# 경로상에 폴더가 없다면 폴더 생성\n",
    "if not os.path.isdir('C:/Users/user06/Desktop/Pokemon'):\n",
    "    # 폴더 생성\n",
    "    os.mkdir('C:/Users/user06/Desktop/Pokemon')"
   ]
  },
  {
   "cell_type": "code",
   "execution_count": 18,
   "id": "c8a8bb3a",
   "metadata": {},
   "outputs": [],
   "source": [
    "cnt = 1\n",
    "\n",
    "for i in src_list:\n",
    "    # url 주소를 이미지 파일로 변환\n",
    "    # 파일주소 + 파일명 + 확장자 선언\n",
    "    urlretrieve(i, f'C:/Users/user06/Desktop/Pokemon/{str(cnt)}.jpg')\n",
    "    cnt += 1"
   ]
  },
  {
   "cell_type": "code",
   "execution_count": null,
   "id": "04dc7e21",
   "metadata": {},
   "outputs": [],
   "source": []
  },
  {
   "cell_type": "code",
   "execution_count": null,
   "id": "ab4ddcd3",
   "metadata": {},
   "outputs": [],
   "source": []
  },
  {
   "cell_type": "code",
   "execution_count": null,
   "id": "d404facc",
   "metadata": {},
   "outputs": [],
   "source": []
  }
 ],
 "metadata": {
  "kernelspec": {
   "display_name": "Python 3 (ipykernel)",
   "language": "python",
   "name": "python3"
  },
  "language_info": {
   "codemirror_mode": {
    "name": "ipython",
    "version": 3
   },
   "file_extension": ".py",
   "mimetype": "text/x-python",
   "name": "python",
   "nbconvert_exporter": "python",
   "pygments_lexer": "ipython3",
   "version": "3.10.9"
  }
 },
 "nbformat": 4,
 "nbformat_minor": 5
}
